{
  "nbformat": 4,
  "nbformat_minor": 0,
  "metadata": {
    "colab": {
      "name": "transfer_learning_multiclass.ipynb",
      "provenance": [],
      "mount_file_id": "1jnyxtmBZW9GvZmAhlxY79ZN3q70g8PEH",
      "authorship_tag": "ABX9TyOLC8qwNztA0Af3oUbTgmN5",
      "include_colab_link": true
    },
    "kernelspec": {
      "name": "python3",
      "display_name": "Python 3"
    },
    "language_info": {
      "name": "python"
    },
    "accelerator": "GPU"
  },
  "cells": [
    {
      "cell_type": "markdown",
      "metadata": {
        "id": "view-in-github",
        "colab_type": "text"
      },
      "source": [
        "<a href=\"https://colab.research.google.com/github/patty1997/Deep_Learning_Projects/blob/main/transfer_learning_multiclass.ipynb\" target=\"_parent\"><img src=\"https://colab.research.google.com/assets/colab-badge.svg\" alt=\"Open In Colab\"/></a>"
      ]
    },
    {
      "cell_type": "code",
      "metadata": {
        "id": "UTn0-yXpKOne"
      },
      "source": [
        "import matplotlib.pyplot as plt\n",
        "import matplotlib.image as mpimg\n",
        "import numpy as np\n",
        "import glob\n",
        "import os\n",
        "import cv2\n",
        "\n",
        "plt.style.use('classic')\n",
        "\n",
        "from keras.models import Sequential\n",
        "from keras.preprocessing.image import ImageDataGenerator\n",
        "from keras.layers import BatchNormalization\n",
        "from keras.layers import Conv2D, MaxPooling2D, Dense, Flatten\n",
        "from keras.utils import normalize, to_categorical\n",
        "from keras.layers import Dropout\n",
        "from keras.optimizers import SGD, RMSprop"
      ],
      "execution_count": null,
      "outputs": []
    },
    {
      "cell_type": "code",
      "metadata": {
        "colab": {
          "base_uri": "https://localhost:8080/"
        },
        "id": "CWuVnDvJRONi",
        "outputId": "14c81202-6b73-467f-e46f-0d90db925d8e"
      },
      "source": [
        "SIZE = 32\n",
        "\n",
        "train_images = []\n",
        "train_labels = []\n",
        "\n",
        "for directory_path in glob.glob(\"/content/drive/MyDrive/Colab Notebooks/Data/Plant_Disease_CLassification/training_set/*\"):\n",
        "  label = directory_path.split(\"/\")[-1]\n",
        "  print(label)\n",
        "  for img_path in glob.glob(os.path.join(directory_path, \"*.JPG\")):\n",
        "    img = cv2.imread(img_path, cv2.IMREAD_COLOR)\n",
        "    img = cv2.resize(img, (SIZE,SIZE))\n",
        "    img = cv2.cvtColor(img, cv2.COLOR_RGB2BGR)\n",
        "    train_images.append(img)\n",
        "    train_labels.append(label)\n",
        "\n",
        "train_images = np.array(train_images)\n",
        "train_labels = np.array(train_labels)\n",
        "\n",
        "test_images = []\n",
        "test_labels = []\n",
        "\n",
        "for directory_path in glob.glob(\"/content/drive/MyDrive/Colab Notebooks/Data/Plant_Disease_CLassification/testing_set/*\"):\n",
        "  fruit_label = directory_path.split(\"/\")[-1]\n",
        "  print(fruit_label)\n",
        "  for img_path in glob.glob(os.path.join(directory_path, \"*.JPG\")):\n",
        "    img = cv2.imread(img_path, cv2.IMREAD_COLOR)\n",
        "    img = cv2.resize(img, (SIZE,SIZE))\n",
        "    img = cv2.cvtColor(img, cv2.COLOR_RGB2BGR)\n",
        "    test_images.append(img)\n",
        "    test_labels.append(fruit_label)\n",
        "\n",
        "test_images = np.array(test_images)\n",
        "test_labels = np.array(test_labels) "
      ],
      "execution_count": null,
      "outputs": [
        {
          "output_type": "stream",
          "text": [
            "Pepper__bell___healthy\n",
            "Tomato_Spider_mites_Two_spotted_spider_mite\n",
            "Potato___Late_blight\n",
            "Tomato__Tomato_mosaic_virus\n",
            "Tomato_Bacterial_spot\n",
            "Tomato_Leaf_Mold\n",
            "Pepper__bell___Bacterial_spot\n",
            "Potato___healthy\n",
            "Tomato_Septoria_leaf_spot\n",
            "Tomato__Target_Spot\n",
            "Tomato__Tomato_YellowLeaf__Curl_Virus\n",
            "Potato___Early_blight\n",
            "Tomato_healthy\n",
            "Tomato_Late_blight\n",
            "Tomato_Early_blight\n",
            "Tomato_Leaf_Mold\n",
            "Tomato_Septoria_leaf_spot\n",
            "Tomato__Target_Spot\n",
            "Tomato__Tomato_mosaic_virus\n",
            "Potato___Late_blight\n",
            "Potato___healthy\n",
            "Pepper__bell___Bacterial_spot\n",
            "Tomato_Spider_mites_Two_spotted_spider_mite\n",
            "Tomato_Bacterial_spot\n",
            "Pepper__bell___healthy\n",
            "Potato___Early_blight\n",
            "Tomato_healthy\n",
            "Tomato_Late_blight\n",
            "Tomato_Early_blight\n",
            "Tomato__Tomato_YellowLeaf__Curl_Virus\n"
          ],
          "name": "stdout"
        }
      ]
    },
    {
      "cell_type": "code",
      "metadata": {
        "colab": {
          "base_uri": "https://localhost:8080/"
        },
        "id": "toAC6S3cWBYm",
        "outputId": "15804e3e-13b3-44e4-a085-599a1eabf2a0"
      },
      "source": [
        "from sklearn import preprocessing\n",
        "le = preprocessing.LabelEncoder()\n",
        "test_labels_encoded = le.fit_transform(test_labels)\n",
        "train_labels_encoded = le.fit_transform(train_labels)\n",
        "\n",
        "print(np.unique(test_labels_encoded))\n",
        "print(np.unique(train_labels_encoded))"
      ],
      "execution_count": null,
      "outputs": [
        {
          "output_type": "stream",
          "text": [
            "[ 0  1  2  3  4  5  6  7  8  9 10 11 12 13 14]\n",
            "[ 0  1  2  3  4  5  6  7  8  9 10 11 12 13 14]\n"
          ],
          "name": "stdout"
        }
      ]
    },
    {
      "cell_type": "code",
      "metadata": {
        "id": "_uhikXNFXJx8"
      },
      "source": [
        "x_train, y_train, x_test, y_test = train_images, train_labels_encoded, test_images, test_labels_encoded\n",
        "\n",
        "x_train = (x_train.astype('float32'))/255.\n",
        "x_test = (x_test.astype('float32'))/255."
      ],
      "execution_count": null,
      "outputs": []
    },
    {
      "cell_type": "code",
      "metadata": {
        "colab": {
          "base_uri": "https://localhost:8080/"
        },
        "id": "k06HBBvYXiH7",
        "outputId": "3398d948-8702-43f0-f165-2e118dc40163"
      },
      "source": [
        "print(x_train.shape)\n",
        "print(x_test.shape)\n"
      ],
      "execution_count": null,
      "outputs": [
        {
          "output_type": "stream",
          "text": [
            "(1497, 32, 32, 3)\n",
            "(372, 32, 32, 3)\n"
          ],
          "name": "stdout"
        }
      ]
    },
    {
      "cell_type": "code",
      "metadata": {
        "colab": {
          "base_uri": "https://localhost:8080/"
        },
        "id": "GPX-J_mwYuZs",
        "outputId": "47a900f1-5138-4620-91c5-1fb0c47406c2"
      },
      "source": [
        "y_train = to_categorical(y_train)\n",
        "y_test = to_categorical(y_test)\n",
        "\n",
        "print(y_train[0])\n",
        "print(y_train[1])\n",
        "print(y_test[23])"
      ],
      "execution_count": null,
      "outputs": [
        {
          "output_type": "stream",
          "text": [
            "[0. 1. 0. 0. 0. 0. 0. 0. 0. 0. 0. 0. 0. 0. 0.]\n",
            "[0. 1. 0. 0. 0. 0. 0. 0. 0. 0. 0. 0. 0. 0. 0.]\n",
            "[0. 0. 0. 0. 0. 0. 0. 0. 1. 0. 0. 0. 0. 0. 0.]\n"
          ],
          "name": "stdout"
        }
      ]
    },
    {
      "cell_type": "code",
      "metadata": {
        "colab": {
          "base_uri": "https://localhost:8080/"
        },
        "id": "8jb1wyxXZGA1",
        "outputId": "b16e7092-a9e9-47cf-bbd3-ae9af4fea975"
      },
      "source": [
        "drop =0.25\n",
        "\n",
        "kernel_initializer = 'he_uniform'\n",
        "\n",
        "model1= Sequential()\n",
        "\n",
        "model1.add(Conv2D(32,(3,3),activation='relu',kernel_initializer=kernel_initializer,padding='same',input_shape=(32,32,3)))\n",
        "model1.add(Conv2D(32,(3,3),activation='relu',kernel_initializer=kernel_initializer,padding='same'))\n",
        "model1.add(MaxPooling2D((2,2)))\n",
        "model1.add(Dropout(drop))\n",
        "\n",
        "model1.add(Conv2D(64,(3,3),activation='relu',kernel_initializer=kernel_initializer,padding='same'))\n",
        "model1.add(Conv2D(64,(3,3),activation='relu',kernel_initializer=kernel_initializer,padding='same'))\n",
        "model1.add(MaxPooling2D((2,2)))\n",
        "model1.add(Dropout(drop))\n",
        "\n",
        "model1.add(Conv2D(128,(3,3),activation='relu',kernel_initializer=kernel_initializer,padding='same'))\n",
        "model1.add(Conv2D(128,(3,3),activation='relu',kernel_initializer=kernel_initializer,padding='same'))\n",
        "model1.add(MaxPooling2D((2,2)))\n",
        "model1.add(Dropout(drop))\n",
        "\n",
        "model1.add(Flatten())\n",
        "model1.add(Dense(512, activation='relu', kernel_initializer=kernel_initializer))\n",
        "model1.add(Dropout(drop))\n",
        "model1.add(Dense(15, activation='sigmoid'))\n",
        "\n",
        "opt1 = SGD(lr=0.001, momentum=0.9)\n",
        "opt2 = RMSprop(lr=0.001, decay=1e-6)\n",
        "model1.compile(optimizer=opt1, loss='categorical_crossentropy',metrics=['accuracy'])\n",
        "model1.summary()"
      ],
      "execution_count": null,
      "outputs": [
        {
          "output_type": "stream",
          "text": [
            "Model: \"sequential\"\n",
            "_________________________________________________________________\n",
            "Layer (type)                 Output Shape              Param #   \n",
            "=================================================================\n",
            "conv2d (Conv2D)              (None, 32, 32, 32)        896       \n",
            "_________________________________________________________________\n",
            "conv2d_1 (Conv2D)            (None, 32, 32, 32)        9248      \n",
            "_________________________________________________________________\n",
            "max_pooling2d (MaxPooling2D) (None, 16, 16, 32)        0         \n",
            "_________________________________________________________________\n",
            "dropout (Dropout)            (None, 16, 16, 32)        0         \n",
            "_________________________________________________________________\n",
            "conv2d_2 (Conv2D)            (None, 16, 16, 64)        18496     \n",
            "_________________________________________________________________\n",
            "conv2d_3 (Conv2D)            (None, 16, 16, 64)        36928     \n",
            "_________________________________________________________________\n",
            "max_pooling2d_1 (MaxPooling2 (None, 8, 8, 64)          0         \n",
            "_________________________________________________________________\n",
            "dropout_1 (Dropout)          (None, 8, 8, 64)          0         \n",
            "_________________________________________________________________\n",
            "conv2d_4 (Conv2D)            (None, 8, 8, 128)         73856     \n",
            "_________________________________________________________________\n",
            "conv2d_5 (Conv2D)            (None, 8, 8, 128)         147584    \n",
            "_________________________________________________________________\n",
            "max_pooling2d_2 (MaxPooling2 (None, 4, 4, 128)         0         \n",
            "_________________________________________________________________\n",
            "dropout_2 (Dropout)          (None, 4, 4, 128)         0         \n",
            "_________________________________________________________________\n",
            "flatten (Flatten)            (None, 2048)              0         \n",
            "_________________________________________________________________\n",
            "dense (Dense)                (None, 512)               1049088   \n",
            "_________________________________________________________________\n",
            "dropout_3 (Dropout)          (None, 512)               0         \n",
            "_________________________________________________________________\n",
            "dense_1 (Dense)              (None, 15)                7695      \n",
            "=================================================================\n",
            "Total params: 1,343,791\n",
            "Trainable params: 1,343,791\n",
            "Non-trainable params: 0\n",
            "_________________________________________________________________\n"
          ],
          "name": "stdout"
        }
      ]
    },
    {
      "cell_type": "code",
      "metadata": {
        "id": "wqQ5M7wMZuK5"
      },
      "source": [
        "train_datagen = ImageDataGenerator(rotation_range=45,width_shift_range=0.2,zoom_range=0.2,horizontal_flip=True)\n",
        "train_datagen.fit(x_train)\n",
        "\n",
        "train_generator = train_datagen.flow(x_train, y_train, batch_size=32)"
      ],
      "execution_count": null,
      "outputs": []
    },
    {
      "cell_type": "code",
      "metadata": {
        "colab": {
          "base_uri": "https://localhost:8080/"
        },
        "id": "WVWBym8-Z0hk",
        "outputId": "47d84fc6-7fa8-413f-adc7-378ef9f64ecd"
      },
      "source": [
        "history = model1.fit(x_train, y_train, epochs=100, batch_size=64, validation_data=(x_test,y_test),verbose=1)"
      ],
      "execution_count": null,
      "outputs": [
        {
          "output_type": "stream",
          "text": [
            "Epoch 1/100\n",
            "24/24 [==============================] - 4s 42ms/step - loss: 3.3295 - accuracy: 0.0730 - val_loss: 2.7007 - val_accuracy: 0.1102\n",
            "Epoch 2/100\n",
            "24/24 [==============================] - 0s 10ms/step - loss: 2.7381 - accuracy: 0.0572 - val_loss: 2.6943 - val_accuracy: 0.0968\n",
            "Epoch 3/100\n",
            "24/24 [==============================] - 0s 9ms/step - loss: 2.7034 - accuracy: 0.0843 - val_loss: 2.6916 - val_accuracy: 0.1237\n",
            "Epoch 4/100\n",
            "24/24 [==============================] - 0s 10ms/step - loss: 2.7120 - accuracy: 0.0529 - val_loss: 2.6892 - val_accuracy: 0.1290\n",
            "Epoch 5/100\n",
            "24/24 [==============================] - 0s 10ms/step - loss: 2.6938 - accuracy: 0.0911 - val_loss: 2.6831 - val_accuracy: 0.1371\n",
            "Epoch 6/100\n",
            "24/24 [==============================] - 0s 10ms/step - loss: 2.6932 - accuracy: 0.0962 - val_loss: 2.6767 - val_accuracy: 0.1263\n",
            "Epoch 7/100\n",
            "24/24 [==============================] - 0s 10ms/step - loss: 2.6822 - accuracy: 0.0923 - val_loss: 2.6698 - val_accuracy: 0.1478\n",
            "Epoch 8/100\n",
            "24/24 [==============================] - 0s 10ms/step - loss: 2.6782 - accuracy: 0.0979 - val_loss: 2.6622 - val_accuracy: 0.1290\n",
            "Epoch 9/100\n",
            "24/24 [==============================] - 0s 9ms/step - loss: 2.6823 - accuracy: 0.0839 - val_loss: 2.6568 - val_accuracy: 0.2151\n",
            "Epoch 10/100\n",
            "24/24 [==============================] - 0s 9ms/step - loss: 2.6593 - accuracy: 0.1063 - val_loss: 2.6462 - val_accuracy: 0.1909\n",
            "Epoch 11/100\n",
            "24/24 [==============================] - 0s 10ms/step - loss: 2.6558 - accuracy: 0.1088 - val_loss: 2.6359 - val_accuracy: 0.2258\n",
            "Epoch 12/100\n",
            "24/24 [==============================] - 0s 10ms/step - loss: 2.6409 - accuracy: 0.1370 - val_loss: 2.6240 - val_accuracy: 0.2715\n",
            "Epoch 13/100\n",
            "24/24 [==============================] - 0s 10ms/step - loss: 2.6308 - accuracy: 0.1439 - val_loss: 2.6029 - val_accuracy: 0.2258\n",
            "Epoch 14/100\n",
            "24/24 [==============================] - 0s 9ms/step - loss: 2.6067 - accuracy: 0.1428 - val_loss: 2.5851 - val_accuracy: 0.3038\n",
            "Epoch 15/100\n",
            "24/24 [==============================] - 0s 9ms/step - loss: 2.5910 - accuracy: 0.1508 - val_loss: 2.5530 - val_accuracy: 0.3172\n",
            "Epoch 16/100\n",
            "24/24 [==============================] - 0s 11ms/step - loss: 2.5778 - accuracy: 0.1698 - val_loss: 2.5122 - val_accuracy: 0.3145\n",
            "Epoch 17/100\n",
            "24/24 [==============================] - 0s 10ms/step - loss: 2.5390 - accuracy: 0.1768 - val_loss: 2.4648 - val_accuracy: 0.3172\n",
            "Epoch 18/100\n",
            "24/24 [==============================] - 0s 10ms/step - loss: 2.4747 - accuracy: 0.2257 - val_loss: 2.4009 - val_accuracy: 0.3468\n",
            "Epoch 19/100\n",
            "24/24 [==============================] - 0s 9ms/step - loss: 2.4465 - accuracy: 0.2255 - val_loss: 2.3320 - val_accuracy: 0.3629\n",
            "Epoch 20/100\n",
            "24/24 [==============================] - 0s 9ms/step - loss: 2.3618 - accuracy: 0.2620 - val_loss: 2.2346 - val_accuracy: 0.3763\n",
            "Epoch 21/100\n",
            "24/24 [==============================] - 0s 9ms/step - loss: 2.3217 - accuracy: 0.2415 - val_loss: 2.1607 - val_accuracy: 0.3683\n",
            "Epoch 22/100\n",
            "24/24 [==============================] - 0s 10ms/step - loss: 2.2646 - accuracy: 0.2710 - val_loss: 2.1400 - val_accuracy: 0.3629\n",
            "Epoch 23/100\n",
            "24/24 [==============================] - 0s 10ms/step - loss: 2.1894 - accuracy: 0.2926 - val_loss: 2.0254 - val_accuracy: 0.4247\n",
            "Epoch 24/100\n",
            "24/24 [==============================] - 0s 10ms/step - loss: 2.0972 - accuracy: 0.3314 - val_loss: 1.9773 - val_accuracy: 0.4328\n",
            "Epoch 25/100\n",
            "24/24 [==============================] - 0s 10ms/step - loss: 2.0633 - accuracy: 0.3295 - val_loss: 1.8712 - val_accuracy: 0.4489\n",
            "Epoch 26/100\n",
            "24/24 [==============================] - 0s 10ms/step - loss: 1.9886 - accuracy: 0.3711 - val_loss: 1.8231 - val_accuracy: 0.4785\n",
            "Epoch 27/100\n",
            "24/24 [==============================] - 0s 10ms/step - loss: 1.9454 - accuracy: 0.3818 - val_loss: 1.8931 - val_accuracy: 0.4516\n",
            "Epoch 28/100\n",
            "24/24 [==============================] - 0s 10ms/step - loss: 1.9132 - accuracy: 0.3821 - val_loss: 1.7300 - val_accuracy: 0.4758\n",
            "Epoch 29/100\n",
            "24/24 [==============================] - 0s 10ms/step - loss: 1.8566 - accuracy: 0.3956 - val_loss: 1.8036 - val_accuracy: 0.4220\n",
            "Epoch 30/100\n",
            "24/24 [==============================] - 0s 10ms/step - loss: 1.8390 - accuracy: 0.3710 - val_loss: 1.6488 - val_accuracy: 0.5000\n",
            "Epoch 31/100\n",
            "24/24 [==============================] - 0s 9ms/step - loss: 1.6815 - accuracy: 0.4437 - val_loss: 1.6507 - val_accuracy: 0.4731\n",
            "Epoch 32/100\n",
            "24/24 [==============================] - 0s 9ms/step - loss: 1.7401 - accuracy: 0.4444 - val_loss: 1.5407 - val_accuracy: 0.5699\n",
            "Epoch 33/100\n",
            "24/24 [==============================] - 0s 9ms/step - loss: 1.6886 - accuracy: 0.4210 - val_loss: 1.5385 - val_accuracy: 0.5403\n",
            "Epoch 34/100\n",
            "24/24 [==============================] - 0s 10ms/step - loss: 1.6366 - accuracy: 0.4690 - val_loss: 1.5393 - val_accuracy: 0.5323\n",
            "Epoch 35/100\n",
            "24/24 [==============================] - 0s 10ms/step - loss: 1.5569 - accuracy: 0.4923 - val_loss: 1.4890 - val_accuracy: 0.5403\n",
            "Epoch 36/100\n",
            "24/24 [==============================] - 0s 10ms/step - loss: 1.5270 - accuracy: 0.5014 - val_loss: 1.4243 - val_accuracy: 0.5806\n",
            "Epoch 37/100\n",
            "24/24 [==============================] - 0s 10ms/step - loss: 1.5589 - accuracy: 0.4794 - val_loss: 1.5870 - val_accuracy: 0.4839\n",
            "Epoch 38/100\n",
            "24/24 [==============================] - 0s 9ms/step - loss: 1.4977 - accuracy: 0.5156 - val_loss: 1.3656 - val_accuracy: 0.5887\n",
            "Epoch 39/100\n",
            "24/24 [==============================] - 0s 10ms/step - loss: 1.3981 - accuracy: 0.5579 - val_loss: 1.4234 - val_accuracy: 0.5269\n",
            "Epoch 40/100\n",
            "24/24 [==============================] - 0s 10ms/step - loss: 1.4138 - accuracy: 0.5267 - val_loss: 1.3075 - val_accuracy: 0.6048\n",
            "Epoch 41/100\n",
            "24/24 [==============================] - 0s 10ms/step - loss: 1.3267 - accuracy: 0.5611 - val_loss: 1.2567 - val_accuracy: 0.6263\n",
            "Epoch 42/100\n",
            "24/24 [==============================] - 0s 10ms/step - loss: 1.3522 - accuracy: 0.5319 - val_loss: 1.5199 - val_accuracy: 0.4973\n",
            "Epoch 43/100\n",
            "24/24 [==============================] - 0s 9ms/step - loss: 1.3372 - accuracy: 0.5430 - val_loss: 1.3279 - val_accuracy: 0.5780\n",
            "Epoch 44/100\n",
            "24/24 [==============================] - 0s 9ms/step - loss: 1.2725 - accuracy: 0.5809 - val_loss: 1.2071 - val_accuracy: 0.6371\n",
            "Epoch 45/100\n",
            "24/24 [==============================] - 0s 10ms/step - loss: 1.2895 - accuracy: 0.5739 - val_loss: 1.2660 - val_accuracy: 0.5887\n",
            "Epoch 46/100\n",
            "24/24 [==============================] - 0s 10ms/step - loss: 1.2669 - accuracy: 0.5795 - val_loss: 1.3864 - val_accuracy: 0.5376\n",
            "Epoch 47/100\n",
            "24/24 [==============================] - 0s 10ms/step - loss: 1.3629 - accuracy: 0.5484 - val_loss: 1.3627 - val_accuracy: 0.5565\n",
            "Epoch 48/100\n",
            "24/24 [==============================] - 0s 10ms/step - loss: 1.3339 - accuracy: 0.5576 - val_loss: 1.2648 - val_accuracy: 0.5860\n",
            "Epoch 49/100\n",
            "24/24 [==============================] - 0s 9ms/step - loss: 1.2428 - accuracy: 0.5943 - val_loss: 1.1276 - val_accuracy: 0.6613\n",
            "Epoch 50/100\n",
            "24/24 [==============================] - 0s 9ms/step - loss: 1.1603 - accuracy: 0.5980 - val_loss: 1.1839 - val_accuracy: 0.6183\n",
            "Epoch 51/100\n",
            "24/24 [==============================] - 0s 10ms/step - loss: 1.1979 - accuracy: 0.5971 - val_loss: 1.2465 - val_accuracy: 0.5887\n",
            "Epoch 52/100\n",
            "24/24 [==============================] - 0s 10ms/step - loss: 1.2599 - accuracy: 0.5658 - val_loss: 1.2291 - val_accuracy: 0.5968\n",
            "Epoch 53/100\n",
            "24/24 [==============================] - 0s 10ms/step - loss: 1.2300 - accuracy: 0.5951 - val_loss: 1.1651 - val_accuracy: 0.6317\n",
            "Epoch 54/100\n",
            "24/24 [==============================] - 0s 10ms/step - loss: 1.1080 - accuracy: 0.6335 - val_loss: 1.1445 - val_accuracy: 0.6344\n",
            "Epoch 55/100\n",
            "24/24 [==============================] - 0s 9ms/step - loss: 1.1503 - accuracy: 0.6112 - val_loss: 1.1297 - val_accuracy: 0.6344\n",
            "Epoch 56/100\n",
            "24/24 [==============================] - 0s 9ms/step - loss: 1.1083 - accuracy: 0.6169 - val_loss: 1.0904 - val_accuracy: 0.6559\n",
            "Epoch 57/100\n",
            "24/24 [==============================] - 0s 10ms/step - loss: 1.0805 - accuracy: 0.6381 - val_loss: 1.1274 - val_accuracy: 0.6452\n",
            "Epoch 58/100\n",
            "24/24 [==============================] - 0s 10ms/step - loss: 1.0373 - accuracy: 0.6494 - val_loss: 1.0486 - val_accuracy: 0.6935\n",
            "Epoch 59/100\n",
            "24/24 [==============================] - 0s 10ms/step - loss: 1.0869 - accuracy: 0.6380 - val_loss: 1.0448 - val_accuracy: 0.6774\n",
            "Epoch 60/100\n",
            "24/24 [==============================] - 0s 9ms/step - loss: 0.9744 - accuracy: 0.6738 - val_loss: 0.9760 - val_accuracy: 0.7124\n",
            "Epoch 61/100\n",
            "24/24 [==============================] - 0s 9ms/step - loss: 0.9958 - accuracy: 0.6639 - val_loss: 1.0861 - val_accuracy: 0.6452\n",
            "Epoch 62/100\n",
            "24/24 [==============================] - 0s 9ms/step - loss: 0.9852 - accuracy: 0.6762 - val_loss: 1.1169 - val_accuracy: 0.6183\n",
            "Epoch 63/100\n",
            "24/24 [==============================] - 0s 10ms/step - loss: 1.0110 - accuracy: 0.6481 - val_loss: 0.9902 - val_accuracy: 0.6855\n",
            "Epoch 64/100\n",
            "24/24 [==============================] - 0s 11ms/step - loss: 0.9514 - accuracy: 0.6746 - val_loss: 1.1012 - val_accuracy: 0.6398\n",
            "Epoch 65/100\n",
            "24/24 [==============================] - 0s 10ms/step - loss: 0.9513 - accuracy: 0.6773 - val_loss: 1.0582 - val_accuracy: 0.6532\n",
            "Epoch 66/100\n",
            "24/24 [==============================] - 0s 10ms/step - loss: 0.9427 - accuracy: 0.6858 - val_loss: 1.0390 - val_accuracy: 0.6909\n",
            "Epoch 67/100\n",
            "24/24 [==============================] - 0s 10ms/step - loss: 0.9136 - accuracy: 0.6936 - val_loss: 0.8995 - val_accuracy: 0.7339\n",
            "Epoch 68/100\n",
            "24/24 [==============================] - 0s 10ms/step - loss: 0.8902 - accuracy: 0.6968 - val_loss: 0.9345 - val_accuracy: 0.7097\n",
            "Epoch 69/100\n",
            "24/24 [==============================] - 0s 10ms/step - loss: 0.8819 - accuracy: 0.6918 - val_loss: 0.9994 - val_accuracy: 0.6855\n",
            "Epoch 70/100\n",
            "24/24 [==============================] - 0s 10ms/step - loss: 0.9132 - accuracy: 0.6837 - val_loss: 0.9602 - val_accuracy: 0.7285\n",
            "Epoch 71/100\n",
            "24/24 [==============================] - 0s 10ms/step - loss: 0.8157 - accuracy: 0.7386 - val_loss: 0.8608 - val_accuracy: 0.7527\n",
            "Epoch 72/100\n",
            "24/24 [==============================] - 0s 9ms/step - loss: 0.7367 - accuracy: 0.7437 - val_loss: 0.8676 - val_accuracy: 0.7312\n",
            "Epoch 73/100\n",
            "24/24 [==============================] - 0s 10ms/step - loss: 0.8922 - accuracy: 0.6902 - val_loss: 0.8465 - val_accuracy: 0.7608\n",
            "Epoch 74/100\n",
            "24/24 [==============================] - 0s 10ms/step - loss: 0.7969 - accuracy: 0.7355 - val_loss: 0.8555 - val_accuracy: 0.7258\n",
            "Epoch 75/100\n",
            "24/24 [==============================] - 0s 10ms/step - loss: 0.8701 - accuracy: 0.7000 - val_loss: 0.8449 - val_accuracy: 0.7392\n",
            "Epoch 76/100\n",
            "24/24 [==============================] - 0s 10ms/step - loss: 0.7508 - accuracy: 0.7490 - val_loss: 0.7983 - val_accuracy: 0.7715\n",
            "Epoch 77/100\n",
            "24/24 [==============================] - 0s 10ms/step - loss: 0.7696 - accuracy: 0.7385 - val_loss: 0.8570 - val_accuracy: 0.7419\n",
            "Epoch 78/100\n",
            "24/24 [==============================] - 0s 9ms/step - loss: 0.7270 - accuracy: 0.7295 - val_loss: 0.8088 - val_accuracy: 0.7554\n",
            "Epoch 79/100\n",
            "24/24 [==============================] - 0s 9ms/step - loss: 0.7575 - accuracy: 0.7316 - val_loss: 0.8039 - val_accuracy: 0.7312\n",
            "Epoch 80/100\n",
            "24/24 [==============================] - 0s 10ms/step - loss: 0.6634 - accuracy: 0.7699 - val_loss: 0.8097 - val_accuracy: 0.7392\n",
            "Epoch 81/100\n",
            "24/24 [==============================] - 0s 10ms/step - loss: 0.6759 - accuracy: 0.7837 - val_loss: 0.8697 - val_accuracy: 0.7204\n",
            "Epoch 82/100\n",
            "24/24 [==============================] - 0s 10ms/step - loss: 0.6629 - accuracy: 0.7829 - val_loss: 0.7840 - val_accuracy: 0.7661\n",
            "Epoch 83/100\n",
            "24/24 [==============================] - 0s 9ms/step - loss: 0.6911 - accuracy: 0.7576 - val_loss: 0.7782 - val_accuracy: 0.7392\n",
            "Epoch 84/100\n",
            "24/24 [==============================] - 0s 10ms/step - loss: 0.6386 - accuracy: 0.7764 - val_loss: 0.7407 - val_accuracy: 0.7581\n",
            "Epoch 85/100\n",
            "24/24 [==============================] - 0s 10ms/step - loss: 0.6727 - accuracy: 0.7703 - val_loss: 0.8485 - val_accuracy: 0.7312\n",
            "Epoch 86/100\n",
            "24/24 [==============================] - 0s 10ms/step - loss: 0.7318 - accuracy: 0.7492 - val_loss: 0.7914 - val_accuracy: 0.7608\n",
            "Epoch 87/100\n",
            "24/24 [==============================] - 0s 10ms/step - loss: 0.6208 - accuracy: 0.7821 - val_loss: 0.8261 - val_accuracy: 0.7446\n",
            "Epoch 88/100\n",
            "24/24 [==============================] - 0s 10ms/step - loss: 0.6000 - accuracy: 0.8012 - val_loss: 0.7378 - val_accuracy: 0.7715\n",
            "Epoch 89/100\n",
            "24/24 [==============================] - 0s 10ms/step - loss: 0.5566 - accuracy: 0.8175 - val_loss: 0.6873 - val_accuracy: 0.7957\n",
            "Epoch 90/100\n",
            "24/24 [==============================] - 0s 9ms/step - loss: 0.6408 - accuracy: 0.7988 - val_loss: 0.7209 - val_accuracy: 0.7823\n",
            "Epoch 91/100\n",
            "24/24 [==============================] - 0s 10ms/step - loss: 0.5970 - accuracy: 0.7972 - val_loss: 0.8197 - val_accuracy: 0.7204\n",
            "Epoch 92/100\n",
            "24/24 [==============================] - 0s 10ms/step - loss: 0.5879 - accuracy: 0.8162 - val_loss: 0.7614 - val_accuracy: 0.7608\n",
            "Epoch 93/100\n",
            "24/24 [==============================] - 0s 11ms/step - loss: 0.5891 - accuracy: 0.7969 - val_loss: 0.7742 - val_accuracy: 0.7500\n",
            "Epoch 94/100\n",
            "24/24 [==============================] - 0s 9ms/step - loss: 0.5709 - accuracy: 0.8071 - val_loss: 0.7673 - val_accuracy: 0.7715\n",
            "Epoch 95/100\n",
            "24/24 [==============================] - 0s 9ms/step - loss: 0.5384 - accuracy: 0.8226 - val_loss: 0.7465 - val_accuracy: 0.7715\n",
            "Epoch 96/100\n",
            "24/24 [==============================] - 0s 10ms/step - loss: 0.5064 - accuracy: 0.8104 - val_loss: 0.7544 - val_accuracy: 0.7823\n",
            "Epoch 97/100\n",
            "24/24 [==============================] - 0s 10ms/step - loss: 0.5633 - accuracy: 0.8034 - val_loss: 0.7227 - val_accuracy: 0.7984\n",
            "Epoch 98/100\n",
            "24/24 [==============================] - 0s 10ms/step - loss: 0.4945 - accuracy: 0.8268 - val_loss: 0.9218 - val_accuracy: 0.7177\n",
            "Epoch 99/100\n",
            "24/24 [==============================] - 0s 11ms/step - loss: 0.5384 - accuracy: 0.8047 - val_loss: 0.7884 - val_accuracy: 0.7581\n",
            "Epoch 100/100\n",
            "24/24 [==============================] - 0s 9ms/step - loss: 0.5338 - accuracy: 0.8245 - val_loss: 0.7018 - val_accuracy: 0.7849\n"
          ],
          "name": "stdout"
        }
      ]
    },
    {
      "cell_type": "code",
      "metadata": {
        "colab": {
          "base_uri": "https://localhost:8080/"
        },
        "id": "xpC4jsaffGdw",
        "outputId": "923eb2be-4a80-4807-8a8b-f63ae419f92f"
      },
      "source": [
        "_, acc = model1.evaluate(x_test, y_test)\n",
        "print(\"Accuracy = \",(acc * 100.0),\"%\")"
      ],
      "execution_count": null,
      "outputs": [
        {
          "output_type": "stream",
          "text": [
            "12/12 [==============================] - 0s 11ms/step - loss: 0.7018 - accuracy: 0.7849\n",
            "Accuracy =  78.49462628364563 %\n"
          ],
          "name": "stdout"
        }
      ]
    },
    {
      "cell_type": "code",
      "metadata": {
        "colab": {
          "base_uri": "https://localhost:8080/",
          "height": 579
        },
        "id": "mMgOEtEbfPUB",
        "outputId": "b0bd9e17-efd0-4793-e12e-775c381b1dc8"
      },
      "source": [
        "loss = history.history['loss']\n",
        "val_loss = history.history['val_loss']\n",
        "epochs = range(1, len(loss)+1)\n",
        "plt.plot(epochs,loss,'y',label='Training loss')\n",
        "plt.plot(epochs,val_loss,'r',label='Validation loss')\n",
        "plt.title('Training and validation loss')\n",
        "plt.xlabel('Epochs')\n",
        "plt.ylabel('Loss')\n",
        "plt.legend()\n",
        "plt.show()\n",
        "\n",
        "loss = history.history['accuracy']\n",
        "val_loss = history.history['val_accuracy']\n",
        "epochs = range(1, len(loss)+1)\n",
        "plt.plot(epochs,loss,'y',label='Training acc')\n",
        "plt.plot(epochs,val_loss,'r',label='Validation acc')\n",
        "plt.title('Training and validation acc')\n",
        "plt.xlabel('Epochs')\n",
        "plt.ylabel('Accuracy')\n",
        "plt.legend()\n",
        "plt.show()"
      ],
      "execution_count": null,
      "outputs": [
        {
          "output_type": "display_data",
          "data": {
            "image/png": "[encoded data removed]",
            "text/plain": [
              "<Figure size 432x288 with 1 Axes>"
            ]
          },
          "metadata": {
            "tags": [],
            "needs_background": "light"
          }
        },
        {
          "output_type": "display_data",
          "data": {
            "image/png": "[encoded data removed]",
            "text/plain": [
              "<Figure size 432x288 with 1 Axes>"
            ]
          },
          "metadata": {
            "tags": [],
            "needs_background": "light"
          }
        }
      ]
    }
  ]
}