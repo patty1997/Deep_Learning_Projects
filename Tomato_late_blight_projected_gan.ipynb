{
  "nbformat": 4,
  "nbformat_minor": 0,
  "metadata": {
    "colab": {
      "name": "Tomato_late_blight_projected_gan.ipynb",
      "provenance": [],
      "collapsed_sections": [],
      "machine_shape": "hm",
      "include_colab_link": true
    },
    "kernelspec": {
      "name": "python3",
      "display_name": "Python 3"
    },
    "language_info": {
      "name": "python"
    },
    "accelerator": "GPU"
  },
  "cells": [
    {
      "cell_type": "markdown",
      "metadata": {
        "id": "view-in-github",
        "colab_type": "text"
      },
      "source": [
        "<a href=\"https://colab.research.google.com/github/patty1997/Deep_Learning_Projects/blob/GANs_Pytorch_Implementation/Tomato_late_blight_projected_gan.ipynb\" target=\"_parent\"><img src=\"https://colab.research.google.com/assets/colab-badge.svg\" alt=\"Open In Colab\"/></a>"
      ]
    },
    {
      "cell_type": "markdown",
      "metadata": {
        "id": "RUaixszCnlKd"
      },
      "source": [
        "\n",
        "# Training Projected GAN\n",
        "This is a self-contained notebook for training Projected GAN."
      ]
    },
    {
      "cell_type": "markdown",
      "metadata": {
        "id": "SBwzYACTn05w"
      },
      "source": [
        "## Setup\n",
        "\n",
        "Make sure you're running a GPU runtime; if not, select \"GPU\" as the hardware accelerator in Runtime > Change Runtime Type in the menu. \n",
        "\n",
        "Now, get the repo and install missing dependencies."
      ]
    },
    {
      "cell_type": "code",
      "source": [
        "from google.colab import drive\n",
        "drive.mount('/content/drive')"
      ],
      "metadata": {
        "id": "id5v_-boS47h",
        "outputId": "c42fed8b-20a4-42d2-e1df-e3b4b35319e8",
        "colab": {
          "base_uri": "https://localhost:8080/"
        }
      },
      "execution_count": 1,
      "outputs": [
        {
          "output_type": "stream",
          "name": "stdout",
          "text": [
            "Mounted at /content/drive\n"
          ]
        }
      ]
    },
    {
      "cell_type": "code",
      "metadata": {
        "id": "VZ3pwUJSoOdO"
      },
      "source": [
        "%%capture\n",
        "%%bash\n",
        "# clone repo\n",
        "git clone https://github.com/autonomousvision/projected_gan\n",
        "pip install timm dill"
      ],
      "execution_count": 2,
      "outputs": []
    },
    {
      "cell_type": "code",
      "metadata": {
        "id": "i4N21o-gzMjB",
        "outputId": "8c36ff5c-972c-4e0b-ed89-88fb8f7cb492",
        "colab": {
          "base_uri": "https://localhost:8080/"
        }
      },
      "source": [
        "%cd projected_gan"
      ],
      "execution_count": 3,
      "outputs": [
        {
          "output_type": "stream",
          "name": "stdout",
          "text": [
            "/content/projected_gan\n"
          ]
        }
      ]
    },
    {
      "cell_type": "markdown",
      "metadata": {
        "id": "G0hD7dKQR00t"
      },
      "source": [
        "## Data Preparation\n",
        "We need to download and prepare the data. In this example, we use the few-shot datasets of the [FastGAN repo](https://github.com/odegeasslbc/FastGAN-pytorch)."
      ]
    },
    {
      "cell_type": "code",
      "metadata": {
        "id": "1mz2_Eynze8K"
      },
      "source": [
        "# !gdown https://drive.google.com/u/0/uc?id=1aAJCZbXNHyraJ6Mi13dSbe7pTyfPXha0&export=download"
      ],
      "execution_count": 4,
      "outputs": []
    },
    {
      "cell_type": "code",
      "metadata": {
        "id": "S6NTT3zVzesu"
      },
      "source": [
        "# %%capture\n",
        "# !unzip few-shot-image-datasets.zip\n",
        "# !mv few-shot-images data"
      ],
      "execution_count": 5,
      "outputs": []
    },
    {
      "cell_type": "code",
      "metadata": {
        "id": "_TnMmxJrPFZs",
        "outputId": "b13918be-c7d6-4bc5-89e0-4577d412890d",
        "colab": {
          "base_uri": "https://localhost:8080/"
        }
      },
      "source": [
        "%%bash\n",
        "python dataset_tool.py --source=/content/drive/MyDrive/Plant_Dataset/Tomato_Late_blight --dest=/content/tomato_late_blight256.zip --resolution=256x256"
      ],
      "execution_count": 6,
      "outputs": [
        {
          "output_type": "stream",
          "name": "stderr",
          "text": [
            "\r  0%|          | 0/1932 [00:00<?, ?it/s]\r  0%|          | 1/1932 [00:00<06:28,  4.98it/s]\r  0%|          | 2/1932 [00:00<07:20,  4.38it/s]\r  0%|          | 3/1932 [00:00<07:17,  4.41it/s]\r  0%|          | 4/1932 [00:01<09:16,  3.47it/s]\r  0%|          | 5/1932 [00:01<08:09,  3.93it/s]\r  0%|          | 6/1932 [00:01<07:59,  4.02it/s]\r  0%|          | 7/1932 [00:01<07:53,  4.07it/s]\r  0%|          | 8/1932 [00:01<07:44,  4.14it/s]\r  0%|          | 9/1932 [00:02<09:10,  3.50it/s]\r  1%|          | 10/1932 [00:02<09:00,  3.55it/s]\r  1%|          | 11/1932 [00:02<08:14,  3.88it/s]\r  1%|          | 12/1932 [00:03<08:17,  3.86it/s]\r  1%|          | 13/1932 [00:03<07:48,  4.10it/s]\r  1%|          | 14/1932 [00:03<07:51,  4.07it/s]\r  1%|          | 15/1932 [00:03<07:43,  4.14it/s]\r  1%|          | 16/1932 [00:03<07:30,  4.25it/s]\r  1%|          | 17/1932 [00:04<07:07,  4.48it/s]\r  1%|          | 18/1932 [00:04<06:56,  4.60it/s]\r  1%|          | 19/1932 [00:04<06:56,  4.59it/s]\r  1%|          | 20/1932 [00:06<22:38,  1.41it/s]\r  1%|          | 21/1932 [00:15<1:37:41,  3.07s/it]\r  2%|▏         | 36/1932 [00:15<13:13,  2.39it/s]  \r  3%|▎         | 52/1932 [00:15<05:46,  5.43it/s]\r  3%|▎         | 66/1932 [00:15<03:26,  9.03it/s]\r  4%|▍         | 82/1932 [00:15<02:06, 14.60it/s]\r  5%|▌         | 99/1932 [00:15<01:21, 22.35it/s]\r  6%|▌         | 116/1932 [00:15<00:56, 32.14it/s]\r  7%|▋         | 133/1932 [00:15<00:40, 44.00it/s]\r  8%|▊         | 151/1932 [00:15<00:30, 58.90it/s]\r  9%|▊         | 169/1932 [00:15<00:23, 74.78it/s]\r 10%|▉         | 187/1932 [00:16<00:19, 91.20it/s]\r 11%|█         | 204/1932 [00:16<00:16, 105.67it/s]\r 11%|█▏        | 221/1932 [00:16<00:14, 119.18it/s]\r 12%|█▏        | 238/1932 [00:16<00:12, 130.57it/s]\r 13%|█▎        | 255/1932 [00:16<00:12, 138.45it/s]\r 14%|█▍        | 273/1932 [00:16<00:11, 148.22it/s]\r 15%|█▌        | 291/1932 [00:16<00:10, 154.43it/s]\r 16%|█▌        | 308/1932 [00:16<00:10, 157.78it/s]\r 17%|█▋        | 325/1932 [00:16<00:10, 160.48it/s]\r 18%|█▊        | 342/1932 [00:16<00:09, 162.44it/s]\r 19%|█▊        | 360/1932 [00:17<00:09, 166.66it/s]\r 20%|█▉        | 378/1932 [00:17<00:09, 169.68it/s]\r 20%|██        | 396/1932 [00:17<00:09, 169.76it/s]\r 21%|██▏       | 414/1932 [00:17<00:09, 167.65it/s]\r 22%|██▏       | 431/1932 [00:17<00:08, 167.16it/s]\r 23%|██▎       | 448/1932 [00:17<00:08, 167.24it/s]\r 24%|██▍       | 466/1932 [00:17<00:08, 169.41it/s]\r 25%|██▌       | 483/1932 [00:17<00:08, 169.37it/s]\r 26%|██▌       | 501/1932 [00:17<00:08, 169.50it/s]\r 27%|██▋       | 518/1932 [00:18<00:08, 167.24it/s]\r 28%|██▊       | 535/1932 [00:18<00:08, 167.49it/s]\r 29%|██▊       | 553/1932 [00:18<00:08, 169.92it/s]\r 30%|██▉       | 571/1932 [00:18<00:08, 169.33it/s]\r 30%|███       | 588/1932 [00:18<00:07, 168.43it/s]\r 31%|███▏      | 606/1932 [00:18<00:07, 168.96it/s]\r 32%|███▏      | 623/1932 [00:18<00:07, 165.49it/s]\r 33%|███▎      | 640/1932 [00:18<00:07, 165.93it/s]\r 34%|███▍      | 658/1932 [00:18<00:07, 167.71it/s]\r 35%|███▍      | 675/1932 [00:18<00:07, 166.93it/s]\r 36%|███▌      | 692/1932 [00:19<00:07, 166.74it/s]\r 37%|███▋      | 709/1932 [00:19<00:09, 131.91it/s]\r 38%|███▊      | 727/1932 [00:19<00:08, 143.04it/s]\r 39%|███▊      | 744/1932 [00:19<00:07, 149.11it/s]\r 39%|███▉      | 761/1932 [00:19<00:07, 153.50it/s]\r 40%|████      | 779/1932 [00:19<00:07, 158.50it/s]\r 41%|████▏     | 797/1932 [00:19<00:06, 163.26it/s]\r 42%|████▏     | 814/1932 [00:19<00:06, 164.18it/s]\r 43%|████▎     | 831/1932 [00:19<00:06, 163.84it/s]\r 44%|████▍     | 848/1932 [00:20<00:06, 164.51it/s]\r 45%|████▍     | 865/1932 [00:20<00:06, 165.81it/s]\r 46%|████▌     | 883/1932 [00:20<00:06, 167.28it/s]\r 47%|████▋     | 900/1932 [00:20<00:06, 168.02it/s]\r 47%|████▋     | 917/1932 [00:20<00:06, 167.26it/s]\r 48%|████▊     | 934/1932 [00:20<00:05, 167.71it/s]\r 49%|████▉     | 952/1932 [00:20<00:05, 169.70it/s]\r 50%|█████     | 970/1932 [00:20<00:05, 170.16it/s]\r 51%|█████     | 988/1932 [00:20<00:05, 169.19it/s]\r 52%|█████▏    | 1005/1932 [00:21<00:05, 167.02it/s]\r 53%|█████▎    | 1023/1932 [00:21<00:05, 169.42it/s]\r 54%|█████▍    | 1040/1932 [00:21<00:05, 167.83it/s]\r 55%|█████▍    | 1057/1932 [00:21<00:05, 162.15it/s]\r 56%|█████▌    | 1074/1932 [00:21<00:05, 158.27it/s]\r 56%|█████▋    | 1090/1932 [00:21<00:05, 157.89it/s]\r 57%|█████▋    | 1107/1932 [00:21<00:05, 160.49it/s]\r 58%|█████▊    | 1125/1932 [00:21<00:04, 164.13it/s]\r 59%|█████▉    | 1142/1932 [00:21<00:04, 165.77it/s]\r 60%|█████▉    | 1159/1932 [00:21<00:04, 164.86it/s]\r 61%|██████    | 1176/1932 [00:22<00:04, 160.82it/s]\r 62%|██████▏   | 1193/1932 [00:22<00:04, 162.24it/s]\r 63%|██████▎   | 1210/1932 [00:22<00:04, 164.20it/s]\r 64%|██████▎   | 1227/1932 [00:22<00:04, 165.30it/s]\r 64%|██████▍   | 1244/1932 [00:22<00:04, 166.47it/s]\r 65%|██████▌   | 1261/1932 [00:22<00:04, 166.11it/s]\r 66%|██████▌   | 1278/1932 [00:22<00:03, 166.68it/s]\r 67%|██████▋   | 1295/1932 [00:22<00:03, 167.18it/s]\r 68%|██████▊   | 1314/1932 [00:22<00:03, 171.08it/s]\r 69%|██████▉   | 1332/1932 [00:22<00:03, 170.95it/s]\r 70%|██████▉   | 1350/1932 [00:23<00:03, 169.08it/s]\r 71%|███████   | 1367/1932 [00:23<00:03, 166.82it/s]\r 72%|███████▏  | 1385/1932 [00:23<00:03, 168.47it/s]\r 73%|███████▎  | 1402/1932 [00:23<00:03, 168.58it/s]\r 73%|███████▎  | 1420/1932 [00:23<00:02, 170.71it/s]\r 74%|███████▍  | 1438/1932 [00:23<00:02, 170.64it/s]\r 75%|███████▌  | 1456/1932 [00:23<00:02, 172.56it/s]\r 76%|███████▋  | 1474/1932 [00:23<00:02, 172.40it/s]\r 77%|███████▋  | 1492/1932 [00:23<00:02, 173.29it/s]\r 78%|███████▊  | 1510/1932 [00:24<00:02, 172.23it/s]\r 79%|███████▉  | 1528/1932 [00:24<00:02, 173.79it/s]\r 80%|████████  | 1546/1932 [00:24<00:02, 173.99it/s]\r 81%|████████  | 1564/1932 [00:24<00:02, 173.71it/s]\r 82%|████████▏ | 1582/1932 [00:24<00:02, 173.30it/s]\r 83%|████████▎ | 1600/1932 [00:24<00:01, 172.33it/s]\r 84%|████████▎ | 1618/1932 [00:24<00:01, 172.68it/s]\r 85%|████████▍ | 1636/1932 [00:24<00:01, 173.26it/s]\r 86%|████████▌ | 1654/1932 [00:24<00:01, 174.12it/s]\r 87%|████████▋ | 1672/1932 [00:24<00:01, 170.67it/s]\r 87%|████████▋ | 1690/1932 [00:25<00:01, 169.94it/s]\r 88%|████████▊ | 1708/1932 [00:25<00:01, 169.01it/s]\r 89%|████████▉ | 1725/1932 [00:25<00:01, 168.56it/s]\r 90%|█████████ | 1742/1932 [00:25<00:01, 167.32it/s]\r 91%|█████████ | 1760/1932 [00:25<00:01, 168.33it/s]\r 92%|█████████▏| 1777/1932 [00:25<00:00, 168.28it/s]\r 93%|█████████▎| 1794/1932 [00:25<00:00, 168.77it/s]\r 94%|█████████▎| 1811/1932 [00:25<00:00, 168.97it/s]\r 95%|█████████▍| 1829/1932 [00:25<00:00, 170.75it/s]\r 96%|█████████▌| 1847/1932 [00:25<00:00, 171.02it/s]\r 97%|█████████▋| 1865/1932 [00:26<00:00, 168.26it/s]\r 97%|█████████▋| 1882/1932 [00:26<00:00, 166.86it/s]\r 98%|█████████▊| 1899/1932 [00:26<00:00, 167.58it/s]\r 99%|█████████▉| 1916/1932 [00:26<00:00, 166.79it/s]\r100%|██████████| 1932/1932 [00:26<00:00, 72.88it/s] \n"
          ]
        }
      ]
    },
    {
      "cell_type": "markdown",
      "metadata": {
        "id": "OcS63jN9RMdy"
      },
      "source": [
        "## Training\n",
        "\n",
        "Now that the data is prepared, we can start training!  The training loop tracks FID, but the computations seems to lead to problems in colab. Hence, it is disable by default (```metrics=[]```). The loop also generates fixed noise samples after a defined amount of ticks, eg. below ```--snap=1```."
      ]
    },
    {
      "cell_type": "code",
      "metadata": {
        "id": "Yrjw0aes9YV_"
      },
      "source": [
        "import os\n",
        "import json\n",
        "import re\n",
        "import dnnlib\n",
        "\n",
        "from training import training_loop\n",
        "from torch_utils import training_stats\n",
        "from train import init_dataset_kwargs\n",
        "from metrics import metric_main"
      ],
      "execution_count": null,
      "outputs": []
    },
    {
      "cell_type": "code",
      "metadata": {
        "id": "Q-VAjxpv9s3T"
      },
      "source": [
        "def launch_training(c, desc, outdir, rank=0):\n",
        "    # Pick output directory.\n",
        "    prev_run_dirs = []\n",
        "    if os.path.isdir(outdir):\n",
        "        prev_run_dirs = [x for x in os.listdir(outdir) if os.path.isdir(os.path.join(outdir, x))]\n",
        "\n",
        "    matching_dirs = [re.fullmatch(r'\\d{5}' + f'-{desc}', x) for x in prev_run_dirs if re.fullmatch(r'\\d{5}' + f'-{desc}', x) is not None]\n",
        "    if c.restart_every > 0 and len(matching_dirs) > 0:  # expect unique desc, continue in this directory\n",
        "        assert len(matching_dirs) == 1, f'Multiple directories found for resuming: {matching_dirs}'\n",
        "        c.run_dir = os.path.join(outdir, matching_dirs[0].group())\n",
        "    else:                     # fallback to standard\n",
        "        prev_run_ids = [re.match(r'^\\d+', x) for x in prev_run_dirs]\n",
        "        prev_run_ids = [int(x.group()) for x in prev_run_ids if x is not None]\n",
        "        cur_run_id = max(prev_run_ids, default=-1) + 1\n",
        "        c.run_dir = os.path.join(outdir, f'{cur_run_id:05d}-{desc}')\n",
        "        assert not os.path.exists(c.run_dir)\n",
        "\n",
        "\n",
        "    # Print options.\n",
        "    print()\n",
        "    print('Training options:')\n",
        "    print(json.dumps(c, indent=2))\n",
        "    print()\n",
        "    print(f'Output directory:    {c.run_dir}')\n",
        "    print(f'Number of GPUs:      {c.num_gpus}')\n",
        "    print(f'Batch size:          {c.batch_size} images')\n",
        "    print(f'Training duration:   {c.total_kimg} kimg')\n",
        "    print(f'Dataset path:        {c.training_set_kwargs.path}')\n",
        "    print(f'Dataset size:        {c.training_set_kwargs.max_size} images')\n",
        "    print(f'Dataset resolution:  {c.training_set_kwargs.resolution}')\n",
        "    print(f'Dataset labels:      {c.training_set_kwargs.use_labels}')\n",
        "    print(f'Dataset x-flips:     {c.training_set_kwargs.xflip}')\n",
        "    print()\n",
        "\n",
        "    # Create output directory.\n",
        "    print('Creating output directory...')\n",
        "    os.makedirs(c.run_dir, exist_ok=c.restart_every > 0)\n",
        "    with open(os.path.join(c.run_dir, 'training_options.json'), 'wt+') as f:\n",
        "        json.dump(c, f, indent=2)\n",
        "\n",
        "    # Start training\n",
        "    dnnlib.util.Logger(file_name=os.path.join(c.run_dir, 'log.txt'), file_mode='a', should_flush=False)\n",
        "    sync_device = torch.device('cuda', rank) if c.num_gpus > 1 else None\n",
        "    training_stats.init_multiprocessing(rank=rank, sync_device=sync_device)\n",
        "    training_loop.training_loop(rank=rank, **c)"
      ],
      "execution_count": null,
      "outputs": []
    },
    {
      "cell_type": "code",
      "metadata": {
        "id": "yqqzoKQk9tRt"
      },
      "source": [
        "def train(**kwargs):\n",
        "    # Initialize config.\n",
        "    opts = dnnlib.EasyDict(kwargs) # Command line arguments.\n",
        "    c = dnnlib.EasyDict() # Main config dict.\n",
        "    c.G_kwargs = dnnlib.EasyDict(class_name=None, z_dim=64, w_dim=128, mapping_kwargs=dnnlib.EasyDict())\n",
        "    c.G_opt_kwargs = dnnlib.EasyDict(class_name='torch.optim.Adam', betas=[0,0.99], eps=1e-8)\n",
        "    c.D_opt_kwargs = dnnlib.EasyDict(class_name='torch.optim.Adam', betas=[0,0.99], eps=1e-8)\n",
        "    c.data_loader_kwargs = dnnlib.EasyDict(pin_memory=True, prefetch_factor=2)\n",
        "\n",
        "    # Training set.\n",
        "    c.training_set_kwargs, dataset_name = init_dataset_kwargs(data=opts.data)\n",
        "    if opts.cond and not c.training_set_kwargs.use_labels:\n",
        "        raise ValueError('--cond=True requires labels specified in dataset.json')\n",
        "    c.training_set_kwargs.use_labels = opts.cond\n",
        "    c.training_set_kwargs.xflip = opts.mirror\n",
        "\n",
        "    # Hyperparameters & settings.\n",
        "    c.num_gpus = opts.gpus\n",
        "    c.batch_size = opts.batch\n",
        "    c.batch_gpu = opts.batch_gpu or opts.batch // opts.gpus\n",
        "    c.G_kwargs.channel_base = opts.cbase\n",
        "    c.G_kwargs.channel_max = opts.cmax\n",
        "    c.G_kwargs.mapping_kwargs.num_layers = 2\n",
        "    c.G_opt_kwargs.lr = (0.002 if opts.cfg == 'stylegan2' else 0.0025) if opts.glr is None else opts.glr\n",
        "    c.D_opt_kwargs.lr = opts.dlr\n",
        "    c.metrics = opts.metrics\n",
        "    c.total_kimg = opts.kimg\n",
        "    c.kimg_per_tick = opts.tick\n",
        "    c.image_snapshot_ticks = c.network_snapshot_ticks = opts.snap\n",
        "    c.random_seed = c.training_set_kwargs.random_seed = opts.seed\n",
        "    c.data_loader_kwargs.num_workers = opts.workers\n",
        "\n",
        "    # Sanity checks.\n",
        "    if c.batch_size % c.num_gpus != 0:\n",
        "        raise ValueError('--batch must be a multiple of --gpus')\n",
        "    if c.batch_size % (c.num_gpus * c.batch_gpu) != 0:\n",
        "        raise ValueError('--batch must be a multiple of --gpus times --batch-gpu')\n",
        "    if any(not metric_main.is_valid_metric(metric) for metric in c.metrics):\n",
        "        raise ValueError('\\n'.join(['--metrics can only contain the following values:'] + metric_main.list_valid_metrics()))\n",
        "\n",
        "    # Base configuration.\n",
        "    c.ema_kimg = c.batch_size * 10 / 32\n",
        "    if opts.cfg == 'stylegan2':\n",
        "        c.G_kwargs.class_name = 'pg_modules.networks_stylegan2.Generator'\n",
        "        c.G_kwargs.fused_modconv_default = 'inference_only' # Speed up training by using regular convolutions instead of grouped convolutions.\n",
        "        use_separable_discs = True\n",
        "\n",
        "    elif opts.cfg == 'fastgan':\n",
        "        c.G_kwargs = dnnlib.EasyDict(class_name='pg_modules.networks_fastgan.Generator', cond=opts.cond)\n",
        "        c.G_opt_kwargs.lr = c.D_opt_kwargs.lr = 0.0002\n",
        "        use_separable_discs = False\n",
        "\n",
        "    # Restart.\n",
        "    c.restart_every = opts.restart_every\n",
        "\n",
        "    # Description string.\n",
        "    desc = f'{opts.cfg:s}-{dataset_name:s}-gpus{c.num_gpus:d}-batch{c.batch_size:d}'\n",
        "    if opts.desc is not None:\n",
        "        desc += f'-{opts.desc}'\n",
        "\n",
        "    # Projected and Multi-Scale Discriminators\n",
        "    c.loss_kwargs = dnnlib.EasyDict(class_name='training.loss.ProjectedGANLoss')\n",
        "    c.D_kwargs = dnnlib.EasyDict(\n",
        "        class_name='pg_modules.discriminator.ProjectedDiscriminator',\n",
        "        diffaug=True,\n",
        "        interp224=(c.training_set_kwargs.resolution < 224),\n",
        "        backbone_kwargs=dnnlib.EasyDict(),\n",
        "    )\n",
        "\n",
        "    c.D_kwargs.backbone_kwargs.cout = 64\n",
        "    c.D_kwargs.backbone_kwargs.expand = True\n",
        "    c.D_kwargs.backbone_kwargs.proj_type = 2\n",
        "    c.D_kwargs.backbone_kwargs.num_discs = 4\n",
        "    c.D_kwargs.backbone_kwargs.separable = use_separable_discs\n",
        "    c.D_kwargs.backbone_kwargs.cond = opts.cond\n",
        "\n",
        "    # Launch.\n",
        "    launch_training(c=c, desc=desc, outdir=opts.outdir)"
      ],
      "execution_count": null,
      "outputs": []
    },
    {
      "cell_type": "code",
      "metadata": {
        "id": "uKHfWFKe9tWB",
        "outputId": "45a361ae-37ef-4874-acc9-cdec0bfbcd42",
        "colab": {
          "base_uri": "https://localhost:8080/"
        }
      },
      "source": [
        "# start training!\n",
        "\n",
        "train(\n",
        "    outdir='/content/drive/MyDrive/ProjectedGANResults', \n",
        "    cfg='fastgan',\n",
        "    data='/content/tomato_late_blight256.zip', \n",
        "    gpus=1, \n",
        "    batch=64, \n",
        "    cond=False, \n",
        "    mirror=1, \n",
        "    batch_gpu=8, \n",
        "    cbase=32768, \n",
        "    cmax=512, \n",
        "    glr=None, \n",
        "    dlr=0.002, \n",
        "    desc='', \n",
        "    metrics=[],\n",
        "    kimg=10000, \n",
        "    tick=4, \n",
        "    snap=1, \n",
        "    seed=0, \n",
        "    workers=0,\n",
        "    restart_every=999999,\n",
        ")"
      ],
      "execution_count": null,
      "outputs": [
        {
          "output_type": "stream",
          "name": "stdout",
          "text": [
            "\n",
            "Training options:\n",
            "{\n",
            "  \"G_kwargs\": {\n",
            "    \"class_name\": \"pg_modules.networks_fastgan.Generator\",\n",
            "    \"cond\": false\n",
            "  },\n",
            "  \"G_opt_kwargs\": {\n",
            "    \"class_name\": \"torch.optim.Adam\",\n",
            "    \"betas\": [\n",
            "      0,\n",
            "      0.99\n",
            "    ],\n",
            "    \"eps\": 1e-08,\n",
            "    \"lr\": 0.0002\n",
            "  },\n",
            "  \"D_opt_kwargs\": {\n",
            "    \"class_name\": \"torch.optim.Adam\",\n",
            "    \"betas\": [\n",
            "      0,\n",
            "      0.99\n",
            "    ],\n",
            "    \"eps\": 1e-08,\n",
            "    \"lr\": 0.0002\n",
            "  },\n",
            "  \"data_loader_kwargs\": {\n",
            "    \"pin_memory\": true,\n",
            "    \"prefetch_factor\": 2,\n",
            "    \"num_workers\": 0\n",
            "  },\n",
            "  \"training_set_kwargs\": {\n",
            "    \"class_name\": \"training.dataset.ImageFolderDataset\",\n",
            "    \"path\": \"/content/tomato_late_blight256.zip\",\n",
            "    \"use_labels\": false,\n",
            "    \"max_size\": 1932,\n",
            "    \"xflip\": 1,\n",
            "    \"resolution\": 256,\n",
            "    \"random_seed\": 0\n",
            "  },\n",
            "  \"num_gpus\": 1,\n",
            "  \"batch_size\": 64,\n",
            "  \"batch_gpu\": 8,\n",
            "  \"metrics\": [],\n",
            "  \"total_kimg\": 10000,\n",
            "  \"kimg_per_tick\": 4,\n",
            "  \"image_snapshot_ticks\": 1,\n",
            "  \"network_snapshot_ticks\": 1,\n",
            "  \"random_seed\": 0,\n",
            "  \"ema_kimg\": 20.0,\n",
            "  \"restart_every\": 999999,\n",
            "  \"loss_kwargs\": {\n",
            "    \"class_name\": \"training.loss.ProjectedGANLoss\"\n",
            "  },\n",
            "  \"D_kwargs\": {\n",
            "    \"class_name\": \"pg_modules.discriminator.ProjectedDiscriminator\",\n",
            "    \"diffaug\": true,\n",
            "    \"interp224\": false,\n",
            "    \"backbone_kwargs\": {\n",
            "      \"cout\": 64,\n",
            "      \"expand\": true,\n",
            "      \"proj_type\": 2,\n",
            "      \"num_discs\": 4,\n",
            "      \"separable\": false,\n",
            "      \"cond\": false\n",
            "    }\n",
            "  },\n",
            "  \"run_dir\": \"/content/drive/MyDrive/ProjectedGANResults/00002-fastgan-tomato_late_blight256-gpus1-batch64-\"\n",
            "}\n",
            "\n",
            "Output directory:    /content/drive/MyDrive/ProjectedGANResults/00002-fastgan-tomato_late_blight256-gpus1-batch64-\n",
            "Number of GPUs:      1\n",
            "Batch size:          64 images\n",
            "Training duration:   10000 kimg\n",
            "Dataset path:        /content/tomato_late_blight256.zip\n",
            "Dataset size:        1932 images\n",
            "Dataset resolution:  256\n",
            "Dataset labels:      False\n",
            "Dataset x-flips:     1\n",
            "\n",
            "Creating output directory...\n",
            "Loading training set...\n",
            "\n",
            "Num images:  3864\n",
            "Image shape: [3, 256, 256]\n",
            "Label shape: [0]\n",
            "\n",
            "Constructing networks...\n",
            "Downloading: \"https://github.com/rwightman/pytorch-image-models/releases/download/v0.1-weights/tf_efficientnet_lite0-0aa007d2.pth\" to /root/.cache/torch/hub/checkpoints/tf_efficientnet_lite0-0aa007d2.pth\n",
            "Resuming from \"/content/drive/MyDrive/ProjectedGANResults/00002-fastgan-tomato_late_blight256-gpus1-batch64-/network-snapshot.pkl\"\n",
            "\n",
            "Generator              Parameters  Buffers  Output shape        Datatype\n",
            "---                    ---         ---      ---                 ---     \n",
            "mapping                -           -        [8, 1, 256]         float32 \n",
            "synthesis.init.init    16785408    16385    [8, 2048, 4, 4]     float32 \n",
            "synthesis.feat_8.0     -           -        [8, 2048, 8, 8]     float32 \n",
            "synthesis.feat_8.1     37748736    20480    [8, 2048, 8, 8]     float32 \n",
            "synthesis.feat_8.2     1           -        [8, 2048, 8, 8]     float32 \n",
            "synthesis.feat_8.3     4096        4097     [8, 2048, 8, 8]     float32 \n",
            "synthesis.feat_8.4     -           -        [8, 1024, 8, 8]     float32 \n",
            "synthesis.feat_8.5     18874368    11264    [8, 2048, 8, 8]     float32 \n",
            "synthesis.feat_8.6     1           -        [8, 2048, 8, 8]     float32 \n",
            "synthesis.feat_8.7     4096        4097     [8, 2048, 8, 8]     float32 \n",
            "synthesis.feat_8.8     -           -        [8, 1024, 8, 8]     float32 \n",
            "synthesis.feat_16.0    -           -        [8, 1024, 16, 16]   float32 \n",
            "synthesis.feat_16.1    9437184     10240    [8, 1024, 16, 16]   float32 \n",
            "synthesis.feat_16.2    1           -        [8, 1024, 16, 16]   float32 \n",
            "synthesis.feat_16.3    2048        2049     [8, 1024, 16, 16]   float32 \n",
            "synthesis.feat_16.4    -           -        [8, 512, 16, 16]    float32 \n",
            "synthesis.feat_16.5    4718592     5632     [8, 1024, 16, 16]   float32 \n",
            "synthesis.feat_16.6    1           -        [8, 1024, 16, 16]   float32 \n",
            "synthesis.feat_16.7    2048        2049     [8, 1024, 16, 16]   float32 \n",
            "synthesis.feat_16.8    -           -        [8, 512, 16, 16]    float32 \n",
            "synthesis.feat_32.0    -           -        [8, 512, 32, 32]    float32 \n",
            "synthesis.feat_32.1    2359296     5120     [8, 512, 32, 32]    float32 \n",
            "synthesis.feat_32.2    1           -        [8, 512, 32, 32]    float32 \n",
            "synthesis.feat_32.3    1024        1025     [8, 512, 32, 32]    float32 \n",
            "synthesis.feat_32.4    -           -        [8, 256, 32, 32]    float32 \n",
            "synthesis.feat_32.5    1179648     2816     [8, 512, 32, 32]    float32 \n",
            "synthesis.feat_32.6    1           -        [8, 512, 32, 32]    float32 \n",
            "synthesis.feat_32.7    1024        1025     [8, 512, 32, 32]    float32 \n",
            "synthesis.feat_32.8    -           -        [8, 256, 32, 32]    float32 \n",
            "synthesis.feat_64.0    -           -        [8, 256, 64, 64]    float32 \n",
            "synthesis.feat_64.1    1179648     2816     [8, 512, 64, 64]    float32 \n",
            "synthesis.feat_64.2    1           -        [8, 512, 64, 64]    float32 \n",
            "synthesis.feat_64.3    1024        1025     [8, 512, 64, 64]    float32 \n",
            "synthesis.feat_64.4    -           -        [8, 256, 64, 64]    float32 \n",
            "synthesis.feat_64.5    1179648     2816     [8, 512, 64, 64]    float32 \n",
            "synthesis.feat_64.6    1           -        [8, 512, 64, 64]    float32 \n",
            "synthesis.feat_64.7    1024        1025     [8, 512, 64, 64]    float32 \n",
            "synthesis.feat_64.8    -           -        [8, 256, 64, 64]    float32 \n",
            "synthesis.se_64.main   8454144     33536    [8, 256, 1, 1]      float32 \n",
            "synthesis.se_64        -           -        [8, 256, 64, 64]    float32 \n",
            "synthesis.feat_128.0   -           -        [8, 256, 128, 128]  float32 \n",
            "synthesis.feat_128.1   589824      2560     [8, 256, 128, 128]  float32 \n",
            "synthesis.feat_128.2   1           -        [8, 256, 128, 128]  float32 \n",
            "synthesis.feat_128.3   512         513      [8, 256, 128, 128]  float32 \n",
            "synthesis.feat_128.4   -           -        [8, 128, 128, 128]  float32 \n",
            "synthesis.feat_128.5   294912      1408     [8, 256, 128, 128]  float32 \n",
            "synthesis.feat_128.6   1           -        [8, 256, 128, 128]  float32 \n",
            "synthesis.feat_128.7   512         513      [8, 256, 128, 128]  float32 \n",
            "synthesis.feat_128.8   -           -        [8, 128, 128, 128]  float32 \n",
            "synthesis.se_128.main  2113536     16768    [8, 128, 1, 1]      float32 \n",
            "synthesis.se_128       -           -        [8, 128, 128, 128]  float32 \n",
            "synthesis.feat_256.0   -           -        [8, 128, 256, 256]  float32 \n",
            "synthesis.feat_256.1   147456      1280     [8, 128, 256, 256]  float32 \n",
            "synthesis.feat_256.2   1           -        [8, 128, 256, 256]  float32 \n",
            "synthesis.feat_256.3   256         257      [8, 128, 256, 256]  float32 \n",
            "synthesis.feat_256.4   -           -        [8, 64, 256, 256]   float32 \n",
            "synthesis.feat_256.5   73728       704      [8, 128, 256, 256]  float32 \n",
            "synthesis.feat_256.6   1           -        [8, 128, 256, 256]  float32 \n",
            "synthesis.feat_256.7   256         257      [8, 128, 256, 256]  float32 \n",
            "synthesis.feat_256.8   -           -        [8, 64, 256, 256]   float32 \n",
            "synthesis.se_256.main  528384      8384     [8, 64, 1, 1]       float32 \n",
            "synthesis.se_256       -           -        [8, 64, 256, 256]   float32 \n",
            "synthesis.to_big       1731        579      [8, 3, 256, 256]    float32 \n",
            "---                    ---         ---      ---                 ---     \n",
            "Total                  105684175   160720   -                   -       \n",
            "\n",
            "/usr/local/lib/python3.7/dist-packages/torch/functional.py:568: UserWarning: torch.meshgrid: in an upcoming release, it will be required to pass the indexing argument. (Triggered internally at  ../aten/src/ATen/native/TensorShape.cpp:2228.)\n",
            "  return _VF.meshgrid(tensors, **kwargs)  # type: ignore[attr-defined]\n",
            "\n",
            "ProjectedDiscriminator                                               Parameters  Buffers  Output shape       Datatype\n",
            "---                                                                  ---         ---      ---                ---     \n",
            "feature_network.pretrained.layer0.0                                  864         -        [8, 32, 128, 128]  float32 \n",
            "feature_network.pretrained.layer0.1                                  64          65       [8, 32, 128, 128]  float32 \n",
            "feature_network.pretrained.layer0.3                                  896         98       [8, 16, 128, 128]  float32 \n",
            "feature_network.pretrained.layer0.4                                  13968       1062     [8, 24, 64, 64]    float32 \n",
            "feature_network.pretrained.layer1.0                                  39712       1702     [8, 40, 32, 32]    float32 \n",
            "feature_network.pretrained.layer2.0                                  198480      5289     [8, 80, 16, 16]    float32 \n",
            "feature_network.pretrained.layer2.1                                  446784      7977     [8, 112, 16, 16]   float32 \n",
            "feature_network.pretrained.layer3.0                                  1652640     18060    [8, 192, 8, 8]     float32 \n",
            "feature_network.pretrained.layer3.1                                  605440      5251     [8, 320, 8, 8]     float32 \n",
            "feature_network.scratch.layer0_ccm                                   1600        -        [8, 64, 64, 64]    float32 \n",
            "feature_network.scratch.layer1_ccm                                   5248        -        [8, 128, 32, 32]   float32 \n",
            "feature_network.scratch.layer2_ccm                                   28928       -        [8, 256, 16, 16]   float32 \n",
            "feature_network.scratch.layer3_ccm                                   164352      -        [8, 512, 8, 8]     float32 \n",
            "feature_network.scratch.layer3_csm.out_conv                          131328      -        [8, 256, 16, 16]   float32 \n",
            "feature_network.scratch.layer2_csm.skip_add.activation_post_process  -           -        [8, 256, 16, 16]   float32 \n",
            "feature_network.scratch.layer2_csm.out_conv                          32896       -        [8, 128, 32, 32]   float32 \n",
            "feature_network.scratch.layer1_csm.skip_add.activation_post_process  -           -        [8, 128, 32, 32]   float32 \n",
            "feature_network.scratch.layer1_csm.out_conv                          8256        -        [8, 64, 64, 64]    float32 \n",
            "feature_network.scratch.layer0_csm.skip_add.activation_post_process  -           -        [8, 64, 64, 64]    float32 \n",
            "feature_network.scratch.layer0_csm.out_conv                          4160        -        [8, 64, 128, 128]  float32 \n",
            "discriminator.mini_discs.0.main                                      2829120     19269    [8, 1, 5, 5]       float32 \n",
            "discriminator.mini_discs.1.main                                      2763392     18052    [8, 1, 5, 5]       float32 \n",
            "discriminator.mini_discs.2.main                                      2631936     16643    [8, 1, 5, 5]       float32 \n",
            "discriminator.mini_discs.3.main                                      2106880     13826    [8, 1, 5, 5]       float32 \n",
            "discriminator                                                        -           -        [8, 100]           float32 \n",
            "---                                                                  ---         ---      ---                ---     \n",
            "Total                                                                13666944    107294   -                  -       \n",
            "\n",
            "Distributing across 1 GPUs...\n",
            "Setting up training phases...\n",
            "Exporting sample images...\n",
            "Initializing logs...\n",
            "Training for 10000 kimg...\n",
            "\n",
            "tick 6     kimg 28.3     time 9m 24s       sec/tick 470.4   sec/kimg 116.67  maintenance 93.6   cpumem 8.32   gpumem 7.35   reserved 10.22 \n",
            "tick 7     kimg 32.3     time 17m 40s      sec/tick 468.4   sec/kimg 116.16  maintenance 27.3   cpumem 8.32   gpumem 7.36   reserved 9.70  \n",
            "tick 8     kimg 36.4     time 25m 56s      sec/tick 468.1   sec/kimg 116.09  maintenance 27.9   cpumem 8.32   gpumem 7.35   reserved 9.70  \n",
            "tick 9     kimg 40.4     time 34m 11s      sec/tick 468.2   sec/kimg 116.12  maintenance 26.8   cpumem 8.32   gpumem 7.36   reserved 9.70  \n",
            "tick 10    kimg 44.4     time 42m 26s      sec/tick 467.9   sec/kimg 116.05  maintenance 27.3   cpumem 8.32   gpumem 7.35   reserved 9.70  \n",
            "tick 11    kimg 48.4     time 50m 37s      sec/tick 463.5   sec/kimg 114.96  maintenance 27.3   cpumem 8.32   gpumem 7.36   reserved 9.70  \n",
            "tick 12    kimg 52.5     time 58m 53s      sec/tick 468.6   sec/kimg 116.23  maintenance 27.6   cpumem 8.32   gpumem 7.35   reserved 9.70  \n",
            "tick 13    kimg 56.5     time 1h 07m 10s   sec/tick 468.3   sec/kimg 116.16  maintenance 28.2   cpumem 8.33   gpumem 7.36   reserved 9.70  \n",
            "tick 14    kimg 60.5     time 1h 15m 25s   sec/tick 468.3   sec/kimg 116.14  maintenance 27.6   cpumem 8.33   gpumem 7.36   reserved 9.70  \n",
            "tick 15    kimg 64.6     time 1h 23m 39s   sec/tick 466.2   sec/kimg 115.62  maintenance 27.1   cpumem 8.32   gpumem 7.36   reserved 9.70  \n",
            "tick 16    kimg 68.6     time 1h 31m 48s   sec/tick 462.2   sec/kimg 114.64  maintenance 27.0   cpumem 8.26   gpumem 7.36   reserved 9.70  \n",
            "tick 17    kimg 72.6     time 1h 39m 57s   sec/tick 462.2   sec/kimg 114.64  maintenance 27.2   cpumem 8.31   gpumem 7.36   reserved 9.70  \n",
            "tick 18    kimg 76.7     time 1h 48m 07s   sec/tick 462.3   sec/kimg 114.66  maintenance 27.3   cpumem 8.31   gpumem 7.36   reserved 9.70  \n",
            "tick 19    kimg 80.7     time 1h 56m 17s   sec/tick 462.3   sec/kimg 114.67  maintenance 27.9   cpumem 8.27   gpumem 7.36   reserved 9.70  \n",
            "tick 20    kimg 84.7     time 2h 04m 27s   sec/tick 462.1   sec/kimg 114.61  maintenance 27.5   cpumem 8.24   gpumem 7.36   reserved 9.70  \n",
            "tick 21    kimg 88.8     time 2h 12m 37s   sec/tick 461.9   sec/kimg 114.57  maintenance 28.3   cpumem 8.21   gpumem 7.36   reserved 9.70  \n",
            "tick 22    kimg 92.8     time 2h 20m 47s   sec/tick 462.0   sec/kimg 114.57  maintenance 27.7   cpumem 8.21   gpumem 7.36   reserved 9.70  \n",
            "tick 23    kimg 96.8     time 2h 28m 56s   sec/tick 462.2   sec/kimg 114.62  maintenance 26.7   cpumem 8.19   gpumem 7.36   reserved 9.70  \n",
            "tick 24    kimg 100.9    time 2h 37m 06s   sec/tick 462.4   sec/kimg 114.67  maintenance 27.7   cpumem 8.19   gpumem 7.36   reserved 9.70  \n",
            "tick 25    kimg 104.9    time 2h 45m 15s   sec/tick 462.4   sec/kimg 114.67  maintenance 27.1   cpumem 8.20   gpumem 7.36   reserved 9.70  \n",
            "tick 26    kimg 108.9    time 2h 53m 24s   sec/tick 462.5   sec/kimg 114.70  maintenance 26.7   cpumem 8.16   gpumem 7.36   reserved 9.70  \n",
            "tick 27    kimg 113.0    time 3h 01m 35s   sec/tick 462.3   sec/kimg 114.65  maintenance 28.3   cpumem 8.12   gpumem 7.36   reserved 9.70  \n",
            "tick 28    kimg 117.0    time 3h 09m 45s   sec/tick 462.2   sec/kimg 114.63  maintenance 28.1   cpumem 8.10   gpumem 7.36   reserved 9.70  \n",
            "tick 29    kimg 121.0    time 3h 17m 55s   sec/tick 462.7   sec/kimg 114.76  maintenance 27.2   cpumem 8.06   gpumem 7.35   reserved 9.70  \n",
            "tick 30    kimg 125.1    time 3h 26m 06s   sec/tick 462.8   sec/kimg 114.78  maintenance 28.4   cpumem 8.02   gpumem 7.35   reserved 9.70  \n",
            "tick 31    kimg 129.1    time 3h 34m 17s   sec/tick 462.6   sec/kimg 114.73  maintenance 28.5   cpumem 7.99   gpumem 7.35   reserved 9.70  \n",
            "tick 32    kimg 133.1    time 3h 42m 28s   sec/tick 462.2   sec/kimg 114.63  maintenance 28.0   cpumem 7.99   gpumem 7.35   reserved 9.70  \n",
            "tick 33    kimg 137.2    time 3h 50m 37s   sec/tick 462.5   sec/kimg 114.71  maintenance 27.2   cpumem 7.94   gpumem 7.35   reserved 9.70  \n",
            "tick 34    kimg 141.2    time 3h 58m 53s   sec/tick 468.2   sec/kimg 116.11  maintenance 27.7   cpumem 7.91   gpumem 7.35   reserved 9.70  \n",
            "tick 35    kimg 145.2    time 4h 07m 10s   sec/tick 468.6   sec/kimg 116.23  maintenance 28.1   cpumem 7.91   gpumem 7.35   reserved 9.70  \n",
            "tick 36    kimg 149.2    time 4h 15m 26s   sec/tick 468.6   sec/kimg 116.23  maintenance 27.8   cpumem 7.87   gpumem 7.35   reserved 9.70  \n",
            "tick 37    kimg 153.3    time 4h 23m 42s   sec/tick 468.5   sec/kimg 116.19  maintenance 27.5   cpumem 7.91   gpumem 7.35   reserved 9.70  \n",
            "tick 38    kimg 157.3    time 4h 32m 00s   sec/tick 468.6   sec/kimg 116.23  maintenance 28.6   cpumem 7.91   gpumem 7.36   reserved 9.70  \n",
            "tick 39    kimg 161.3    time 4h 40m 16s   sec/tick 468.6   sec/kimg 116.23  maintenance 28.2   cpumem 7.87   gpumem 7.35   reserved 9.70  \n",
            "tick 40    kimg 165.4    time 4h 48m 33s   sec/tick 468.6   sec/kimg 116.21  maintenance 28.1   cpumem 7.91   gpumem 7.35   reserved 9.70  \n",
            "tick 41    kimg 169.4    time 4h 56m 50s   sec/tick 468.8   sec/kimg 116.27  maintenance 28.1   cpumem 7.91   gpumem 7.35   reserved 9.70  \n",
            "tick 42    kimg 173.4    time 5h 05m 06s   sec/tick 468.3   sec/kimg 116.14  maintenance 27.7   cpumem 7.90   gpumem 7.35   reserved 9.70  \n",
            "tick 43    kimg 177.5    time 5h 13m 24s   sec/tick 468.4   sec/kimg 116.18  maintenance 29.3   cpumem 7.90   gpumem 7.35   reserved 9.70  \n",
            "tick 44    kimg 181.5    time 5h 21m 40s   sec/tick 468.4   sec/kimg 116.16  maintenance 28.1   cpumem 7.69   gpumem 7.35   reserved 9.70  \n",
            "tick 45    kimg 185.5    time 5h 29m 57s   sec/tick 468.3   sec/kimg 116.15  maintenance 28.1   cpumem 7.84   gpumem 7.35   reserved 9.70  \n",
            "tick 46    kimg 189.6    time 5h 38m 13s   sec/tick 468.7   sec/kimg 116.24  maintenance 27.5   cpumem 7.90   gpumem 7.35   reserved 9.70  \n",
            "tick 47    kimg 193.6    time 5h 46m 28s   sec/tick 468.2   sec/kimg 116.11  maintenance 27.1   cpumem 7.90   gpumem 7.35   reserved 9.70  \n",
            "tick 48    kimg 197.6    time 5h 54m 44s   sec/tick 468.6   sec/kimg 116.22  maintenance 27.1   cpumem 7.90   gpumem 7.35   reserved 9.70  \n",
            "tick 49    kimg 201.7    time 6h 02m 59s   sec/tick 468.7   sec/kimg 116.23  maintenance 26.7   cpumem 7.90   gpumem 7.35   reserved 9.70  \n",
            "tick 50    kimg 205.7    time 6h 11m 16s   sec/tick 468.7   sec/kimg 116.24  maintenance 27.7   cpumem 7.90   gpumem 7.35   reserved 9.70  \n",
            "tick 51    kimg 209.7    time 6h 19m 32s   sec/tick 468.8   sec/kimg 116.28  maintenance 27.7   cpumem 7.89   gpumem 7.36   reserved 9.70  \n",
            "tick 52    kimg 213.8    time 6h 27m 48s   sec/tick 468.6   sec/kimg 116.22  maintenance 27.6   cpumem 7.88   gpumem 7.35   reserved 9.70  \n",
            "tick 53    kimg 217.8    time 6h 36m 05s   sec/tick 468.7   sec/kimg 116.24  maintenance 27.7   cpumem 7.90   gpumem 7.35   reserved 9.70  \n",
            "tick 54    kimg 221.8    time 6h 44m 21s   sec/tick 468.2   sec/kimg 116.13  maintenance 27.7   cpumem 7.86   gpumem 7.35   reserved 9.70  \n",
            "tick 55    kimg 225.9    time 6h 52m 38s   sec/tick 468.7   sec/kimg 116.24  maintenance 28.2   cpumem 7.89   gpumem 7.35   reserved 9.70  \n",
            "tick 56    kimg 229.9    time 7h 00m 54s   sec/tick 468.6   sec/kimg 116.22  maintenance 28.1   cpumem 7.71   gpumem 7.35   reserved 9.70  \n",
            "tick 57    kimg 233.9    time 7h 09m 11s   sec/tick 468.5   sec/kimg 116.19  maintenance 28.3   cpumem 7.16   gpumem 7.35   reserved 9.70  \n",
            "tick 58    kimg 238.0    time 7h 17m 28s   sec/tick 468.3   sec/kimg 116.15  maintenance 28.4   cpumem 7.23   gpumem 7.35   reserved 9.70  \n",
            "tick 59    kimg 242.0    time 7h 25m 46s   sec/tick 468.6   sec/kimg 116.22  maintenance 30.0   cpumem 7.36   gpumem 7.35   reserved 9.70  \n",
            "tick 60    kimg 246.0    time 7h 34m 03s   sec/tick 468.3   sec/kimg 116.14  maintenance 28.6   cpumem 7.12   gpumem 7.35   reserved 9.70  \n",
            "tick 61    kimg 250.0    time 7h 42m 20s   sec/tick 468.6   sec/kimg 116.21  maintenance 28.5   cpumem 7.40   gpumem 7.35   reserved 9.70  \n",
            "tick 62    kimg 254.1    time 7h 50m 36s   sec/tick 468.0   sec/kimg 116.08  maintenance 27.6   cpumem 7.40   gpumem 7.35   reserved 9.70  \n",
            "tick 63    kimg 258.1    time 7h 58m 52s   sec/tick 467.8   sec/kimg 116.03  maintenance 28.5   cpumem 7.40   gpumem 7.36   reserved 9.70  \n",
            "tick 64    kimg 262.1    time 8h 07m 08s   sec/tick 468.2   sec/kimg 116.11  maintenance 27.7   cpumem 7.40   gpumem 7.36   reserved 9.70  \n",
            "tick 65    kimg 266.2    time 8h 15m 24s   sec/tick 468.0   sec/kimg 116.07  maintenance 27.7   cpumem 7.35   gpumem 7.35   reserved 9.70  \n",
            "tick 66    kimg 270.2    time 8h 23m 40s   sec/tick 468.2   sec/kimg 116.12  maintenance 27.8   cpumem 7.39   gpumem 7.35   reserved 9.70  \n",
            "tick 67    kimg 274.2    time 8h 31m 56s   sec/tick 468.2   sec/kimg 116.12  maintenance 27.8   cpumem 7.40   gpumem 7.36   reserved 9.70  \n",
            "tick 68    kimg 278.3    time 8h 40m 12s   sec/tick 468.2   sec/kimg 116.13  maintenance 27.8   cpumem 7.39   gpumem 7.35   reserved 9.70  \n",
            "tick 69    kimg 282.3    time 8h 48m 28s   sec/tick 468.2   sec/kimg 116.13  maintenance 27.9   cpumem 7.22   gpumem 7.36   reserved 9.70  \n",
            "tick 70    kimg 286.3    time 8h 56m 45s   sec/tick 468.5   sec/kimg 116.20  maintenance 28.1   cpumem 7.32   gpumem 7.35   reserved 9.70  \n",
            "tick 71    kimg 290.4    time 9h 05m 01s   sec/tick 468.3   sec/kimg 116.15  maintenance 27.8   cpumem 7.28   gpumem 7.35   reserved 9.70  \n",
            "tick 72    kimg 294.4    time 9h 13m 17s   sec/tick 468.3   sec/kimg 116.15  maintenance 28.2   cpumem 7.27   gpumem 7.35   reserved 9.70  \n",
            "tick 73    kimg 298.4    time 9h 21m 34s   sec/tick 468.8   sec/kimg 116.26  maintenance 28.3   cpumem 7.36   gpumem 7.36   reserved 9.70  \n",
            "tick 74    kimg 302.5    time 9h 29m 50s   sec/tick 468.5   sec/kimg 116.20  maintenance 27.5   cpumem 7.39   gpumem 7.35   reserved 9.70  \n",
            "tick 75    kimg 306.5    time 9h 38m 07s   sec/tick 468.4   sec/kimg 116.18  maintenance 27.9   cpumem 7.39   gpumem 7.35   reserved 9.70  \n",
            "tick 76    kimg 310.5    time 9h 46m 23s   sec/tick 468.6   sec/kimg 116.21  maintenance 28.0   cpumem 7.39   gpumem 7.35   reserved 9.70  \n",
            "tick 77    kimg 314.6    time 9h 54m 40s   sec/tick 468.4   sec/kimg 116.16  maintenance 27.9   cpumem 7.37   gpumem 7.35   reserved 9.70  \n",
            "tick 78    kimg 318.6    time 10h 02m 56s  sec/tick 468.3   sec/kimg 116.14  maintenance 27.9   cpumem 7.38   gpumem 7.35   reserved 9.70  \n",
            "tick 79    kimg 322.6    time 10h 11m 12s  sec/tick 468.5   sec/kimg 116.20  maintenance 27.9   cpumem 7.34   gpumem 7.35   reserved 9.70  \n",
            "tick 80    kimg 326.7    time 10h 19m 29s  sec/tick 468.3   sec/kimg 116.14  maintenance 28.5   cpumem 7.36   gpumem 7.36   reserved 9.70  \n",
            "tick 81    kimg 330.7    time 10h 27m 45s  sec/tick 468.3   sec/kimg 116.13  maintenance 27.7   cpumem 7.35   gpumem 7.36   reserved 9.70  \n",
            "tick 82    kimg 334.7    time 10h 36m 04s  sec/tick 468.3   sec/kimg 116.15  maintenance 30.3   cpumem 7.24   gpumem 7.35   reserved 9.70  \n",
            "tick 83    kimg 338.8    time 10h 44m 20s  sec/tick 468.4   sec/kimg 116.18  maintenance 27.7   cpumem 7.39   gpumem 7.35   reserved 9.70  \n",
            "tick 84    kimg 342.8    time 10h 52m 36s  sec/tick 468.4   sec/kimg 116.16  maintenance 28.3   cpumem 7.39   gpumem 7.35   reserved 9.70  \n",
            "tick 85    kimg 346.8    time 11h 00m 53s  sec/tick 468.5   sec/kimg 116.20  maintenance 28.2   cpumem 7.39   gpumem 7.36   reserved 9.70  \n",
            "tick 86    kimg 350.8    time 11h 09m 10s  sec/tick 468.5   sec/kimg 116.20  maintenance 28.5   cpumem 7.39   gpumem 7.35   reserved 9.70  \n",
            "tick 87    kimg 354.9    time 11h 17m 26s  sec/tick 468.2   sec/kimg 116.11  maintenance 27.8   cpumem 7.39   gpumem 7.36   reserved 9.70  \n",
            "tick 88    kimg 358.9    time 11h 25m 43s  sec/tick 468.7   sec/kimg 116.24  maintenance 28.4   cpumem 7.39   gpumem 7.36   reserved 9.70  \n",
            "tick 89    kimg 362.9    time 11h 33m 59s  sec/tick 468.0   sec/kimg 116.07  maintenance 28.3   cpumem 7.39   gpumem 7.35   reserved 9.70  \n",
            "tick 90    kimg 367.0    time 11h 42m 16s  sec/tick 468.1   sec/kimg 116.08  maintenance 28.1   cpumem 7.39   gpumem 7.36   reserved 9.70  \n",
            "tick 91    kimg 371.0    time 11h 50m 32s  sec/tick 468.4   sec/kimg 116.17  maintenance 28.3   cpumem 7.39   gpumem 7.35   reserved 9.70  \n",
            "tick 92    kimg 375.0    time 11h 58m 49s  sec/tick 468.6   sec/kimg 116.21  maintenance 28.1   cpumem 7.39   gpumem 7.35   reserved 9.70  \n",
            "tick 93    kimg 379.1    time 12h 07m 05s  sec/tick 468.4   sec/kimg 116.17  maintenance 27.9   cpumem 7.38   gpumem 7.35   reserved 9.70  \n",
            "tick 94    kimg 383.1    time 12h 15m 22s  sec/tick 468.6   sec/kimg 116.23  maintenance 28.4   cpumem 7.38   gpumem 7.35   reserved 9.70  \n",
            "tick 95    kimg 387.1    time 12h 23m 38s  sec/tick 468.1   sec/kimg 116.10  maintenance 27.7   cpumem 7.38   gpumem 7.35   reserved 9.70  \n",
            "tick 96    kimg 391.2    time 12h 31m 55s  sec/tick 468.2   sec/kimg 116.12  maintenance 28.4   cpumem 7.39   gpumem 7.35   reserved 9.70  \n",
            "tick 97    kimg 395.2    time 12h 40m 12s  sec/tick 468.2   sec/kimg 116.13  maintenance 28.7   cpumem 7.38   gpumem 7.35   reserved 9.70  \n",
            "tick 98    kimg 399.2    time 12h 48m 28s  sec/tick 468.2   sec/kimg 116.13  maintenance 28.4   cpumem 7.38   gpumem 7.35   reserved 9.70  \n",
            "tick 99    kimg 403.3    time 12h 56m 44s  sec/tick 467.9   sec/kimg 116.05  maintenance 28.0   cpumem 7.38   gpumem 7.36   reserved 9.70  \n",
            "tick 100   kimg 407.3    time 13h 05m 01s  sec/tick 468.2   sec/kimg 116.13  maintenance 28.3   cpumem 7.39   gpumem 7.35   reserved 9.70  \n",
            "tick 101   kimg 411.3    time 13h 13m 18s  sec/tick 468.5   sec/kimg 116.18  maintenance 28.4   cpumem 7.39   gpumem 7.35   reserved 9.70  \n",
            "tick 102   kimg 415.4    time 13h 21m 34s  sec/tick 468.3   sec/kimg 116.16  maintenance 28.1   cpumem 7.38   gpumem 7.35   reserved 9.70  \n",
            "tick 103   kimg 419.4    time 13h 29m 50s  sec/tick 468.2   sec/kimg 116.12  maintenance 28.2   cpumem 7.38   gpumem 7.35   reserved 9.70  \n",
            "tick 104   kimg 423.4    time 13h 38m 06s  sec/tick 467.9   sec/kimg 116.05  maintenance 27.9   cpumem 7.38   gpumem 7.35   reserved 9.70  \n",
            "tick 105   kimg 427.5    time 13h 46m 22s  sec/tick 468.0   sec/kimg 116.07  maintenance 28.0   cpumem 7.38   gpumem 7.35   reserved 9.70  \n",
            "tick 106   kimg 431.5    time 13h 54m 38s  sec/tick 468.0   sec/kimg 116.08  maintenance 28.1   cpumem 7.38   gpumem 7.36   reserved 9.70  \n",
            "tick 107   kimg 435.5    time 14h 02m 55s  sec/tick 468.1   sec/kimg 116.09  maintenance 28.9   cpumem 7.38   gpumem 7.35   reserved 9.70  \n",
            "tick 108   kimg 439.6    time 14h 11m 12s  sec/tick 468.3   sec/kimg 116.15  maintenance 28.5   cpumem 7.38   gpumem 7.35   reserved 9.70  \n",
            "tick 109   kimg 443.6    time 14h 19m 29s  sec/tick 468.8   sec/kimg 116.27  maintenance 28.4   cpumem 7.37   gpumem 7.36   reserved 9.70  \n",
            "tick 110   kimg 447.6    time 14h 27m 47s  sec/tick 468.8   sec/kimg 116.27  maintenance 28.8   cpumem 7.38   gpumem 7.36   reserved 9.70  \n",
            "tick 111   kimg 451.6    time 14h 36m 04s  sec/tick 468.9   sec/kimg 116.30  maintenance 28.5   cpumem 7.37   gpumem 7.36   reserved 9.70  \n",
            "tick 112   kimg 455.7    time 14h 44m 21s  sec/tick 468.8   sec/kimg 116.28  maintenance 28.2   cpumem 7.30   gpumem 7.36   reserved 9.70  \n",
            "tick 113   kimg 459.7    time 14h 52m 38s  sec/tick 468.5   sec/kimg 116.18  maintenance 28.5   cpumem 6.95   gpumem 7.36   reserved 9.70  \n",
            "tick 114   kimg 463.7    time 15h 00m 56s  sec/tick 468.8   sec/kimg 116.27  maintenance 28.8   cpumem 7.37   gpumem 7.36   reserved 9.70  \n",
            "tick 115   kimg 467.8    time 15h 09m 13s  sec/tick 469.1   sec/kimg 116.34  maintenance 28.0   cpumem 7.36   gpumem 7.36   reserved 9.70  \n",
            "tick 116   kimg 471.8    time 15h 17m 30s  sec/tick 469.1   sec/kimg 116.34  maintenance 28.6   cpumem 7.16   gpumem 7.36   reserved 9.70  \n",
            "tick 117   kimg 475.8    time 15h 25m 48s  sec/tick 468.9   sec/kimg 116.29  maintenance 28.9   cpumem 7.36   gpumem 7.36   reserved 9.70  \n",
            "tick 118   kimg 479.9    time 15h 34m 06s  sec/tick 469.2   sec/kimg 116.37  maintenance 28.7   cpumem 7.36   gpumem 7.36   reserved 9.70  \n",
            "tick 119   kimg 483.9    time 15h 42m 24s  sec/tick 468.8   sec/kimg 116.27  maintenance 28.8   cpumem 7.36   gpumem 7.35   reserved 9.70  \n",
            "tick 120   kimg 487.9    time 15h 50m 41s  sec/tick 468.8   sec/kimg 116.27  maintenance 28.8   cpumem 7.36   gpumem 7.35   reserved 9.70  \n",
            "tick 121   kimg 492.0    time 15h 58m 59s  sec/tick 468.9   sec/kimg 116.28  maintenance 28.4   cpumem 7.36   gpumem 7.35   reserved 9.70  \n",
            "tick 122   kimg 496.0    time 16h 07m 16s  sec/tick 468.9   sec/kimg 116.30  maintenance 28.2   cpumem 7.36   gpumem 7.35   reserved 9.70  \n",
            "tick 123   kimg 500.0    time 16h 15m 33s  sec/tick 468.7   sec/kimg 116.26  maintenance 28.7   cpumem 7.36   gpumem 7.35   reserved 9.70  \n",
            "tick 124   kimg 504.1    time 16h 23m 50s  sec/tick 468.6   sec/kimg 116.21  maintenance 28.4   cpumem 7.36   gpumem 7.35   reserved 9.70  \n",
            "tick 125   kimg 508.1    time 16h 32m 08s  sec/tick 468.7   sec/kimg 116.25  maintenance 28.8   cpumem 7.36   gpumem 7.35   reserved 9.70  \n",
            "tick 126   kimg 512.1    time 16h 40m 25s  sec/tick 468.5   sec/kimg 116.19  maintenance 28.7   cpumem 7.36   gpumem 7.35   reserved 9.70  \n",
            "tick 127   kimg 516.2    time 16h 48m 42s  sec/tick 469.0   sec/kimg 116.31  maintenance 28.0   cpumem 7.35   gpumem 7.35   reserved 9.70  \n"
          ]
        }
      ]
    },
    {
      "cell_type": "markdown",
      "metadata": {
        "id": "MqYeDzg3KUMG"
      },
      "source": [
        "To inspect the samples, click on the folder symbol on the left and navigate to \n",
        "\n",
        "```projected_gan/training-runs/YOUR_RUN```\n",
        "\n",
        "The files ```fakesXXXXXX.png``` are the samples for a fixed noise vector at point."
      ]
    },
    {
      "cell_type": "markdown",
      "source": [
        "#Results"
      ],
      "metadata": {
        "id": "PI_qc9Szt_0p"
      }
    },
    {
      "cell_type": "code",
      "source": [
        "%%bash\n",
        "python gen_video.py --output=lerp.mp4 --trunc=1.0 --seeds=0-31 --grid=4x2 --network=/content/drive/MyDrive/ProjectedGANResults/00002-fastgan-tomato_late_blight256-gpus1-batch64-/network-snapshot.pkl"
      ],
      "metadata": {
        "id": "YFmD-YE-1L3V",
        "outputId": "8cb44993-0c56-4e37-fa36-18fd8363bf54",
        "colab": {
          "base_uri": "https://localhost:8080/"
        }
      },
      "execution_count": 11,
      "outputs": [
        {
          "output_type": "stream",
          "name": "stdout",
          "text": [
            "Loading networks from \"/content/drive/MyDrive/ProjectedGANResults/00002-fastgan-tomato_late_blight256-gpus1-batch64-/network-snapshot.pkl\"...\n"
          ]
        },
        {
          "output_type": "stream",
          "name": "stderr",
          "text": [
            "\r  0%|          | 0/480 [00:00<?, ?it/s]\r  0%|          | 1/480 [00:00<03:55,  2.04it/s]\r  0%|          | 2/480 [00:00<02:54,  2.74it/s]\r  1%|          | 3/480 [00:01<02:34,  3.08it/s]\r  1%|          | 4/480 [00:01<02:25,  3.28it/s]\r  1%|          | 5/480 [00:01<02:20,  3.37it/s]\r  1%|▏         | 6/480 [00:01<02:16,  3.47it/s]\r  1%|▏         | 7/480 [00:02<02:19,  3.38it/s]\r  2%|▏         | 8/480 [00:02<02:16,  3.45it/s]\r  2%|▏         | 9/480 [00:02<02:14,  3.50it/s]\r  2%|▏         | 10/480 [00:03<02:13,  3.53it/s]\r  2%|▏         | 11/480 [00:03<02:12,  3.55it/s]\r  2%|▎         | 12/480 [00:03<02:10,  3.58it/s]\r  3%|▎         | 13/480 [00:03<02:10,  3.58it/s]\r  3%|▎         | 14/480 [00:04<02:10,  3.58it/s]\r  3%|▎         | 15/480 [00:04<02:09,  3.59it/s]\r  3%|▎         | 16/480 [00:04<02:08,  3.60it/s]\r  4%|▎         | 17/480 [00:04<02:08,  3.60it/s]\r  4%|▍         | 18/480 [00:05<02:08,  3.59it/s]\r  4%|▍         | 19/480 [00:05<02:07,  3.60it/s]\r  4%|▍         | 20/480 [00:05<02:07,  3.61it/s]\r  4%|▍         | 21/480 [00:06<02:07,  3.61it/s]\r  5%|▍         | 22/480 [00:06<02:07,  3.60it/s]\r  5%|▍         | 23/480 [00:06<02:07,  3.59it/s]\r  5%|▌         | 24/480 [00:06<02:06,  3.60it/s]\r  5%|▌         | 25/480 [00:07<02:06,  3.60it/s]\r  5%|▌         | 26/480 [00:07<02:05,  3.60it/s]\r  6%|▌         | 27/480 [00:07<02:05,  3.60it/s]\r  6%|▌         | 28/480 [00:08<02:05,  3.60it/s]\r  6%|▌         | 29/480 [00:08<02:05,  3.59it/s]\r  6%|▋         | 30/480 [00:08<02:05,  3.60it/s]\r  6%|▋         | 31/480 [00:08<02:04,  3.60it/s]\r  7%|▋         | 32/480 [00:09<02:04,  3.59it/s]\r  7%|▋         | 33/480 [00:09<02:04,  3.60it/s]\r  7%|▋         | 34/480 [00:09<02:04,  3.60it/s]\r  7%|▋         | 35/480 [00:09<02:03,  3.59it/s]\r  8%|▊         | 36/480 [00:10<02:03,  3.59it/s]\r  8%|▊         | 37/480 [00:10<02:03,  3.59it/s]\r  8%|▊         | 38/480 [00:10<02:03,  3.59it/s]\r  8%|▊         | 39/480 [00:11<02:03,  3.59it/s]\r  8%|▊         | 40/480 [00:11<02:02,  3.58it/s]\r  9%|▊         | 41/480 [00:11<02:02,  3.58it/s]\r  9%|▉         | 42/480 [00:11<02:01,  3.59it/s]\r  9%|▉         | 43/480 [00:12<02:01,  3.58it/s]\r  9%|▉         | 44/480 [00:12<02:01,  3.58it/s]\r  9%|▉         | 45/480 [00:12<02:01,  3.59it/s]\r 10%|▉         | 46/480 [00:13<02:00,  3.59it/s]\r 10%|▉         | 47/480 [00:13<02:01,  3.57it/s]\r 10%|█         | 48/480 [00:13<02:01,  3.56it/s]\r 10%|█         | 49/480 [00:13<02:01,  3.56it/s]\r 10%|█         | 50/480 [00:14<02:00,  3.56it/s]\r 11%|█         | 51/480 [00:14<02:00,  3.56it/s]\r 11%|█         | 52/480 [00:14<01:59,  3.57it/s]\r 11%|█         | 53/480 [00:14<01:59,  3.56it/s]\r 11%|█▏        | 54/480 [00:15<01:59,  3.57it/s]\r 11%|█▏        | 55/480 [00:15<01:59,  3.56it/s]\r 12%|█▏        | 56/480 [00:15<01:58,  3.57it/s]\r 12%|█▏        | 57/480 [00:16<01:58,  3.56it/s]\r 12%|█▏        | 58/480 [00:16<01:58,  3.57it/s]\r 12%|█▏        | 59/480 [00:16<01:58,  3.57it/s]\r 12%|█▎        | 60/480 [00:16<01:57,  3.57it/s]\r 13%|█▎        | 61/480 [00:17<01:57,  3.56it/s]\r 13%|█▎        | 62/480 [00:17<01:57,  3.57it/s]\r 13%|█▎        | 63/480 [00:17<01:57,  3.56it/s]\r 13%|█▎        | 64/480 [00:18<01:57,  3.55it/s]\r 14%|█▎        | 65/480 [00:18<01:57,  3.55it/s]\r 14%|█▍        | 66/480 [00:18<01:56,  3.56it/s]\r 14%|█▍        | 67/480 [00:18<01:56,  3.55it/s]\r 14%|█▍        | 68/480 [00:19<01:56,  3.55it/s]\r 14%|█▍        | 69/480 [00:19<01:55,  3.55it/s]\r 15%|█▍        | 70/480 [00:19<01:55,  3.54it/s]\r 15%|█▍        | 71/480 [00:20<01:55,  3.55it/s]\r 15%|█▌        | 72/480 [00:20<01:55,  3.54it/s]\r 15%|█▌        | 73/480 [00:20<01:55,  3.54it/s]\r 15%|█▌        | 74/480 [00:20<01:54,  3.54it/s]\r 16%|█▌        | 75/480 [00:21<01:54,  3.55it/s]\r 16%|█▌        | 76/480 [00:21<01:54,  3.54it/s]\r 16%|█▌        | 77/480 [00:21<01:53,  3.54it/s]\r 16%|█▋        | 78/480 [00:22<01:53,  3.54it/s]\r 16%|█▋        | 79/480 [00:22<01:53,  3.54it/s]\r 17%|█▋        | 80/480 [00:22<01:53,  3.54it/s]\r 17%|█▋        | 81/480 [00:22<01:52,  3.54it/s]\r 17%|█▋        | 82/480 [00:23<01:52,  3.54it/s]\r 17%|█▋        | 83/480 [00:23<01:52,  3.54it/s]\r 18%|█▊        | 84/480 [00:23<01:51,  3.54it/s]\r 18%|█▊        | 85/480 [00:24<01:51,  3.54it/s]\r 18%|█▊        | 86/480 [00:24<01:51,  3.53it/s]\r 18%|█▊        | 87/480 [00:24<01:51,  3.53it/s]\r 18%|█▊        | 88/480 [00:24<01:50,  3.53it/s]\r 19%|█▊        | 89/480 [00:25<01:50,  3.53it/s]\r 19%|█▉        | 90/480 [00:25<01:50,  3.53it/s]\r 19%|█▉        | 91/480 [00:25<01:50,  3.52it/s]\r 19%|█▉        | 92/480 [00:26<01:50,  3.52it/s]\r 19%|█▉        | 93/480 [00:26<01:49,  3.53it/s]\r 20%|█▉        | 94/480 [00:26<01:49,  3.53it/s]\r 20%|█▉        | 95/480 [00:26<01:49,  3.53it/s]\r 20%|██        | 96/480 [00:27<01:48,  3.53it/s]\r 20%|██        | 97/480 [00:27<01:48,  3.52it/s]\r 20%|██        | 98/480 [00:27<01:48,  3.53it/s]\r 21%|██        | 99/480 [00:27<01:47,  3.53it/s]\r 21%|██        | 100/480 [00:28<01:47,  3.53it/s]\r 21%|██        | 101/480 [00:28<01:47,  3.53it/s]\r 21%|██▏       | 102/480 [00:28<01:47,  3.51it/s]\r 21%|██▏       | 103/480 [00:29<01:47,  3.51it/s]\r 22%|██▏       | 104/480 [00:29<01:47,  3.50it/s]\r 22%|██▏       | 105/480 [00:29<01:46,  3.51it/s]\r 22%|██▏       | 106/480 [00:29<01:46,  3.52it/s]\r 22%|██▏       | 107/480 [00:30<01:46,  3.52it/s]\r 22%|██▎       | 108/480 [00:30<01:45,  3.52it/s]\r 23%|██▎       | 109/480 [00:30<01:45,  3.52it/s]\r 23%|██▎       | 110/480 [00:31<01:45,  3.51it/s]\r 23%|██▎       | 111/480 [00:31<01:45,  3.51it/s]\r 23%|██▎       | 112/480 [00:31<01:44,  3.52it/s]\r 24%|██▎       | 113/480 [00:31<01:44,  3.52it/s]\r 24%|██▍       | 114/480 [00:32<01:43,  3.52it/s]\r 24%|██▍       | 115/480 [00:32<01:43,  3.52it/s]\r 24%|██▍       | 116/480 [00:32<01:43,  3.52it/s]\r 24%|██▍       | 117/480 [00:33<01:43,  3.52it/s]\r 25%|██▍       | 118/480 [00:33<01:42,  3.52it/s]\r 25%|██▍       | 119/480 [00:33<01:42,  3.52it/s]\r 25%|██▌       | 120/480 [00:33<01:42,  3.51it/s]\r 25%|██▌       | 121/480 [00:34<01:42,  3.52it/s]\r 25%|██▌       | 122/480 [00:34<01:42,  3.51it/s]\r 26%|██▌       | 123/480 [00:34<01:41,  3.51it/s]\r 26%|██▌       | 124/480 [00:35<01:41,  3.50it/s]\r 26%|██▌       | 125/480 [00:35<01:41,  3.50it/s]\r 26%|██▋       | 126/480 [00:35<01:41,  3.50it/s]\r 26%|██▋       | 127/480 [00:35<01:40,  3.50it/s]\r 27%|██▋       | 128/480 [00:36<01:40,  3.51it/s]\r 27%|██▋       | 129/480 [00:36<01:40,  3.51it/s]\r 27%|██▋       | 130/480 [00:36<01:39,  3.51it/s]\r 27%|██▋       | 131/480 [00:37<01:39,  3.51it/s]\r 28%|██▊       | 132/480 [00:37<01:39,  3.51it/s]\r 28%|██▊       | 133/480 [00:37<01:38,  3.51it/s]\r 28%|██▊       | 134/480 [00:37<01:38,  3.50it/s]\r 28%|██▊       | 135/480 [00:38<01:38,  3.50it/s]\r 28%|██▊       | 136/480 [00:38<01:38,  3.48it/s]\r 29%|██▊       | 137/480 [00:38<01:38,  3.49it/s]\r 29%|██▉       | 138/480 [00:39<01:37,  3.50it/s]\r 29%|██▉       | 139/480 [00:39<01:37,  3.50it/s]\r 29%|██▉       | 140/480 [00:39<01:37,  3.50it/s]\r 29%|██▉       | 141/480 [00:39<01:36,  3.50it/s]\r 30%|██▉       | 142/480 [00:40<01:36,  3.49it/s]\r 30%|██▉       | 143/480 [00:40<01:36,  3.49it/s]\r 30%|███       | 144/480 [00:40<01:36,  3.49it/s]\r 30%|███       | 145/480 [00:41<01:35,  3.50it/s]\r 30%|███       | 146/480 [00:41<01:35,  3.49it/s]\r 31%|███       | 147/480 [00:41<01:35,  3.49it/s]\r 31%|███       | 148/480 [00:41<01:35,  3.49it/s]\r 31%|███       | 149/480 [00:42<01:34,  3.49it/s]\r 31%|███▏      | 150/480 [00:42<01:34,  3.50it/s]\r 31%|███▏      | 151/480 [00:42<01:34,  3.49it/s]\r 32%|███▏      | 152/480 [00:43<01:34,  3.48it/s]\r 32%|███▏      | 153/480 [00:43<01:33,  3.49it/s]\r 32%|███▏      | 154/480 [00:43<01:33,  3.50it/s]\r 32%|███▏      | 155/480 [00:43<01:33,  3.49it/s]\r 32%|███▎      | 156/480 [00:44<01:32,  3.49it/s]\r 33%|███▎      | 157/480 [00:44<01:32,  3.48it/s]\r 33%|███▎      | 158/480 [00:44<01:32,  3.48it/s]\r 33%|███▎      | 159/480 [00:45<01:32,  3.48it/s]\r 33%|███▎      | 160/480 [00:45<01:31,  3.48it/s]\r 34%|███▎      | 161/480 [00:45<01:31,  3.48it/s]\r 34%|███▍      | 162/480 [00:45<01:31,  3.48it/s]\r 34%|███▍      | 163/480 [00:46<01:31,  3.48it/s]\r 34%|███▍      | 164/480 [00:46<01:30,  3.48it/s]\r 34%|███▍      | 165/480 [00:46<01:30,  3.48it/s]\r 35%|███▍      | 166/480 [00:47<01:30,  3.48it/s]\r 35%|███▍      | 167/480 [00:47<01:29,  3.49it/s]\r 35%|███▌      | 168/480 [00:47<01:29,  3.49it/s]\r 35%|███▌      | 169/480 [00:47<01:29,  3.49it/s]\r 35%|███▌      | 170/480 [00:48<01:29,  3.48it/s]\r 36%|███▌      | 171/480 [00:48<01:28,  3.48it/s]\r 36%|███▌      | 172/480 [00:48<01:28,  3.47it/s]\r 36%|███▌      | 173/480 [00:49<01:28,  3.47it/s]\r 36%|███▋      | 174/480 [00:49<01:28,  3.47it/s]\r 36%|███▋      | 175/480 [00:49<01:27,  3.47it/s]\r 37%|███▋      | 176/480 [00:50<01:27,  3.47it/s]\r 37%|███▋      | 177/480 [00:50<01:27,  3.47it/s]\r 37%|███▋      | 178/480 [00:50<01:26,  3.48it/s]\r 37%|███▋      | 179/480 [00:50<01:26,  3.47it/s]\r 38%|███▊      | 180/480 [00:51<01:26,  3.47it/s]\r 38%|███▊      | 181/480 [00:51<01:26,  3.46it/s]\r 38%|███▊      | 182/480 [00:51<01:26,  3.46it/s]\r 38%|███▊      | 183/480 [00:52<01:25,  3.46it/s]\r 38%|███▊      | 184/480 [00:52<01:25,  3.45it/s]\r 39%|███▊      | 185/480 [00:52<01:25,  3.46it/s]\r 39%|███▉      | 186/480 [00:52<01:25,  3.46it/s]\r 39%|███▉      | 187/480 [00:53<01:24,  3.45it/s]\r 39%|███▉      | 188/480 [00:53<01:24,  3.45it/s]\r 39%|███▉      | 189/480 [00:53<01:24,  3.46it/s]\r 40%|███▉      | 190/480 [00:54<01:23,  3.46it/s]\r 40%|███▉      | 191/480 [00:54<01:23,  3.45it/s]\r 40%|████      | 192/480 [00:54<01:23,  3.45it/s]\r 40%|████      | 193/480 [00:54<01:23,  3.45it/s]\r 40%|████      | 194/480 [00:55<01:22,  3.45it/s]\r 41%|████      | 195/480 [00:55<01:22,  3.46it/s]\r 41%|████      | 196/480 [00:55<01:22,  3.46it/s]\r 41%|████      | 197/480 [00:56<01:21,  3.46it/s]\r 41%|████▏     | 198/480 [00:56<01:21,  3.46it/s]\r 41%|████▏     | 199/480 [00:56<01:21,  3.46it/s]\r 42%|████▏     | 200/480 [00:56<01:20,  3.46it/s]\r 42%|████▏     | 201/480 [00:57<01:20,  3.46it/s]\r 42%|████▏     | 202/480 [00:57<01:20,  3.45it/s]\r 42%|████▏     | 203/480 [00:57<01:20,  3.45it/s]\r 42%|████▎     | 204/480 [00:58<01:20,  3.45it/s]\r 43%|████▎     | 205/480 [00:58<01:19,  3.44it/s]\r 43%|████▎     | 206/480 [00:58<01:19,  3.44it/s]\r 43%|████▎     | 207/480 [00:58<01:19,  3.45it/s]\r 43%|████▎     | 208/480 [00:59<01:18,  3.44it/s]\r 44%|████▎     | 209/480 [00:59<01:18,  3.44it/s]\r 44%|████▍     | 210/480 [00:59<01:18,  3.44it/s]\r 44%|████▍     | 211/480 [01:00<01:18,  3.44it/s]\r 44%|████▍     | 212/480 [01:00<01:17,  3.44it/s]\r 44%|████▍     | 213/480 [01:00<01:17,  3.45it/s]\r 45%|████▍     | 214/480 [01:01<01:17,  3.44it/s]\r 45%|████▍     | 215/480 [01:01<01:16,  3.45it/s]\r 45%|████▌     | 216/480 [01:01<01:16,  3.44it/s]\r 45%|████▌     | 217/480 [01:01<01:16,  3.44it/s]\r 45%|████▌     | 218/480 [01:02<01:16,  3.44it/s]\r 46%|████▌     | 219/480 [01:02<01:15,  3.44it/s]\r 46%|████▌     | 220/480 [01:02<01:15,  3.43it/s]\r 46%|████▌     | 221/480 [01:03<01:15,  3.44it/s]\r 46%|████▋     | 222/480 [01:03<01:14,  3.44it/s]\r 46%|████▋     | 223/480 [01:03<01:14,  3.45it/s]\r 47%|████▋     | 224/480 [01:03<01:14,  3.44it/s]\r 47%|████▋     | 225/480 [01:04<01:14,  3.44it/s]\r 47%|████▋     | 226/480 [01:04<01:13,  3.43it/s]\r 47%|████▋     | 227/480 [01:04<01:13,  3.43it/s]\r 48%|████▊     | 228/480 [01:05<01:13,  3.43it/s]\r 48%|████▊     | 229/480 [01:05<01:13,  3.43it/s]\r 48%|████▊     | 230/480 [01:05<01:12,  3.43it/s]\r 48%|████▊     | 231/480 [01:05<01:12,  3.43it/s]\r 48%|████▊     | 232/480 [01:06<01:12,  3.43it/s]\r 49%|████▊     | 233/480 [01:06<01:12,  3.42it/s]\r 49%|████▉     | 234/480 [01:06<01:11,  3.42it/s]\r 49%|████▉     | 235/480 [01:07<01:11,  3.42it/s]\r 49%|████▉     | 236/480 [01:07<01:11,  3.42it/s]\r 49%|████▉     | 237/480 [01:07<01:10,  3.42it/s]\r 50%|████▉     | 238/480 [01:08<01:10,  3.42it/s]\r 50%|████▉     | 239/480 [01:08<01:10,  3.42it/s]\r 50%|█████     | 240/480 [01:08<01:10,  3.42it/s]\r 50%|█████     | 241/480 [01:08<01:09,  3.41it/s]\r 50%|█████     | 242/480 [01:09<01:09,  3.41it/s]\r 51%|█████     | 243/480 [01:09<01:09,  3.41it/s]\r 51%|█████     | 244/480 [01:09<01:09,  3.42it/s]\r 51%|█████     | 245/480 [01:10<01:08,  3.41it/s]\r 51%|█████▏    | 246/480 [01:10<01:08,  3.42it/s]\r 51%|█████▏    | 247/480 [01:10<01:08,  3.41it/s]\r 52%|█████▏    | 248/480 [01:10<01:08,  3.41it/s]\r 52%|█████▏    | 249/480 [01:11<01:07,  3.41it/s]\r 52%|█████▏    | 250/480 [01:11<01:07,  3.41it/s]\r 52%|█████▏    | 251/480 [01:11<01:07,  3.40it/s]\r 52%|█████▎    | 252/480 [01:12<01:06,  3.40it/s]\r 53%|█████▎    | 253/480 [01:12<01:06,  3.40it/s]\r 53%|█████▎    | 254/480 [01:12<01:06,  3.39it/s]\r 53%|█████▎    | 255/480 [01:13<01:06,  3.39it/s]\r 53%|█████▎    | 256/480 [01:13<01:06,  3.39it/s]\r 54%|█████▎    | 257/480 [01:13<01:05,  3.39it/s]\r 54%|█████▍    | 258/480 [01:13<01:05,  3.40it/s]\r 54%|█████▍    | 259/480 [01:14<01:05,  3.39it/s]\r 54%|█████▍    | 260/480 [01:14<01:04,  3.39it/s]\r 54%|█████▍    | 261/480 [01:14<01:04,  3.39it/s]\r 55%|█████▍    | 262/480 [01:15<01:04,  3.38it/s]\r 55%|█████▍    | 263/480 [01:15<01:04,  3.39it/s]\r 55%|█████▌    | 264/480 [01:15<01:03,  3.38it/s]\r 55%|█████▌    | 265/480 [01:15<01:03,  3.39it/s]\r 55%|█████▌    | 266/480 [01:16<01:03,  3.38it/s]\r 56%|█████▌    | 267/480 [01:16<01:02,  3.38it/s]\r 56%|█████▌    | 268/480 [01:16<01:02,  3.38it/s]\r 56%|█████▌    | 269/480 [01:17<01:02,  3.38it/s]\r 56%|█████▋    | 270/480 [01:17<01:02,  3.38it/s]\r 56%|█████▋    | 271/480 [01:17<01:01,  3.38it/s]\r 57%|█████▋    | 272/480 [01:18<01:01,  3.38it/s]\r 57%|█████▋    | 273/480 [01:18<01:01,  3.39it/s]\r 57%|█████▋    | 274/480 [01:18<01:00,  3.38it/s]\r 57%|█████▋    | 275/480 [01:18<01:00,  3.38it/s]\r 57%|█████▊    | 276/480 [01:19<01:00,  3.37it/s]\r 58%|█████▊    | 277/480 [01:19<01:00,  3.37it/s]\r 58%|█████▊    | 278/480 [01:19<00:59,  3.37it/s]\r 58%|█████▊    | 279/480 [01:20<00:59,  3.37it/s]\r 58%|█████▊    | 280/480 [01:20<00:59,  3.37it/s]\r 59%|█████▊    | 281/480 [01:20<00:59,  3.36it/s]\r 59%|█████▉    | 282/480 [01:20<00:58,  3.36it/s]\r 59%|█████▉    | 283/480 [01:21<00:58,  3.37it/s]\r 59%|█████▉    | 284/480 [01:21<00:58,  3.36it/s]\r 59%|█████▉    | 285/480 [01:21<00:57,  3.37it/s]\r 60%|█████▉    | 286/480 [01:22<00:57,  3.37it/s]\r 60%|█████▉    | 287/480 [01:22<00:57,  3.36it/s]\r 60%|██████    | 288/480 [01:22<00:57,  3.35it/s]\r 60%|██████    | 289/480 [01:23<00:56,  3.35it/s]\r 60%|██████    | 290/480 [01:23<00:56,  3.35it/s]\r 61%|██████    | 291/480 [01:23<00:56,  3.34it/s]\r 61%|██████    | 292/480 [01:23<00:56,  3.35it/s]\r 61%|██████    | 293/480 [01:24<00:55,  3.35it/s]\r 61%|██████▏   | 294/480 [01:24<00:55,  3.35it/s]\r 61%|██████▏   | 295/480 [01:24<00:55,  3.36it/s]\r 62%|██████▏   | 296/480 [01:25<00:54,  3.36it/s]\r 62%|██████▏   | 297/480 [01:25<00:54,  3.35it/s]\r 62%|██████▏   | 298/480 [01:25<00:54,  3.35it/s]\r 62%|██████▏   | 299/480 [01:26<00:53,  3.36it/s]\r 62%|██████▎   | 300/480 [01:26<00:53,  3.35it/s]\r 63%|██████▎   | 301/480 [01:26<00:53,  3.35it/s]\r 63%|██████▎   | 302/480 [01:26<00:53,  3.35it/s]\r 63%|██████▎   | 303/480 [01:27<00:52,  3.34it/s]\r 63%|██████▎   | 304/480 [01:27<00:52,  3.33it/s]\r 64%|██████▎   | 305/480 [01:27<00:52,  3.34it/s]\r 64%|██████▍   | 306/480 [01:28<00:52,  3.34it/s]\r 64%|██████▍   | 307/480 [01:28<00:51,  3.34it/s]\r 64%|██████▍   | 308/480 [01:28<00:51,  3.34it/s]\r 64%|██████▍   | 309/480 [01:29<00:51,  3.34it/s]\r 65%|██████▍   | 310/480 [01:29<00:50,  3.35it/s]\r 65%|██████▍   | 311/480 [01:29<00:50,  3.34it/s]\r 65%|██████▌   | 312/480 [01:29<00:50,  3.33it/s]\r 65%|██████▌   | 313/480 [01:30<00:50,  3.33it/s]\r 65%|██████▌   | 314/480 [01:30<00:49,  3.32it/s]\r 66%|██████▌   | 315/480 [01:30<00:49,  3.32it/s]\r 66%|██████▌   | 316/480 [01:31<00:49,  3.33it/s]\r 66%|██████▌   | 317/480 [01:31<00:48,  3.33it/s]\r 66%|██████▋   | 318/480 [01:31<00:48,  3.33it/s]\r 66%|██████▋   | 319/480 [01:32<00:48,  3.33it/s]\r 67%|██████▋   | 320/480 [01:32<00:48,  3.32it/s]\r 67%|██████▋   | 321/480 [01:32<00:47,  3.32it/s]\r 67%|██████▋   | 322/480 [01:32<00:47,  3.32it/s]\r 67%|██████▋   | 323/480 [01:33<00:47,  3.32it/s]\r 68%|██████▊   | 324/480 [01:33<00:46,  3.32it/s]\r 68%|██████▊   | 325/480 [01:33<00:46,  3.32it/s]\r 68%|██████▊   | 326/480 [01:34<00:46,  3.31it/s]\r 68%|██████▊   | 327/480 [01:34<00:46,  3.31it/s]\r 68%|██████▊   | 328/480 [01:34<00:45,  3.31it/s]\r 69%|██████▊   | 329/480 [01:35<00:45,  3.32it/s]\r 69%|██████▉   | 330/480 [01:35<00:45,  3.31it/s]\r 69%|██████▉   | 331/480 [01:35<00:45,  3.31it/s]\r 69%|██████▉   | 332/480 [01:35<00:44,  3.31it/s]\r 69%|██████▉   | 333/480 [01:36<00:44,  3.31it/s]\r 70%|██████▉   | 334/480 [01:36<00:44,  3.31it/s]\r 70%|██████▉   | 335/480 [01:36<00:43,  3.31it/s]\r 70%|███████   | 336/480 [01:37<00:43,  3.31it/s]\r 70%|███████   | 337/480 [01:37<00:43,  3.31it/s]\r 70%|███████   | 338/480 [01:37<00:42,  3.30it/s]\r 71%|███████   | 339/480 [01:38<00:42,  3.30it/s]\r 71%|███████   | 340/480 [01:38<00:42,  3.30it/s]\r 71%|███████   | 341/480 [01:38<00:41,  3.31it/s]\r 71%|███████▏  | 342/480 [01:39<00:41,  3.31it/s]\r 71%|███████▏  | 343/480 [01:39<00:41,  3.31it/s]\r 72%|███████▏  | 344/480 [01:39<00:41,  3.30it/s]\r 72%|███████▏  | 345/480 [01:39<00:40,  3.30it/s]\r 72%|███████▏  | 346/480 [01:40<00:40,  3.29it/s]\r 72%|███████▏  | 347/480 [01:40<00:40,  3.29it/s]\r 72%|███████▎  | 348/480 [01:40<00:40,  3.29it/s]\r 73%|███████▎  | 349/480 [01:41<00:39,  3.29it/s]\r 73%|███████▎  | 350/480 [01:41<00:39,  3.29it/s]\r 73%|███████▎  | 351/480 [01:41<00:39,  3.29it/s]\r 73%|███████▎  | 352/480 [01:42<00:38,  3.29it/s]\r 74%|███████▎  | 353/480 [01:42<00:38,  3.29it/s]\r 74%|███████▍  | 354/480 [01:42<00:38,  3.29it/s]\r 74%|███████▍  | 355/480 [01:42<00:38,  3.29it/s]\r 74%|███████▍  | 356/480 [01:43<00:37,  3.28it/s]\r 74%|███████▍  | 357/480 [01:43<00:37,  3.28it/s]\r 75%|███████▍  | 358/480 [01:43<00:37,  3.27it/s]\r 75%|███████▍  | 359/480 [01:44<00:36,  3.27it/s]\r 75%|███████▌  | 360/480 [01:44<00:36,  3.28it/s]\r 75%|███████▌  | 361/480 [01:44<00:36,  3.28it/s]\r 75%|███████▌  | 362/480 [01:45<00:35,  3.28it/s]\r 76%|███████▌  | 363/480 [01:45<00:35,  3.28it/s]\r 76%|███████▌  | 364/480 [01:45<00:35,  3.28it/s]\r 76%|███████▌  | 365/480 [01:46<00:35,  3.28it/s]\r 76%|███████▋  | 366/480 [01:46<00:34,  3.28it/s]\r 76%|███████▋  | 367/480 [01:46<00:34,  3.27it/s]\r 77%|███████▋  | 368/480 [01:46<00:34,  3.27it/s]\r 77%|███████▋  | 369/480 [01:47<00:34,  3.26it/s]\r 77%|███████▋  | 370/480 [01:47<00:33,  3.26it/s]\r 77%|███████▋  | 371/480 [01:47<00:33,  3.26it/s]\r 78%|███████▊  | 372/480 [01:48<00:33,  3.26it/s]\r 78%|███████▊  | 373/480 [01:48<00:32,  3.26it/s]\r 78%|███████▊  | 374/480 [01:48<00:32,  3.26it/s]\r 78%|███████▊  | 375/480 [01:49<00:32,  3.25it/s]\r 78%|███████▊  | 376/480 [01:49<00:32,  3.25it/s]\r 79%|███████▊  | 377/480 [01:49<00:31,  3.25it/s]\r 79%|███████▉  | 378/480 [01:50<00:31,  3.25it/s]\r 79%|███████▉  | 379/480 [01:50<00:31,  3.25it/s]\r 79%|███████▉  | 380/480 [01:50<00:30,  3.25it/s]\r 79%|███████▉  | 381/480 [01:50<00:30,  3.25it/s]\r 80%|███████▉  | 382/480 [01:51<00:30,  3.24it/s]\r 80%|███████▉  | 383/480 [01:51<00:29,  3.24it/s]\r 80%|████████  | 384/480 [01:51<00:29,  3.24it/s]\r 80%|████████  | 385/480 [01:52<00:29,  3.24it/s]\r 80%|████████  | 386/480 [01:52<00:29,  3.24it/s]\r 81%|████████  | 387/480 [01:52<00:28,  3.23it/s]\r 81%|████████  | 388/480 [01:53<00:28,  3.24it/s]\r 81%|████████  | 389/480 [01:53<00:28,  3.25it/s]\r 81%|████████▏ | 390/480 [01:53<00:27,  3.24it/s]\r 81%|████████▏ | 391/480 [01:54<00:27,  3.24it/s]\r 82%|████████▏ | 392/480 [01:54<00:27,  3.24it/s]\r 82%|████████▏ | 393/480 [01:54<00:26,  3.24it/s]\r 82%|████████▏ | 394/480 [01:54<00:26,  3.24it/s]\r 82%|████████▏ | 395/480 [01:55<00:26,  3.23it/s]\r 82%|████████▎ | 396/480 [01:55<00:26,  3.23it/s]\r 83%|████████▎ | 397/480 [01:55<00:25,  3.23it/s]\r 83%|████████▎ | 398/480 [01:56<00:25,  3.24it/s]\r 83%|████████▎ | 399/480 [01:56<00:25,  3.23it/s]\r 83%|████████▎ | 400/480 [01:56<00:24,  3.23it/s]\r 84%|████████▎ | 401/480 [01:57<00:24,  3.23it/s]\r 84%|████████▍ | 402/480 [01:57<00:24,  3.23it/s]\r 84%|████████▍ | 403/480 [01:57<00:23,  3.23it/s]\r 84%|████████▍ | 404/480 [01:58<00:23,  3.22it/s]\r 84%|████████▍ | 405/480 [01:58<00:23,  3.23it/s]\r 85%|████████▍ | 406/480 [01:58<00:22,  3.23it/s]\r 85%|████████▍ | 407/480 [01:58<00:22,  3.23it/s]\r 85%|████████▌ | 408/480 [01:59<00:22,  3.22it/s]\r 85%|████████▌ | 409/480 [01:59<00:22,  3.22it/s]\r 85%|████████▌ | 410/480 [01:59<00:21,  3.23it/s]\r 86%|████████▌ | 411/480 [02:00<00:21,  3.22it/s]\r 86%|████████▌ | 412/480 [02:00<00:21,  3.22it/s]\r 86%|████████▌ | 413/480 [02:00<00:20,  3.23it/s]\r 86%|████████▋ | 414/480 [02:01<00:20,  3.23it/s]\r 86%|████████▋ | 415/480 [02:01<00:20,  3.22it/s]\r 87%|████████▋ | 416/480 [02:01<00:19,  3.22it/s]\r 87%|████████▋ | 417/480 [02:02<00:19,  3.23it/s]\r 87%|████████▋ | 418/480 [02:02<00:19,  3.22it/s]\r 87%|████████▋ | 419/480 [02:02<00:18,  3.22it/s]\r 88%|████████▊ | 420/480 [02:02<00:18,  3.23it/s]\r 88%|████████▊ | 421/480 [02:03<00:18,  3.24it/s]\r 88%|████████▊ | 422/480 [02:03<00:17,  3.23it/s]\r 88%|████████▊ | 423/480 [02:03<00:17,  3.22it/s]\r 88%|████████▊ | 424/480 [02:04<00:17,  3.23it/s]\r 89%|████████▊ | 425/480 [02:04<00:17,  3.23it/s]\r 89%|████████▉ | 426/480 [02:04<00:16,  3.24it/s]\r 89%|████████▉ | 427/480 [02:05<00:16,  3.24it/s]\r 89%|████████▉ | 428/480 [02:05<00:16,  3.24it/s]\r 89%|████████▉ | 429/480 [02:05<00:15,  3.25it/s]\r 90%|████████▉ | 430/480 [02:06<00:15,  3.25it/s]\r 90%|████████▉ | 431/480 [02:06<00:15,  3.25it/s]\r 90%|█████████ | 432/480 [02:06<00:14,  3.25it/s]\r 90%|█████████ | 433/480 [02:07<00:14,  3.25it/s]\r 90%|█████████ | 434/480 [02:07<00:14,  3.25it/s]\r 91%|█████████ | 435/480 [02:07<00:13,  3.25it/s]\r 91%|█████████ | 436/480 [02:07<00:13,  3.26it/s]\r 91%|█████████ | 437/480 [02:08<00:13,  3.26it/s]\r 91%|█████████▏| 438/480 [02:08<00:12,  3.26it/s]\r 91%|█████████▏| 439/480 [02:08<00:12,  3.26it/s]\r 92%|█████████▏| 440/480 [02:09<00:12,  3.27it/s]\r 92%|█████████▏| 441/480 [02:09<00:11,  3.27it/s]\r 92%|█████████▏| 442/480 [02:09<00:11,  3.26it/s]\r 92%|█████████▏| 443/480 [02:10<00:11,  3.27it/s]\r 92%|█████████▎| 444/480 [02:10<00:11,  3.27it/s]\r 93%|█████████▎| 445/480 [02:10<00:10,  3.27it/s]\r 93%|█████████▎| 446/480 [02:10<00:10,  3.27it/s]\r 93%|█████████▎| 447/480 [02:11<00:10,  3.28it/s]\r 93%|█████████▎| 448/480 [02:11<00:09,  3.28it/s]\r 94%|█████████▎| 449/480 [02:11<00:09,  3.28it/s]\r 94%|█████████▍| 450/480 [02:12<00:09,  3.28it/s]\r 94%|█████████▍| 451/480 [02:12<00:08,  3.29it/s]\r 94%|█████████▍| 452/480 [02:12<00:08,  3.29it/s]\r 94%|█████████▍| 453/480 [02:13<00:08,  3.29it/s]\r 95%|█████████▍| 454/480 [02:13<00:07,  3.29it/s]\r 95%|█████████▍| 455/480 [02:13<00:07,  3.29it/s]\r 95%|█████████▌| 456/480 [02:14<00:07,  3.30it/s]\r 95%|█████████▌| 457/480 [02:14<00:06,  3.30it/s]\r 95%|█████████▌| 458/480 [02:14<00:06,  3.29it/s]\r 96%|█████████▌| 459/480 [02:14<00:06,  3.29it/s]\r 96%|█████████▌| 460/480 [02:15<00:06,  3.30it/s]\r 96%|█████████▌| 461/480 [02:15<00:05,  3.30it/s]\r 96%|█████████▋| 462/480 [02:15<00:05,  3.29it/s]\r 96%|█████████▋| 463/480 [02:16<00:05,  3.30it/s]\r 97%|█████████▋| 464/480 [02:16<00:04,  3.30it/s]\r 97%|█████████▋| 465/480 [02:16<00:04,  3.30it/s]\r 97%|█████████▋| 466/480 [02:17<00:04,  3.29it/s]\r 97%|█████████▋| 467/480 [02:17<00:03,  3.29it/s]\r 98%|█████████▊| 468/480 [02:17<00:03,  3.29it/s]\r 98%|█████████▊| 469/480 [02:17<00:03,  3.29it/s]\r 98%|█████████▊| 470/480 [02:18<00:03,  3.29it/s]\r 98%|█████████▊| 471/480 [02:18<00:02,  3.30it/s]\r 98%|█████████▊| 472/480 [02:18<00:02,  3.29it/s]\r 99%|█████████▊| 473/480 [02:19<00:02,  3.29it/s]\r 99%|█████████▉| 474/480 [02:19<00:01,  3.30it/s]\r 99%|█████████▉| 475/480 [02:19<00:01,  3.29it/s]\r 99%|█████████▉| 476/480 [02:20<00:01,  3.30it/s]\r 99%|█████████▉| 477/480 [02:20<00:00,  3.30it/s]\r100%|█████████▉| 478/480 [02:20<00:00,  3.29it/s]\r100%|█████████▉| 479/480 [02:21<00:00,  3.29it/s]\r100%|██████████| 480/480 [02:21<00:00,  3.30it/s]\r100%|██████████| 480/480 [02:21<00:00,  3.40it/s]\n"
          ]
        }
      ]
    },
    {
      "cell_type": "code",
      "source": [
        "%%bash\n",
        "python calc_metrics.py --metrics=fid50k_full --network=/content/drive/MyDrive/ProjectedGANResults/00002-fastgan-tomato_late_blight256-gpus1-batch64-/network-snapshot.pkl"
      ],
      "metadata": {
        "id": "FlC4P6kXtgaX"
      },
      "execution_count": null,
      "outputs": []
    },
    {
      "cell_type": "code",
      "source": [
        "!python calc_metrics.py --metrics=kid50k_full --network=/content/drive/MyDrive/ProjectedGANResults/00002-fastgan-tomato_late_blight256-gpus1-batch64-/network-snapshot.pkl"
      ],
      "metadata": {
        "id": "pnA_Yl_ctjH4"
      },
      "execution_count": null,
      "outputs": []
    },
    {
      "cell_type": "code",
      "source": [
        "!python calc_metrics.py --metrics=is50k --network=/content/drive/MyDrive/ProjectedGANResults/00002-fastgan-tomato_late_blight256-gpus1-batch64-/network-snapshot.pkl"
      ],
      "metadata": {
        "id": "ai5XxrBx3I6L"
      },
      "execution_count": null,
      "outputs": []
    },
    {
      "cell_type": "code",
      "source": [
        "!python calc_metrics.py --metrics=pr50k3_full --network=/content/drive/MyDrive/ProjectedGANResults/00000-fastgan-powdery_mildew256-gpus1-batch64-/network-snapshot.pkl"
      ],
      "metadata": {
        "id": "qfQ0sAiXtri-",
        "outputId": "dfced007-b455-4b40-e1ce-d7af834d0ece",
        "colab": {
          "base_uri": "https://localhost:8080/"
        }
      },
      "execution_count": null,
      "outputs": [
        {
          "output_type": "stream",
          "name": "stdout",
          "text": [
            "Loading network from \"/content/drive/MyDrive/ProjectedGANResults/00000-fastgan-powdery_mildew256-gpus1-batch64-/network-snapshot.pkl\"...\n",
            "Dataset options:\n",
            "{\n",
            "  \"class_name\": \"training.dataset.ImageFolderDataset\",\n",
            "  \"path\": \"/content/powdery_mildew256.zip\",\n",
            "  \"use_labels\": false,\n",
            "  \"max_size\": 997,\n",
            "  \"xflip\": 1,\n",
            "  \"resolution\": 256,\n",
            "  \"random_seed\": 0\n",
            "}\n",
            "Launching processes...\n",
            "\n",
            "Generator              Parameters  Buffers  Output shape        Datatype\n",
            "---                    ---         ---      ---                 ---     \n",
            "mapping                -           -        [1, 1, 256]         float32 \n",
            "synthesis.init.init    16785408    16385    [1, 2048, 4, 4]     float32 \n",
            "synthesis.feat_8.0     -           -        [1, 2048, 8, 8]     float32 \n",
            "synthesis.feat_8.1     37748736    20480    [1, 2048, 8, 8]     float32 \n",
            "synthesis.feat_8.2     1           -        [1, 2048, 8, 8]     float32 \n",
            "synthesis.feat_8.3     4096        4097     [1, 2048, 8, 8]     float32 \n",
            "synthesis.feat_8.4     -           -        [1, 1024, 8, 8]     float32 \n",
            "synthesis.feat_8.5     18874368    11264    [1, 2048, 8, 8]     float32 \n",
            "synthesis.feat_8.6     1           -        [1, 2048, 8, 8]     float32 \n",
            "synthesis.feat_8.7     4096        4097     [1, 2048, 8, 8]     float32 \n",
            "synthesis.feat_8.8     -           -        [1, 1024, 8, 8]     float32 \n",
            "synthesis.feat_16.0    -           -        [1, 1024, 16, 16]   float32 \n",
            "synthesis.feat_16.1    9437184     10240    [1, 1024, 16, 16]   float32 \n",
            "synthesis.feat_16.2    1           -        [1, 1024, 16, 16]   float32 \n",
            "synthesis.feat_16.3    2048        2049     [1, 1024, 16, 16]   float32 \n",
            "synthesis.feat_16.4    -           -        [1, 512, 16, 16]    float32 \n",
            "synthesis.feat_16.5    4718592     5632     [1, 1024, 16, 16]   float32 \n",
            "synthesis.feat_16.6    1           -        [1, 1024, 16, 16]   float32 \n",
            "synthesis.feat_16.7    2048        2049     [1, 1024, 16, 16]   float32 \n",
            "synthesis.feat_16.8    -           -        [1, 512, 16, 16]    float32 \n",
            "synthesis.feat_32.0    -           -        [1, 512, 32, 32]    float32 \n",
            "synthesis.feat_32.1    2359296     5120     [1, 512, 32, 32]    float32 \n",
            "synthesis.feat_32.2    1           -        [1, 512, 32, 32]    float32 \n",
            "synthesis.feat_32.3    1024        1025     [1, 512, 32, 32]    float32 \n",
            "synthesis.feat_32.4    -           -        [1, 256, 32, 32]    float32 \n",
            "synthesis.feat_32.5    1179648     2816     [1, 512, 32, 32]    float32 \n",
            "synthesis.feat_32.6    1           -        [1, 512, 32, 32]    float32 \n",
            "synthesis.feat_32.7    1024        1025     [1, 512, 32, 32]    float32 \n",
            "synthesis.feat_32.8    -           -        [1, 256, 32, 32]    float32 \n",
            "synthesis.feat_64.0    -           -        [1, 256, 64, 64]    float32 \n",
            "synthesis.feat_64.1    1179648     2816     [1, 512, 64, 64]    float32 \n",
            "synthesis.feat_64.2    1           -        [1, 512, 64, 64]    float32 \n",
            "synthesis.feat_64.3    1024        1025     [1, 512, 64, 64]    float32 \n",
            "synthesis.feat_64.4    -           -        [1, 256, 64, 64]    float32 \n",
            "synthesis.feat_64.5    1179648     2816     [1, 512, 64, 64]    float32 \n",
            "synthesis.feat_64.6    1           -        [1, 512, 64, 64]    float32 \n",
            "synthesis.feat_64.7    1024        1025     [1, 512, 64, 64]    float32 \n",
            "synthesis.feat_64.8    -           -        [1, 256, 64, 64]    float32 \n",
            "synthesis.se_64.main   8454144     33536    [1, 256, 1, 1]      float32 \n",
            "synthesis.se_64        -           -        [1, 256, 64, 64]    float32 \n",
            "synthesis.feat_128.0   -           -        [1, 256, 128, 128]  float32 \n",
            "synthesis.feat_128.1   589824      2560     [1, 256, 128, 128]  float32 \n",
            "synthesis.feat_128.2   1           -        [1, 256, 128, 128]  float32 \n",
            "synthesis.feat_128.3   512         513      [1, 256, 128, 128]  float32 \n",
            "synthesis.feat_128.4   -           -        [1, 128, 128, 128]  float32 \n",
            "synthesis.feat_128.5   294912      1408     [1, 256, 128, 128]  float32 \n",
            "synthesis.feat_128.6   1           -        [1, 256, 128, 128]  float32 \n",
            "synthesis.feat_128.7   512         513      [1, 256, 128, 128]  float32 \n",
            "synthesis.feat_128.8   -           -        [1, 128, 128, 128]  float32 \n",
            "synthesis.se_128.main  2113536     16768    [1, 128, 1, 1]      float32 \n",
            "synthesis.se_128       -           -        [1, 128, 128, 128]  float32 \n",
            "synthesis.feat_256.0   -           -        [1, 128, 256, 256]  float32 \n",
            "synthesis.feat_256.1   147456      1280     [1, 128, 256, 256]  float32 \n",
            "synthesis.feat_256.2   1           -        [1, 128, 256, 256]  float32 \n",
            "synthesis.feat_256.3   256         257      [1, 128, 256, 256]  float32 \n",
            "synthesis.feat_256.4   -           -        [1, 64, 256, 256]   float32 \n",
            "synthesis.feat_256.5   73728       704      [1, 128, 256, 256]  float32 \n",
            "synthesis.feat_256.6   1           -        [1, 128, 256, 256]  float32 \n",
            "synthesis.feat_256.7   256         257      [1, 128, 256, 256]  float32 \n",
            "synthesis.feat_256.8   -           -        [1, 64, 256, 256]   float32 \n",
            "synthesis.se_256.main  528384      8384     [1, 64, 1, 1]       float32 \n",
            "synthesis.se_256       -           -        [1, 64, 256, 256]   float32 \n",
            "synthesis.to_big       1731        579      [1, 3, 256, 256]    float32 \n",
            "---                    ---         ---      ---                 ---     \n",
            "Total                  105684175   160720   -                   -       \n",
            "\n",
            "Calculating pr50k3_full...\n",
            "Calculating the stats for this dataset the first time\n",
            "\n",
            "Saving them to ./dnnlib/gan-metrics/powdery_mildew256-vgg16-18ef0d344d1012b7883c48c4dcee6469.pkl\n",
            "Downloading https://api.ngc.nvidia.com/v2/models/nvidia/research/stylegan3/versions/1/files/metrics/vgg16.pkl ... done\n",
            "/usr/local/lib/python3.7/dist-packages/torch/utils/data/dataloader.py:490: UserWarning: This DataLoader will create 3 worker processes in total. Our suggested max number of worker in current system is 2, which is smaller than what this DataLoader is going to create. Please be aware that excessive worker creation might get DataLoader running slow or even freeze, lower the worker number to avoid potential slowness/freeze if necessary.\n",
            "  cpuset_checked))\n",
            " 94%|#########3| 15/16 [00:07<00:00,  6.53it/s]dataset features    items 997     time 25s          ms/item 25.39\n",
            "100%|##########| 16/16 [00:07<00:00,  2.05it/s]\n",
            "generator features  items 1024    time 15s          ms/item 14.41\n",
            "generator features  items 2048    time 29s          ms/item 14.38\n",
            "generator features  items 3072    time 44s          ms/item 14.37\n",
            "generator features  items 4096    time 59s          ms/item 14.37\n",
            "generator features  items 5120    time 1m 14s       ms/item 14.37\n",
            "generator features  items 6144    time 1m 28s       ms/item 14.38\n",
            "generator features  items 7168    time 1m 43s       ms/item 14.36\n",
            "generator features  items 8192    time 1m 58s       ms/item 14.38\n",
            "generator features  items 9216    time 2m 12s       ms/item 14.37\n",
            "generator features  items 10240   time 2m 27s       ms/item 14.36\n",
            "generator features  items 11264   time 2m 42s       ms/item 14.37\n",
            "generator features  items 12288   time 2m 57s       ms/item 14.38\n",
            "generator features  items 13312   time 3m 11s       ms/item 14.37\n",
            "generator features  items 14336   time 3m 26s       ms/item 14.37\n",
            "generator features  items 15360   time 3m 41s       ms/item 14.37\n",
            "generator features  items 16384   time 3m 55s       ms/item 14.37\n",
            "generator features  items 17408   time 4m 10s       ms/item 14.37\n",
            "generator features  items 18432   time 4m 25s       ms/item 14.37\n",
            "generator features  items 19456   time 4m 40s       ms/item 14.37\n",
            "generator features  items 20480   time 4m 54s       ms/item 14.37\n",
            "generator features  items 21504   time 5m 09s       ms/item 14.37\n",
            "generator features  items 22528   time 5m 24s       ms/item 14.37\n",
            "generator features  items 23552   time 5m 38s       ms/item 14.36\n",
            "generator features  items 24576   time 5m 53s       ms/item 14.37\n",
            "generator features  items 25600   time 6m 08s       ms/item 14.37\n",
            "generator features  items 26624   time 6m 23s       ms/item 14.38\n",
            "generator features  items 27648   time 6m 37s       ms/item 14.36\n",
            "generator features  items 28672   time 6m 52s       ms/item 14.67\n",
            "generator features  items 29696   time 7m 07s       ms/item 14.66\n",
            "generator features  items 30720   time 7m 22s       ms/item 14.62\n",
            "generator features  items 31744   time 7m 37s       ms/item 14.57\n",
            "generator features  items 32768   time 7m 52s       ms/item 14.54\n",
            "generator features  items 33792   time 8m 07s       ms/item 14.51\n",
            "generator features  items 34816   time 8m 22s       ms/item 14.46\n",
            "generator features  items 35840   time 8m 37s       ms/item 14.41\n",
            "generator features  items 36864   time 8m 51s       ms/item 14.38\n",
            "generator features  items 37888   time 9m 11s       ms/item 18.87\n",
            "generator features  items 38912   time 9m 30s       ms/item 19.14\n",
            "generator features  items 39936   time 9m 50s       ms/item 18.98\n",
            "generator features  items 40960   time 10m 09s      ms/item 18.93\n",
            "generator features  items 41984   time 10m 28s      ms/item 18.86\n",
            "generator features  items 43008   time 10m 48s      ms/item 18.73\n",
            "generator features  items 44032   time 11m 07s      ms/item 18.61\n",
            "generator features  items 45056   time 11m 26s      ms/item 18.50\n",
            "generator features  items 46080   time 11m 44s      ms/item 18.47\n",
            "generator features  items 47104   time 12m 03s      ms/item 18.38\n",
            "generator features  items 48128   time 12m 22s      ms/item 18.30\n",
            "generator features  items 49152   time 12m 41s      ms/item 18.21\n",
            "generator features  items 50000   time 12m 57s      ms/item 19.19\n",
            "tcmalloc: large alloc 2000003072 bytes == 0x7fb6c0ca6000 @  0x7fba11ac2b6b 0x7fba11ae2379 0x7fb957a6f50e 0x7fb957a617c2 0x7fb9919d21a7 0x7fb9919d2449 0x7fb9919d24a6 0x7fb991ea69f8 0x7fb992593c0f 0x7fb992355656 0x7fb992579466 0x7fb992393367 0x7fb991ea3dad 0x7fb9926958ea 0x7fb99215c5f9 0x7fb99257aa47 0x7fb99215c5f9 0x7fb9931ae4c6 0x7fb9931aea0d 0x7fb9921c9f4a 0x7fb991e9f2e4 0x7fb99272c2ef 0x7fb9922bcace 0x7fba0ce34b32 0x7fba0ce39b68 0x59b1b0 0x515655 0x549576 0x593fce 0x548ae9 0x5127f1\n",
            "tcmalloc: large alloc 2000003072 bytes == 0x7fb64994c000 @  0x7fba11ac2b6b 0x7fba11ae2379 0x7fb957a6f50e 0x7fb957a617c2 0x7fb9919d310f 0x7fb9919d3a51 0x7fb9919d3aa4 0x7fb991ea69ae 0x7fb992593aea 0x7fb99235538c 0x7fb99257a62f 0x7fb9923901e0 0x7fba0d15f371 0x7fb991eb315c 0x7fb992694d84 0x7fb992477a13 0x7fb991b53ed8 0x7fb991eb21ea 0x7fb9926957ef 0x7fb9922b84ce 0x7fb991e48c6b 0x7fb991e4972d 0x7fb992594195 0x7fb9922a59f8 0x7fb991e486d8 0x7fb992694ec8 0x7fb992257e21 0x7fb99326635b 0x7fb9932669bb 0x7fb9922a572c 0x7fba0ce3304a\n",
            "tcmalloc: large alloc 4000006144 bytes == 0x7fb55b298000 @  0x7fba11ac2b6b 0x7fba11ae2379 0x7fb957a6f50e 0x7fb957a617c2 0x7fb9919d310f 0x7fb9919d3a51 0x7fb9919d3aa4 0x7fb991ea69ae 0x7fb992593aea 0x7fb99235538c 0x7fb99257a62f 0x7fb9923901e0 0x7fba0d15f371 0x7fb991e48cb9 0x7fb991e4972d 0x7fb992594195 0x7fb9922a59f8 0x7fb991e486d8 0x7fb992694ec8 0x7fb992257e21 0x7fb99326635b 0x7fb9932669bb 0x7fb9922a572c 0x7fba0ce3304a 0x59b1b0 0x515655 0x549576 0x593fce 0x548ae9 0x5127f1 0x593dd7\n",
            "/usr/lib/python3.7/multiprocessing/semaphore_tracker.py:144: UserWarning: semaphore_tracker: There appear to be 1 leaked semaphores to clean up at shutdown\n",
            "  len(cache))\n",
            "^C\n"
          ]
        }
      ]
    }
  ]
}