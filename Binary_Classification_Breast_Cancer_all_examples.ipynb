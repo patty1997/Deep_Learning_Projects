{
  "nbformat": 4,
  "nbformat_minor": 0,
  "metadata": {
    "colab": {
      "name": "Binary_Classification_Breast_Cancer_all_examples.ipynb",
      "provenance": [],
      "collapsed_sections": [],
      "include_colab_link": true
    },
    "kernelspec": {
      "name": "python3",
      "display_name": "Python 3"
    },
    "language_info": {
      "name": "python"
    },
    "accelerator": "GPU"
  },
  "cells": [
    {
      "cell_type": "markdown",
      "metadata": {
        "id": "view-in-github",
        "colab_type": "text"
      },
      "source": [
        "<a href=\"https://colab.research.google.com/github/patty1997/Deep_Learning_Projects/blob/main/Binary_Classification_Breast_Cancer_all_examples.ipynb\" target=\"_parent\"><img src=\"https://colab.research.google.com/assets/colab-badge.svg\" alt=\"Open In Colab\"/></a>"
      ]
    },
    {
      "cell_type": "code",
      "metadata": {
        "id": "3ik7EDt4sGSI",
        "colab": {
          "base_uri": "https://localhost:8080/",
          "height": 137
        },
        "outputId": "d83e2968-87d7-4984-da40-f52ce91ac758"
      },
      "source": [
        "\"\"\"\n",
        "\n",
        "\n",
        "Dataset information:\n",
        "https://archive.ics.uci.edu/ml/datasets/Breast+Cancer+Wisconsin+(Diagnostic)\n",
        "## 'data.frame':    569 obs. of  31 variables:\n",
        "##  $ diagnosis              : Factor w/ 2 levels \"Benign\",\"Malignant\": 2 2 2 2 2 2 2 2 2 2 ...\n",
        "##  $ radius_mean            : num  18 20.6 19.7 11.4 20.3 ...\n",
        "##  $ texture_mean           : num  10.4 17.8 21.2 20.4 14.3 ...\n",
        "##  $ perimeter_mean         : num  122.8 132.9 130 77.6 135.1 ...\n",
        "##  $ area_mean              : num  1001 1326 1203 386 1297 ...\n",
        "##  $ smoothness_mean        : num  0.1184 0.0847 0.1096 0.1425 0.1003 ...\n",
        "##  $ compactness_mean       : num  0.2776 0.0786 0.1599 0.2839 0.1328 ...\n",
        "##  $ concavity_mean         : num  0.3001 0.0869 0.1974 0.2414 0.198 ...\n",
        "##  $ concave.points_mean    : num  0.1471 0.0702 0.1279 0.1052 0.1043 ...\n",
        "##  $ symmetry_mean          : num  0.242 0.181 0.207 0.26 0.181 ...\n",
        "##  $ fractal_dimension_mean : num  0.0787 0.0567 0.06 0.0974 0.0588 ...\n",
        "##  $ radius_se              : num  1.095 0.543 0.746 0.496 0.757 ...\n",
        "##  $ texture_se             : num  0.905 0.734 0.787 1.156 0.781 ...\n",
        "##  $ perimeter_se           : num  8.59 3.4 4.58 3.44 5.44 ...\n",
        "##  $ area_se                : num  153.4 74.1 94 27.2 94.4 ...\n",
        "##  $ smoothness_se          : num  0.0064 0.00522 0.00615 0.00911 0.01149 ...\n",
        "##  $ compactness_se         : num  0.049 0.0131 0.0401 0.0746 0.0246 ...\n",
        "##  $ concavity_se           : num  0.0537 0.0186 0.0383 0.0566 0.0569 ...\n",
        "##  $ concave.points_se      : num  0.0159 0.0134 0.0206 0.0187 0.0188 ...\n",
        "##  $ symmetry_se            : num  0.03 0.0139 0.0225 0.0596 0.0176 ...\n",
        "##  $ fractal_dimension_se   : num  0.00619 0.00353 0.00457 0.00921 0.00511 ...\n",
        "##  $ radius_worst           : num  25.4 25 23.6 14.9 22.5 ...\n",
        "##  $ texture_worst          : num  17.3 23.4 25.5 26.5 16.7 ...\n",
        "##  $ perimeter_worst        : num  184.6 158.8 152.5 98.9 152.2 ...\n",
        "##  $ area_worst             : num  2019 1956 1709 568 1575 ...\n",
        "##  $ smoothness_worst       : num  0.162 0.124 0.144 0.21 0.137 ...\n",
        "##  $ compactness_worst      : num  0.666 0.187 0.424 0.866 0.205 ...\n",
        "##  $ concavity_worst        : num  0.712 0.242 0.45 0.687 0.4 ...\n",
        "##  $ concave.points_worst   : num  0.265 0.186 0.243 0.258 0.163 ...\n",
        "##  $ symmetry_worst         : num  0.46 0.275 0.361 0.664 0.236 ...\n",
        "##  $ fractal_dimension_worst: num  0.1189 0.089 0.0876 0.173 0.0768 ...\n",
        "\n",
        "\"\"\""
      ],
      "execution_count": null,
      "outputs": [
        {
          "output_type": "execute_result",
          "data": {
            "application/vnd.google.colaboratory.intrinsic+json": {
              "type": "string"
            },
            "text/plain": [
              "'\\n\\n\\nDataset information:\\nhttps://archive.ics.uci.edu/ml/datasets/Breast+Cancer+Wisconsin+(Diagnostic)\\n## \\'data.frame\\':    569 obs. of  31 variables:\\n##  $ diagnosis              : Factor w/ 2 levels \"Benign\",\"Malignant\": 2 2 2 2 2 2 2 2 2 2 ...\\n##  $ radius_mean            : num  18 20.6 19.7 11.4 20.3 ...\\n##  $ texture_mean           : num  10.4 17.8 21.2 20.4 14.3 ...\\n##  $ perimeter_mean         : num  122.8 132.9 130 77.6 135.1 ...\\n##  $ area_mean              : num  1001 1326 1203 386 1297 ...\\n##  $ smoothness_mean        : num  0.1184 0.0847 0.1096 0.1425 0.1003 ...\\n##  $ compactness_mean       : num  0.2776 0.0786 0.1599 0.2839 0.1328 ...\\n##  $ concavity_mean         : num  0.3001 0.0869 0.1974 0.2414 0.198 ...\\n##  $ concave.points_mean    : num  0.1471 0.0702 0.1279 0.1052 0.1043 ...\\n##  $ symmetry_mean          : num  0.242 0.181 0.207 0.26 0.181 ...\\n##  $ fractal_dimension_mean : num  0.0787 0.0567 0.06 0.0974 0.0588 ...\\n##  $ radius_se              : num  1.095 0.543 0.746 0.496 0.757 ...\\n##  $ texture_se             : num  0.905 0.734 0.787 1.156 0.781 ...\\n##  $ perimeter_se           : num  8.59 3.4 4.58 3.44 5.44 ...\\n##  $ area_se                : num  153.4 74.1 94 27.2 94.4 ...\\n##  $ smoothness_se          : num  0.0064 0.00522 0.00615 0.00911 0.01149 ...\\n##  $ compactness_se         : num  0.049 0.0131 0.0401 0.0746 0.0246 ...\\n##  $ concavity_se           : num  0.0537 0.0186 0.0383 0.0566 0.0569 ...\\n##  $ concave.points_se      : num  0.0159 0.0134 0.0206 0.0187 0.0188 ...\\n##  $ symmetry_se            : num  0.03 0.0139 0.0225 0.0596 0.0176 ...\\n##  $ fractal_dimension_se   : num  0.00619 0.00353 0.00457 0.00921 0.00511 ...\\n##  $ radius_worst           : num  25.4 25 23.6 14.9 22.5 ...\\n##  $ texture_worst          : num  17.3 23.4 25.5 26.5 16.7 ...\\n##  $ perimeter_worst        : num  184.6 158.8 152.5 98.9 152.2 ...\\n##  $ area_worst             : num  2019 1956 1709 568 1575 ...\\n##  $ smoothness_worst       : num  0.162 0.124 0.144 0.21 0.137 ...\\n##  $ compactness_worst      : num  0.666 0.187 0.424 0.866 0.205 ...\\n##  $ concavity_worst        : num  0.712 0.242 0.45 0.687 0.4 ...\\n##  $ concave.points_worst   : num  0.265 0.186 0.243 0.258 0.163 ...\\n##  $ symmetry_worst         : num  0.46 0.275 0.361 0.664 0.236 ...\\n##  $ fractal_dimension_worst: num  0.1189 0.089 0.0876 0.173 0.0768 ...\\n\\n'"
            ]
          },
          "metadata": {
            "tags": []
          },
          "execution_count": 21
        }
      ]
    },
    {
      "cell_type": "code",
      "metadata": {
        "id": "eno8V9jMuGSo"
      },
      "source": [
        "import pandas as pd\n",
        "from matplotlib import pyplot as plt\n",
        "import seaborn as sns\n",
        "import numpy as np"
      ],
      "execution_count": null,
      "outputs": []
    },
    {
      "cell_type": "code",
      "metadata": {
        "id": "odoBwwhpuxLx"
      },
      "source": [
        "df = pd.read_csv(\"/content/drive/MyDrive/Colab Notebooks/Data/wisc_bc_data.csv\")"
      ],
      "execution_count": null,
      "outputs": []
    },
    {
      "cell_type": "code",
      "metadata": {
        "colab": {
          "base_uri": "https://localhost:8080/"
        },
        "id": "bgyo4L2zvJol",
        "outputId": "8b9d6b31-a119-413d-e287-a615e301e47a"
      },
      "source": [
        "print(df.describe().T)"
      ],
      "execution_count": null,
      "outputs": [
        {
          "output_type": "stream",
          "text": [
            "                   count          mean  ...           75%           max\n",
            "id                 569.0  3.037183e+07  ...  8.813129e+06  9.113205e+08\n",
            "radius_mean        569.0  1.412729e+01  ...  1.578000e+01  2.811000e+01\n",
            "texture_mean       569.0  1.928965e+01  ...  2.180000e+01  3.928000e+01\n",
            "perimeter_mean     569.0  9.196903e+01  ...  1.041000e+02  1.885000e+02\n",
            "area_mean          569.0  6.548891e+02  ...  7.827000e+02  2.501000e+03\n",
            "smoothness_mean    569.0  9.636028e-02  ...  1.053000e-01  1.634000e-01\n",
            "compactness_mean   569.0  1.043410e-01  ...  1.304000e-01  3.454000e-01\n",
            "concavity_mean     569.0  8.879932e-02  ...  1.307000e-01  4.268000e-01\n",
            "points_mean        569.0  4.891915e-02  ...  7.400000e-02  2.012000e-01\n",
            "symmetry_mean      569.0  1.811619e-01  ...  1.957000e-01  3.040000e-01\n",
            "dimension_mean     569.0  6.279761e-02  ...  6.612000e-02  9.744000e-02\n",
            "radius_se          569.0  4.051721e-01  ...  4.789000e-01  2.873000e+00\n",
            "texture_se         569.0  1.216853e+00  ...  1.474000e+00  4.885000e+00\n",
            "perimeter_se       569.0  2.866059e+00  ...  3.357000e+00  2.198000e+01\n",
            "area_se            569.0  4.033708e+01  ...  4.519000e+01  5.422000e+02\n",
            "smoothness_se      569.0  7.040979e-03  ...  8.146000e-03  3.113000e-02\n",
            "compactness_se     569.0  2.547814e-02  ...  3.245000e-02  1.354000e-01\n",
            "concavity_se       569.0  3.189372e-02  ...  4.205000e-02  3.960000e-01\n",
            "points_se          569.0  1.179614e-02  ...  1.471000e-02  5.279000e-02\n",
            "symmetry_se        569.0  2.054230e-02  ...  2.348000e-02  7.895000e-02\n",
            "dimension_se       569.0  3.794904e-03  ...  4.558000e-03  2.984000e-02\n",
            "radius_worst       569.0  1.626919e+01  ...  1.879000e+01  3.604000e+01\n",
            "texture_worst      569.0  2.567722e+01  ...  2.972000e+01  4.954000e+01\n",
            "perimeter_worst    569.0  1.072612e+02  ...  1.254000e+02  2.512000e+02\n",
            "area_worst         569.0  8.805831e+02  ...  1.084000e+03  4.254000e+03\n",
            "smoothness_worst   569.0  1.323686e-01  ...  1.460000e-01  2.226000e-01\n",
            "compactness_worst  569.0  2.542650e-01  ...  3.391000e-01  1.058000e+00\n",
            "concavity_worst    569.0  2.721885e-01  ...  3.829000e-01  1.252000e+00\n",
            "points_worst       569.0  1.146062e-01  ...  1.614000e-01  2.910000e-01\n",
            "symmetry_worst     569.0  2.900756e-01  ...  3.179000e-01  6.638000e-01\n",
            "dimension_worst    569.0  8.394582e-02  ...  9.208000e-02  2.075000e-01\n",
            "\n",
            "[31 rows x 8 columns]\n"
          ],
          "name": "stdout"
        }
      ]
    },
    {
      "cell_type": "code",
      "metadata": {
        "colab": {
          "base_uri": "https://localhost:8080/"
        },
        "id": "FHfv0FMOxDxa",
        "outputId": "a9688380-da5e-49f4-a399-5f19b9febb4a"
      },
      "source": [
        "print(df.isnull().sum())\n"
      ],
      "execution_count": null,
      "outputs": [
        {
          "output_type": "stream",
          "text": [
            "id                   0\n",
            "diagnosis            0\n",
            "radius_mean          0\n",
            "texture_mean         0\n",
            "perimeter_mean       0\n",
            "area_mean            0\n",
            "smoothness_mean      0\n",
            "compactness_mean     0\n",
            "concavity_mean       0\n",
            "points_mean          0\n",
            "symmetry_mean        0\n",
            "dimension_mean       0\n",
            "radius_se            0\n",
            "texture_se           0\n",
            "perimeter_se         0\n",
            "area_se              0\n",
            "smoothness_se        0\n",
            "compactness_se       0\n",
            "concavity_se         0\n",
            "points_se            0\n",
            "symmetry_se          0\n",
            "dimension_se         0\n",
            "radius_worst         0\n",
            "texture_worst        0\n",
            "perimeter_worst      0\n",
            "area_worst           0\n",
            "smoothness_worst     0\n",
            "compactness_worst    0\n",
            "concavity_worst      0\n",
            "points_worst         0\n",
            "symmetry_worst       0\n",
            "dimension_worst      0\n",
            "dtype: int64\n"
          ],
          "name": "stdout"
        }
      ]
    },
    {
      "cell_type": "code",
      "metadata": {
        "colab": {
          "base_uri": "https://localhost:8080/"
        },
        "id": "4ttytmyzxVcX",
        "outputId": "66e9c7e8-16d9-4217-c269-edd1193904dc"
      },
      "source": [
        "#Rename dataset to label to make it easy to understand\n",
        "df = df.rename(columns={'diagnosis':'Label'})\n",
        "print(df.dtypes)"
      ],
      "execution_count": null,
      "outputs": [
        {
          "output_type": "stream",
          "text": [
            "id                     int64\n",
            "Label                 object\n",
            "radius_mean          float64\n",
            "texture_mean         float64\n",
            "perimeter_mean       float64\n",
            "area_mean            float64\n",
            "smoothness_mean      float64\n",
            "compactness_mean     float64\n",
            "concavity_mean       float64\n",
            "points_mean          float64\n",
            "symmetry_mean        float64\n",
            "dimension_mean       float64\n",
            "radius_se            float64\n",
            "texture_se           float64\n",
            "perimeter_se         float64\n",
            "area_se              float64\n",
            "smoothness_se        float64\n",
            "compactness_se       float64\n",
            "concavity_se         float64\n",
            "points_se            float64\n",
            "symmetry_se          float64\n",
            "dimension_se         float64\n",
            "radius_worst         float64\n",
            "texture_worst        float64\n",
            "perimeter_worst      float64\n",
            "area_worst           float64\n",
            "smoothness_worst     float64\n",
            "compactness_worst    float64\n",
            "concavity_worst      float64\n",
            "points_worst         float64\n",
            "symmetry_worst       float64\n",
            "dimension_worst      float64\n",
            "dtype: object\n"
          ],
          "name": "stdout"
        }
      ]
    },
    {
      "cell_type": "code",
      "metadata": {
        "colab": {
          "base_uri": "https://localhost:8080/",
          "height": 296
        },
        "id": "TZ6Az6T7ywiw",
        "outputId": "e0175a56-5f6c-4321-c3e4-23ee0d0a2640"
      },
      "source": [
        "#Understand the data\n",
        "sns.countplot(x=\"Label\", data=df) #M - malignant #B - Benign"
      ],
      "execution_count": null,
      "outputs": [
        {
          "output_type": "execute_result",
          "data": {
            "text/plain": [
              "<matplotlib.axes._subplots.AxesSubplot at 0x7f704b421c10>"
            ]
          },
          "metadata": {
            "tags": []
          },
          "execution_count": 27
        },
        {
          "output_type": "display_data",
          "data": {
            "image/png": "[encoded data removed]",
            "text/plain": [
              "<Figure size 432x288 with 1 Axes>"
            ]
          },
          "metadata": {
            "tags": [],
            "needs_background": "light"
          }
        }
      ]
    },
    {
      "cell_type": "code",
      "metadata": {
        "colab": {
          "base_uri": "https://localhost:8080/"
        },
        "id": "SWfyaL6jzcWc",
        "outputId": "869e07b4-8884-4a92-8fd5-e3e47110c7e7"
      },
      "source": [
        "###### Replace categorical values with numbers #######\n",
        "print(\"Distribution of data: \",df['Label'].value_counts())\n",
        "\n",
        "#Define the dependent variable that needs to be predicted(labels)\n",
        "y = df[\"Label\"].values\n",
        "print(\"Labels before encoding are: \",np.unique(y))\n",
        "\n",
        "#Encoding categorical data from text (B and M) to integers (0 and 1)\n",
        "from sklearn.preprocessing import LabelEncoder\n",
        "labelencoder = LabelEncoder()\n",
        "Y = labelencoder.fit_transform(y) #B=0 and M=1\n",
        "print(\"Labels after encoding are: \", np.unique(Y))\n",
        "\n"
      ],
      "execution_count": null,
      "outputs": [
        {
          "output_type": "stream",
          "text": [
            "Distribution of data:  B    357\n",
            "M    212\n",
            "Name: Label, dtype: int64\n",
            "Labels before encoding are:  ['B' 'M']\n",
            "Labels after encoding are:  [0 1]\n"
          ],
          "name": "stdout"
        }
      ]
    },
    {
      "cell_type": "code",
      "metadata": {
        "colab": {
          "base_uri": "https://localhost:8080/"
        },
        "id": "wyx1TQ7qqOzq",
        "outputId": "d4fdecc9-91de-45d2-ba4c-75c416a97e6e"
      },
      "source": [
        "#Define x and normalize / scale values\n",
        "\n",
        "#Define the independent variables. Drop label and ID, and normalize other data\n",
        "\n",
        "X = df.drop(labels=[\"Label\",\"id\"],axis='columns')\n",
        "print(X.describe().T) #Need Scaling\n",
        " "
      ],
      "execution_count": null,
      "outputs": [
        {
          "output_type": "stream",
          "text": [
            "                   count        mean  ...          75%         max\n",
            "radius_mean        569.0   14.127292  ...    15.780000    28.11000\n",
            "texture_mean       569.0   19.289649  ...    21.800000    39.28000\n",
            "perimeter_mean     569.0   91.969033  ...   104.100000   188.50000\n",
            "area_mean          569.0  654.889104  ...   782.700000  2501.00000\n",
            "smoothness_mean    569.0    0.096360  ...     0.105300     0.16340\n",
            "compactness_mean   569.0    0.104341  ...     0.130400     0.34540\n",
            "concavity_mean     569.0    0.088799  ...     0.130700     0.42680\n",
            "points_mean        569.0    0.048919  ...     0.074000     0.20120\n",
            "symmetry_mean      569.0    0.181162  ...     0.195700     0.30400\n",
            "dimension_mean     569.0    0.062798  ...     0.066120     0.09744\n",
            "radius_se          569.0    0.405172  ...     0.478900     2.87300\n",
            "texture_se         569.0    1.216853  ...     1.474000     4.88500\n",
            "perimeter_se       569.0    2.866059  ...     3.357000    21.98000\n",
            "area_se            569.0   40.337079  ...    45.190000   542.20000\n",
            "smoothness_se      569.0    0.007041  ...     0.008146     0.03113\n",
            "compactness_se     569.0    0.025478  ...     0.032450     0.13540\n",
            "concavity_se       569.0    0.031894  ...     0.042050     0.39600\n",
            "points_se          569.0    0.011796  ...     0.014710     0.05279\n",
            "symmetry_se        569.0    0.020542  ...     0.023480     0.07895\n",
            "dimension_se       569.0    0.003795  ...     0.004558     0.02984\n",
            "radius_worst       569.0   16.269190  ...    18.790000    36.04000\n",
            "texture_worst      569.0   25.677223  ...    29.720000    49.54000\n",
            "perimeter_worst    569.0  107.261213  ...   125.400000   251.20000\n",
            "area_worst         569.0  880.583128  ...  1084.000000  4254.00000\n",
            "smoothness_worst   569.0    0.132369  ...     0.146000     0.22260\n",
            "compactness_worst  569.0    0.254265  ...     0.339100     1.05800\n",
            "concavity_worst    569.0    0.272188  ...     0.382900     1.25200\n",
            "points_worst       569.0    0.114606  ...     0.161400     0.29100\n",
            "symmetry_worst     569.0    0.290076  ...     0.317900     0.66380\n",
            "dimension_worst    569.0    0.083946  ...     0.092080     0.20750\n",
            "\n",
            "[30 rows x 8 columns]\n"
          ],
          "name": "stdout"
        }
      ]
    },
    {
      "cell_type": "code",
      "metadata": {
        "colab": {
          "base_uri": "https://localhost:8080/"
        },
        "id": "P75hp2Hns3B7",
        "outputId": "f9901828-fedb-4cf2-ccb3-846b339bdbdb"
      },
      "source": [
        "#Scale / normalize the values to bring them to similar range\n",
        "from sklearn.preprocessing import MinMaxScaler\n",
        "scalar = MinMaxScaler()\n",
        "scalar.fit(X)\n",
        "X = scalar.transform(X)\n",
        "print(X)  #Scaled values"
      ],
      "execution_count": null,
      "outputs": [
        {
          "output_type": "stream",
          "text": [
            "[[0.25268588 0.0906324  0.24227766 ... 0.32271478 0.24876799 0.08310376]\n",
            " [0.17128118 0.31247886 0.17614539 ... 0.27237113 0.27104278 0.136626  ]\n",
            " [0.19210564 0.24078458 0.18747841 ... 0.25536082 0.28247585 0.15590975]\n",
            " ...\n",
            " [0.3927777  0.42948935 0.38096883 ... 0.42130584 0.31736645 0.27994228]\n",
            " [0.35728146 0.14440311 0.34600235 ... 0.36735395 0.20520402 0.15125279]\n",
            " [0.68100715 0.18227934 0.67383042 ... 0.67560137 0.22964715 0.20739866]]\n"
          ],
          "name": "stdout"
        }
      ]
    },
    {
      "cell_type": "code",
      "metadata": {
        "colab": {
          "base_uri": "https://localhost:8080/"
        },
        "id": "GAxUcH9Z08iP",
        "outputId": "c40951e0-3ab2-4859-82d9-873a5945d4dc"
      },
      "source": [
        "#Split data into train and test to verify accuracy after fitting the model\n",
        "from sklearn.model_selection import train_test_split\n",
        "X_train, X_test, y_train, y_test = train_test_split(X,Y,test_size=0.25,random_state = 42)\n",
        "print(\"Shape of training data is: \",X_train.shape)\n",
        "print(\"Shape of testing data is: \",X_test.shape)\n",
        "print(\"Shape of training data is: \",y_train.shape)\n",
        "print(\"Shape of training data is: \",y_test.shape)"
      ],
      "execution_count": null,
      "outputs": [
        {
          "output_type": "stream",
          "text": [
            "Shape of training data is:  (426, 30)\n",
            "Shape of testing data is:  (143, 30)\n",
            "Shape of training data is:  (426,)\n",
            "Shape of training data is:  (143,)\n"
          ],
          "name": "stdout"
        }
      ]
    },
    {
      "cell_type": "code",
      "metadata": {
        "id": "dQ6Ec0T216s7"
      },
      "source": [
        "from keras.models import Sequential\n",
        "from keras.layers import Dense, Activation, Dropout"
      ],
      "execution_count": null,
      "outputs": []
    },
    {
      "cell_type": "code",
      "metadata": {
        "colab": {
          "base_uri": "https://localhost:8080/"
        },
        "id": "SAGJmAQD8oYu",
        "outputId": "1a1aaf90-11f7-444c-edd4-c35b94ad2adb"
      },
      "source": [
        "model = Sequential()\n",
        "model.add(Dense(16, input_dim=30, activation = 'relu'))\n",
        "model.add(Dropout(0.2))\n",
        "model.add(Dense(1))\n",
        "model.add(Activation('sigmoid'))\n",
        "model.compile(loss='binary_crossentropy',optimizer='adam',metrics=['accuracy'])\n",
        "\n",
        "print(model.summary())"
      ],
      "execution_count": null,
      "outputs": [
        {
          "output_type": "stream",
          "text": [
            "Model: \"sequential_1\"\n",
            "_________________________________________________________________\n",
            "Layer (type)                 Output Shape              Param #   \n",
            "=================================================================\n",
            "dense_2 (Dense)              (None, 16)                496       \n",
            "_________________________________________________________________\n",
            "dropout_1 (Dropout)          (None, 16)                0         \n",
            "_________________________________________________________________\n",
            "dense_3 (Dense)              (None, 1)                 17        \n",
            "_________________________________________________________________\n",
            "activation_1 (Activation)    (None, 1)                 0         \n",
            "=================================================================\n",
            "Total params: 513\n",
            "Trainable params: 513\n",
            "Non-trainable params: 0\n",
            "_________________________________________________________________\n",
            "None\n"
          ],
          "name": "stdout"
        }
      ]
    },
    {
      "cell_type": "code",
      "metadata": {
        "colab": {
          "base_uri": "https://localhost:8080/"
        },
        "id": "Lp3uBLmwNJJU",
        "outputId": "3aa165f9-6adb-49da-d0a5-73c5f144f4ac"
      },
      "source": [
        "#Fit with no early stopping or other callbacks\n",
        "\n",
        "history = model.fit(X_train, y_train, verbose=1, epochs=100, batch_size=64, validation_data=(X_test, y_test))\n"
      ],
      "execution_count": null,
      "outputs": [
        {
          "output_type": "stream",
          "text": [
            "Epoch 1/100\n",
            "7/7 [==============================] - 3s 33ms/step - loss: 0.7169 - accuracy: 0.4479 - val_loss: 0.7017 - val_accuracy: 0.5734\n",
            "Epoch 2/100\n",
            "7/7 [==============================] - 0s 8ms/step - loss: 0.7025 - accuracy: 0.5249 - val_loss: 0.6885 - val_accuracy: 0.6154\n",
            "Epoch 3/100\n",
            "7/7 [==============================] - 0s 7ms/step - loss: 0.6873 - accuracy: 0.6320 - val_loss: 0.6763 - val_accuracy: 0.6783\n",
            "Epoch 4/100\n",
            "7/7 [==============================] - 0s 7ms/step - loss: 0.6771 - accuracy: 0.6605 - val_loss: 0.6652 - val_accuracy: 0.7343\n",
            "Epoch 5/100\n",
            "7/7 [==============================] - 0s 8ms/step - loss: 0.6647 - accuracy: 0.7043 - val_loss: 0.6545 - val_accuracy: 0.7972\n",
            "Epoch 6/100\n",
            "7/7 [==============================] - 0s 7ms/step - loss: 0.6581 - accuracy: 0.7056 - val_loss: 0.6445 - val_accuracy: 0.8462\n",
            "Epoch 7/100\n",
            "7/7 [==============================] - 0s 8ms/step - loss: 0.6489 - accuracy: 0.7566 - val_loss: 0.6352 - val_accuracy: 0.8671\n",
            "Epoch 8/100\n",
            "7/7 [==============================] - 0s 8ms/step - loss: 0.6441 - accuracy: 0.7383 - val_loss: 0.6258 - val_accuracy: 0.8881\n",
            "Epoch 9/100\n",
            "7/7 [==============================] - 0s 7ms/step - loss: 0.6356 - accuracy: 0.7417 - val_loss: 0.6163 - val_accuracy: 0.9091\n",
            "Epoch 10/100\n",
            "7/7 [==============================] - 0s 7ms/step - loss: 0.6252 - accuracy: 0.7854 - val_loss: 0.6065 - val_accuracy: 0.9091\n",
            "Epoch 11/100\n",
            "7/7 [==============================] - 0s 7ms/step - loss: 0.6107 - accuracy: 0.8055 - val_loss: 0.5967 - val_accuracy: 0.9301\n",
            "Epoch 12/100\n",
            "7/7 [==============================] - 0s 7ms/step - loss: 0.6043 - accuracy: 0.8122 - val_loss: 0.5872 - val_accuracy: 0.9231\n",
            "Epoch 13/100\n",
            "7/7 [==============================] - 0s 7ms/step - loss: 0.6135 - accuracy: 0.7666 - val_loss: 0.5775 - val_accuracy: 0.9231\n",
            "Epoch 14/100\n",
            "7/7 [==============================] - 0s 7ms/step - loss: 0.5945 - accuracy: 0.8235 - val_loss: 0.5673 - val_accuracy: 0.9231\n",
            "Epoch 15/100\n",
            "7/7 [==============================] - 0s 7ms/step - loss: 0.5858 - accuracy: 0.7888 - val_loss: 0.5570 - val_accuracy: 0.9231\n",
            "Epoch 16/100\n",
            "7/7 [==============================] - 0s 7ms/step - loss: 0.5779 - accuracy: 0.7976 - val_loss: 0.5465 - val_accuracy: 0.9301\n",
            "Epoch 17/100\n",
            "7/7 [==============================] - 0s 7ms/step - loss: 0.5742 - accuracy: 0.8232 - val_loss: 0.5353 - val_accuracy: 0.9371\n",
            "Epoch 18/100\n",
            "7/7 [==============================] - 0s 7ms/step - loss: 0.5493 - accuracy: 0.8439 - val_loss: 0.5243 - val_accuracy: 0.9301\n",
            "Epoch 19/100\n",
            "7/7 [==============================] - 0s 7ms/step - loss: 0.5490 - accuracy: 0.8536 - val_loss: 0.5124 - val_accuracy: 0.9371\n",
            "Epoch 20/100\n",
            "7/7 [==============================] - 0s 7ms/step - loss: 0.5376 - accuracy: 0.8371 - val_loss: 0.5000 - val_accuracy: 0.9371\n",
            "Epoch 21/100\n",
            "7/7 [==============================] - 0s 8ms/step - loss: 0.5252 - accuracy: 0.8497 - val_loss: 0.4881 - val_accuracy: 0.9441\n",
            "Epoch 22/100\n",
            "7/7 [==============================] - 0s 8ms/step - loss: 0.5233 - accuracy: 0.8092 - val_loss: 0.4757 - val_accuracy: 0.9371\n",
            "Epoch 23/100\n",
            "7/7 [==============================] - 0s 8ms/step - loss: 0.5086 - accuracy: 0.8562 - val_loss: 0.4636 - val_accuracy: 0.9441\n",
            "Epoch 24/100\n",
            "7/7 [==============================] - 0s 7ms/step - loss: 0.5056 - accuracy: 0.8315 - val_loss: 0.4521 - val_accuracy: 0.9441\n",
            "Epoch 25/100\n",
            "7/7 [==============================] - 0s 7ms/step - loss: 0.4697 - accuracy: 0.8710 - val_loss: 0.4410 - val_accuracy: 0.9510\n",
            "Epoch 26/100\n",
            "7/7 [==============================] - 0s 7ms/step - loss: 0.4837 - accuracy: 0.8435 - val_loss: 0.4301 - val_accuracy: 0.9510\n",
            "Epoch 27/100\n",
            "7/7 [==============================] - 0s 7ms/step - loss: 0.4648 - accuracy: 0.8632 - val_loss: 0.4196 - val_accuracy: 0.9510\n",
            "Epoch 28/100\n",
            "7/7 [==============================] - 0s 7ms/step - loss: 0.4482 - accuracy: 0.8640 - val_loss: 0.4089 - val_accuracy: 0.9510\n",
            "Epoch 29/100\n",
            "7/7 [==============================] - 0s 7ms/step - loss: 0.4490 - accuracy: 0.8683 - val_loss: 0.3989 - val_accuracy: 0.9510\n",
            "Epoch 30/100\n",
            "7/7 [==============================] - 0s 9ms/step - loss: 0.4544 - accuracy: 0.8637 - val_loss: 0.3893 - val_accuracy: 0.9510\n",
            "Epoch 31/100\n",
            "7/7 [==============================] - 0s 8ms/step - loss: 0.4288 - accuracy: 0.8721 - val_loss: 0.3807 - val_accuracy: 0.9510\n",
            "Epoch 32/100\n",
            "7/7 [==============================] - 0s 7ms/step - loss: 0.4165 - accuracy: 0.8915 - val_loss: 0.3711 - val_accuracy: 0.9580\n",
            "Epoch 33/100\n",
            "7/7 [==============================] - 0s 7ms/step - loss: 0.4170 - accuracy: 0.8721 - val_loss: 0.3614 - val_accuracy: 0.9510\n",
            "Epoch 34/100\n",
            "7/7 [==============================] - 0s 7ms/step - loss: 0.4127 - accuracy: 0.8734 - val_loss: 0.3528 - val_accuracy: 0.9580\n",
            "Epoch 35/100\n",
            "7/7 [==============================] - 0s 7ms/step - loss: 0.4003 - accuracy: 0.9009 - val_loss: 0.3444 - val_accuracy: 0.9580\n",
            "Epoch 36/100\n",
            "7/7 [==============================] - 0s 7ms/step - loss: 0.3845 - accuracy: 0.8890 - val_loss: 0.3358 - val_accuracy: 0.9510\n",
            "Epoch 37/100\n",
            "7/7 [==============================] - 0s 8ms/step - loss: 0.3974 - accuracy: 0.8850 - val_loss: 0.3266 - val_accuracy: 0.9580\n",
            "Epoch 38/100\n",
            "7/7 [==============================] - 0s 7ms/step - loss: 0.3880 - accuracy: 0.8848 - val_loss: 0.3176 - val_accuracy: 0.9580\n",
            "Epoch 39/100\n",
            "7/7 [==============================] - 0s 7ms/step - loss: 0.3666 - accuracy: 0.8833 - val_loss: 0.3107 - val_accuracy: 0.9580\n",
            "Epoch 40/100\n",
            "7/7 [==============================] - 0s 10ms/step - loss: 0.3556 - accuracy: 0.9064 - val_loss: 0.3023 - val_accuracy: 0.9580\n",
            "Epoch 41/100\n",
            "7/7 [==============================] - 0s 7ms/step - loss: 0.3695 - accuracy: 0.8909 - val_loss: 0.2947 - val_accuracy: 0.9580\n",
            "Epoch 42/100\n",
            "7/7 [==============================] - 0s 7ms/step - loss: 0.3653 - accuracy: 0.8791 - val_loss: 0.2869 - val_accuracy: 0.9580\n",
            "Epoch 43/100\n",
            "7/7 [==============================] - 0s 7ms/step - loss: 0.3388 - accuracy: 0.9011 - val_loss: 0.2792 - val_accuracy: 0.9650\n",
            "Epoch 44/100\n",
            "7/7 [==============================] - 0s 8ms/step - loss: 0.3343 - accuracy: 0.9173 - val_loss: 0.2722 - val_accuracy: 0.9650\n",
            "Epoch 45/100\n",
            "7/7 [==============================] - 0s 7ms/step - loss: 0.3483 - accuracy: 0.8624 - val_loss: 0.2662 - val_accuracy: 0.9580\n",
            "Epoch 46/100\n",
            "7/7 [==============================] - 0s 7ms/step - loss: 0.3287 - accuracy: 0.9048 - val_loss: 0.2615 - val_accuracy: 0.9580\n",
            "Epoch 47/100\n",
            "7/7 [==============================] - 0s 7ms/step - loss: 0.3229 - accuracy: 0.8998 - val_loss: 0.2558 - val_accuracy: 0.9510\n",
            "Epoch 48/100\n",
            "7/7 [==============================] - 0s 7ms/step - loss: 0.3109 - accuracy: 0.8818 - val_loss: 0.2482 - val_accuracy: 0.9580\n",
            "Epoch 49/100\n",
            "7/7 [==============================] - 0s 7ms/step - loss: 0.3024 - accuracy: 0.9033 - val_loss: 0.2426 - val_accuracy: 0.9580\n",
            "Epoch 50/100\n",
            "7/7 [==============================] - 0s 7ms/step - loss: 0.2974 - accuracy: 0.9146 - val_loss: 0.2378 - val_accuracy: 0.9580\n",
            "Epoch 51/100\n",
            "7/7 [==============================] - 0s 6ms/step - loss: 0.2986 - accuracy: 0.9190 - val_loss: 0.2329 - val_accuracy: 0.9580\n",
            "Epoch 52/100\n",
            "7/7 [==============================] - 0s 7ms/step - loss: 0.2934 - accuracy: 0.9161 - val_loss: 0.2280 - val_accuracy: 0.9580\n",
            "Epoch 53/100\n",
            "7/7 [==============================] - 0s 8ms/step - loss: 0.3039 - accuracy: 0.8902 - val_loss: 0.2238 - val_accuracy: 0.9580\n",
            "Epoch 54/100\n",
            "7/7 [==============================] - 0s 7ms/step - loss: 0.2921 - accuracy: 0.9128 - val_loss: 0.2196 - val_accuracy: 0.9580\n",
            "Epoch 55/100\n",
            "7/7 [==============================] - 0s 24ms/step - loss: 0.2839 - accuracy: 0.9162 - val_loss: 0.2148 - val_accuracy: 0.9580\n",
            "Epoch 56/100\n",
            "7/7 [==============================] - 0s 9ms/step - loss: 0.2857 - accuracy: 0.9024 - val_loss: 0.2101 - val_accuracy: 0.9650\n",
            "Epoch 57/100\n",
            "7/7 [==============================] - 0s 7ms/step - loss: 0.2844 - accuracy: 0.9006 - val_loss: 0.2078 - val_accuracy: 0.9580\n",
            "Epoch 58/100\n",
            "7/7 [==============================] - 0s 8ms/step - loss: 0.2644 - accuracy: 0.9196 - val_loss: 0.2039 - val_accuracy: 0.9580\n",
            "Epoch 59/100\n",
            "7/7 [==============================] - 0s 8ms/step - loss: 0.2908 - accuracy: 0.9139 - val_loss: 0.1999 - val_accuracy: 0.9580\n",
            "Epoch 60/100\n",
            "7/7 [==============================] - 0s 8ms/step - loss: 0.2738 - accuracy: 0.9097 - val_loss: 0.1974 - val_accuracy: 0.9580\n",
            "Epoch 61/100\n",
            "7/7 [==============================] - 0s 7ms/step - loss: 0.2644 - accuracy: 0.9112 - val_loss: 0.1953 - val_accuracy: 0.9510\n",
            "Epoch 62/100\n",
            "7/7 [==============================] - 0s 7ms/step - loss: 0.2537 - accuracy: 0.9011 - val_loss: 0.1909 - val_accuracy: 0.9580\n",
            "Epoch 63/100\n",
            "7/7 [==============================] - 0s 7ms/step - loss: 0.2676 - accuracy: 0.9015 - val_loss: 0.1858 - val_accuracy: 0.9650\n",
            "Epoch 64/100\n",
            "7/7 [==============================] - 0s 7ms/step - loss: 0.2341 - accuracy: 0.9298 - val_loss: 0.1821 - val_accuracy: 0.9720\n",
            "Epoch 65/100\n",
            "7/7 [==============================] - 0s 7ms/step - loss: 0.2762 - accuracy: 0.8923 - val_loss: 0.1805 - val_accuracy: 0.9650\n",
            "Epoch 66/100\n",
            "7/7 [==============================] - 0s 7ms/step - loss: 0.2293 - accuracy: 0.9389 - val_loss: 0.1785 - val_accuracy: 0.9580\n",
            "Epoch 67/100\n",
            "7/7 [==============================] - 0s 7ms/step - loss: 0.2531 - accuracy: 0.9007 - val_loss: 0.1755 - val_accuracy: 0.9650\n",
            "Epoch 68/100\n",
            "7/7 [==============================] - 0s 7ms/step - loss: 0.2430 - accuracy: 0.8954 - val_loss: 0.1721 - val_accuracy: 0.9650\n",
            "Epoch 69/100\n",
            "7/7 [==============================] - 0s 8ms/step - loss: 0.2378 - accuracy: 0.9078 - val_loss: 0.1693 - val_accuracy: 0.9650\n",
            "Epoch 70/100\n",
            "7/7 [==============================] - 0s 8ms/step - loss: 0.2399 - accuracy: 0.9085 - val_loss: 0.1662 - val_accuracy: 0.9720\n",
            "Epoch 71/100\n",
            "7/7 [==============================] - 0s 7ms/step - loss: 0.2484 - accuracy: 0.9106 - val_loss: 0.1652 - val_accuracy: 0.9650\n",
            "Epoch 72/100\n",
            "7/7 [==============================] - 0s 7ms/step - loss: 0.2203 - accuracy: 0.9454 - val_loss: 0.1632 - val_accuracy: 0.9650\n",
            "Epoch 73/100\n",
            "7/7 [==============================] - 0s 7ms/step - loss: 0.2425 - accuracy: 0.8990 - val_loss: 0.1614 - val_accuracy: 0.9650\n",
            "Epoch 74/100\n",
            "7/7 [==============================] - 0s 7ms/step - loss: 0.2098 - accuracy: 0.9341 - val_loss: 0.1580 - val_accuracy: 0.9720\n",
            "Epoch 75/100\n",
            "7/7 [==============================] - 0s 7ms/step - loss: 0.2262 - accuracy: 0.9290 - val_loss: 0.1559 - val_accuracy: 0.9720\n",
            "Epoch 76/100\n",
            "7/7 [==============================] - 0s 7ms/step - loss: 0.2452 - accuracy: 0.9192 - val_loss: 0.1537 - val_accuracy: 0.9720\n",
            "Epoch 77/100\n",
            "7/7 [==============================] - 0s 8ms/step - loss: 0.2376 - accuracy: 0.9214 - val_loss: 0.1522 - val_accuracy: 0.9720\n",
            "Epoch 78/100\n",
            "7/7 [==============================] - 0s 7ms/step - loss: 0.2240 - accuracy: 0.9130 - val_loss: 0.1502 - val_accuracy: 0.9720\n",
            "Epoch 79/100\n",
            "7/7 [==============================] - 0s 8ms/step - loss: 0.2188 - accuracy: 0.9338 - val_loss: 0.1480 - val_accuracy: 0.9720\n",
            "Epoch 80/100\n",
            "7/7 [==============================] - 0s 7ms/step - loss: 0.2367 - accuracy: 0.8987 - val_loss: 0.1475 - val_accuracy: 0.9720\n",
            "Epoch 81/100\n",
            "7/7 [==============================] - 0s 8ms/step - loss: 0.2275 - accuracy: 0.9292 - val_loss: 0.1466 - val_accuracy: 0.9650\n",
            "Epoch 82/100\n",
            "7/7 [==============================] - 0s 8ms/step - loss: 0.2380 - accuracy: 0.9104 - val_loss: 0.1436 - val_accuracy: 0.9720\n",
            "Epoch 83/100\n",
            "7/7 [==============================] - 0s 7ms/step - loss: 0.2009 - accuracy: 0.9364 - val_loss: 0.1413 - val_accuracy: 0.9720\n",
            "Epoch 84/100\n",
            "7/7 [==============================] - 0s 7ms/step - loss: 0.2166 - accuracy: 0.9239 - val_loss: 0.1411 - val_accuracy: 0.9720\n",
            "Epoch 85/100\n",
            "7/7 [==============================] - 0s 7ms/step - loss: 0.2202 - accuracy: 0.9167 - val_loss: 0.1383 - val_accuracy: 0.9720\n",
            "Epoch 86/100\n",
            "7/7 [==============================] - 0s 8ms/step - loss: 0.2176 - accuracy: 0.9107 - val_loss: 0.1349 - val_accuracy: 0.9650\n",
            "Epoch 87/100\n",
            "7/7 [==============================] - 0s 7ms/step - loss: 0.2097 - accuracy: 0.9261 - val_loss: 0.1332 - val_accuracy: 0.9650\n",
            "Epoch 88/100\n",
            "7/7 [==============================] - 0s 7ms/step - loss: 0.2177 - accuracy: 0.9177 - val_loss: 0.1322 - val_accuracy: 0.9650\n",
            "Epoch 89/100\n",
            "7/7 [==============================] - 0s 7ms/step - loss: 0.2138 - accuracy: 0.9301 - val_loss: 0.1316 - val_accuracy: 0.9650\n",
            "Epoch 90/100\n",
            "7/7 [==============================] - 0s 7ms/step - loss: 0.2155 - accuracy: 0.9196 - val_loss: 0.1304 - val_accuracy: 0.9650\n",
            "Epoch 91/100\n",
            "7/7 [==============================] - 0s 8ms/step - loss: 0.1755 - accuracy: 0.9480 - val_loss: 0.1292 - val_accuracy: 0.9720\n",
            "Epoch 92/100\n",
            "7/7 [==============================] - 0s 8ms/step - loss: 0.1969 - accuracy: 0.9123 - val_loss: 0.1284 - val_accuracy: 0.9720\n",
            "Epoch 93/100\n",
            "7/7 [==============================] - 0s 8ms/step - loss: 0.2032 - accuracy: 0.9232 - val_loss: 0.1264 - val_accuracy: 0.9720\n",
            "Epoch 94/100\n",
            "7/7 [==============================] - 0s 7ms/step - loss: 0.1914 - accuracy: 0.9425 - val_loss: 0.1253 - val_accuracy: 0.9720\n",
            "Epoch 95/100\n",
            "7/7 [==============================] - 0s 7ms/step - loss: 0.2150 - accuracy: 0.9066 - val_loss: 0.1243 - val_accuracy: 0.9720\n",
            "Epoch 96/100\n",
            "7/7 [==============================] - 0s 8ms/step - loss: 0.1853 - accuracy: 0.9364 - val_loss: 0.1227 - val_accuracy: 0.9650\n",
            "Epoch 97/100\n",
            "7/7 [==============================] - 0s 7ms/step - loss: 0.1964 - accuracy: 0.9380 - val_loss: 0.1212 - val_accuracy: 0.9650\n",
            "Epoch 98/100\n",
            "7/7 [==============================] - 0s 8ms/step - loss: 0.1762 - accuracy: 0.9487 - val_loss: 0.1195 - val_accuracy: 0.9650\n",
            "Epoch 99/100\n",
            "7/7 [==============================] - 0s 7ms/step - loss: 0.1967 - accuracy: 0.9143 - val_loss: 0.1186 - val_accuracy: 0.9650\n",
            "Epoch 100/100\n",
            "7/7 [==============================] - 0s 8ms/step - loss: 0.1818 - accuracy: 0.9392 - val_loss: 0.1179 - val_accuracy: 0.9650\n"
          ],
          "name": "stdout"
        }
      ]
    },
    {
      "cell_type": "code",
      "metadata": {
        "colab": {
          "base_uri": "https://localhost:8080/",
          "height": 573
        },
        "id": "q0bcTioMY6Kb",
        "outputId": "7ba6203b-4e05-425c-9d1d-70136fca88aa"
      },
      "source": [
        "#plot the training and validation accuracy and loss at each epoch\n",
        "loss = history.history['loss']\n",
        "val_loss = history.history['val_loss']\n",
        "epochs = range(1,len(loss) + 1)\n",
        "plt.plot(epochs, loss, 'y', label='Training loss')\n",
        "plt.plot(epochs, val_loss, 'r', label='Validation loss')\n",
        "plt.title('Training and validation loss')\n",
        "plt.xlabel('Epochs')\n",
        "plt.ylabel('Loss')\n",
        "plt.legend()\n",
        "plt.show()\n",
        "\n",
        "acc = history.history['accuracy']\n",
        "val_acc = history.history['val_accuracy']\n",
        "plt.plot(epochs, acc, 'y', label='Training acc')\n",
        "plt.plot(epochs, val_acc, 'r', label='Validation acc')\n",
        "plt.title('Training and validation accuracy')\n",
        "plt.xlabel('Epochs')\n",
        "plt.ylabel('Accuracy')\n",
        "plt.legend()\n",
        "plt.show()"
      ],
      "execution_count": null,
      "outputs": [
        {
          "output_type": "display_data",
          "data": {
            "image/png": "[encoded data removed]",
            "text/plain": [
              "<Figure size 432x288 with 1 Axes>"
            ]
          },
          "metadata": {
            "tags": [],
            "needs_background": "light"
          }
        },
        {
          "output_type": "display_data",
          "data": {
            "image/png": "[encoded data removed]",
            "text/plain": [
              "<Figure size 432x288 with 1 Axes>"
            ]
          },
          "metadata": {
            "tags": [],
            "needs_background": "light"
          }
        }
      ]
    },
    {
      "cell_type": "code",
      "metadata": {
        "colab": {
          "base_uri": "https://localhost:8080/",
          "height": 286
        },
        "id": "eFab3j2heJmN",
        "outputId": "6f23125f-4e3b-422b-8ddb-f26c0f599eb0"
      },
      "source": [
        "# Predicting the Testset results\n",
        "y_pred = model.predict(X_test)\n",
        "y_pred = (y_pred > 0.5)\n",
        "\n",
        "# Making the Confusion Matrix\n",
        "from sklearn.metrics import confusion_matrix\n",
        "cm = confusion_matrix(y_test, y_pred)\n",
        "\n",
        "sns.heatmap(cm, annot=True)"
      ],
      "execution_count": null,
      "outputs": [
        {
          "output_type": "execute_result",
          "data": {
            "text/plain": [
              "<matplotlib.axes._subplots.AxesSubplot at 0x7f70325ad190>"
            ]
          },
          "metadata": {
            "tags": []
          },
          "execution_count": 41
        },
        {
          "output_type": "display_data",
          "data": {
            "image/png": "[encoded data removed]",
            "text/plain": [
              "<Figure size 432x288 with 2 Axes>"
            ]
          },
          "metadata": {
            "tags": [],
            "needs_background": "light"
          }
        }
      ]
    }
  ]
}