{
  "nbformat": 4,
  "nbformat_minor": 0,
  "metadata": {
    "colab": {
      "name": "DCGAN256x256_Pytorch.ipynb",
      "provenance": [],
      "authorship_tag": "ABX9TyOpoYWHe3jqbdqf1NWW8Gla",
      "include_colab_link": true
    },
    "kernelspec": {
      "name": "python3",
      "display_name": "Python 3"
    },
    "language_info": {
      "name": "python"
    },
    "accelerator": "GPU"
  },
  "cells": [
    {
      "cell_type": "markdown",
      "metadata": {
        "id": "view-in-github",
        "colab_type": "text"
      },
      "source": [
        "<a href=\"https://colab.research.google.com/github/patty1997/Deep_Learning_Projects/blob/GANs_Pytorch_Implementation/DCGAN256x256_Pytorch.ipynb\" target=\"_parent\"><img src=\"https://colab.research.google.com/assets/colab-badge.svg\" alt=\"Open In Colab\"/></a>"
      ]
    },
    {
      "cell_type": "code",
      "execution_count": 1,
      "metadata": {
        "id": "g3QdTMxAd5DM"
      },
      "outputs": [],
      "source": [
        "import torch\n",
        "from torch import nn\n",
        "from tqdm.auto import tqdm\n",
        "from torchvision import transforms\n",
        "from torchvision.datasets import MNIST\n",
        "from torchvision.utils import make_grid\n",
        "from torch.utils.data import DataLoader\n",
        "import matplotlib.pyplot as plt"
      ]
    },
    {
      "cell_type": "code",
      "source": [
        "def show_tensor_images(image_tensor, num_images = 25, size = (3, 256, 256)):\n",
        "  '''prints images in a uniform grid'''\n",
        "  image_tensor = (image_tensor + 1) / 2\n",
        "  image_unflat = image_tensor.detach().cpu()\n",
        "  image_grid = make_grid(image_unflat[:num_images], nrow = 5)\n",
        "  plt.imshow(image_grid.permute(1, 2, 0).squeeze())\n",
        "  plt.show()"
      ],
      "metadata": {
        "id": "KUOaJw0Flh9V"
      },
      "execution_count": 2,
      "outputs": []
    },
    {
      "cell_type": "code",
      "source": [
        "class Generator(nn.Module):\n",
        "  def __init__(self, z_dim = 4096, im_chan = 3, hidden_dim = 8) -> None:\n",
        "      super().__init__()\n",
        "      self.z_dim = z_dim\n",
        "      self.gen = nn.Sequential(\n",
        "          self.make_gen_block(z_dim, hidden_dim * 32, kernal_size = 4, initial_layer = True),\n",
        "          self.make_gen_block(hidden_dim * 32, hidden_dim * 32, kernel_size = 4),\n",
        "          self.make_gen_block(hidden_dim * 32, hidden_dim * 16, kernel_size = 4),\n",
        "          self.make_gen_block(hidden_dim * 16, hidden_dim * 8),\n",
        "          self.make_gen_block(hidden_dim * 8, hidden_dim * 4),\n",
        "          self.make_gen_block(hidden_dim * 4, hidden_dim * 2),\n",
        "          self.make_gen_block(hidden_dim * 2, hidden_dim),\n",
        "          self.make_gen_block(hidden_dim, im_chan, final_layer = True)\n",
        "      )\n",
        "\n",
        "  def make_gen_block(self, input_channels, output_channels, kernel_size = 3, stride = 1, final_layer = False, initial_layer = False):\n",
        "    if not final_layer and not initial_layer:\n",
        "      return nn.Sequential(\n",
        "          nn.Conv2d(input_channels, output_channels, kernel_size , stride),\n",
        "          nn.BatchNorm2d(momentum=0.7),\n",
        "          nn.ReLU(),\n",
        "          nn.Upsample()\n",
        "      )\n",
        "    elif initial_layer:\n",
        "        return nn.Sequential(\n",
        "          nn.ConvTranspose2d(input_channels, output_channels, kernel_size, stride),\n",
        "          nn.ReLU()  \n",
        "        )\n",
        "    else:\n",
        "      return  nn.Sequential(\n",
        "          nn.Conv2d(input_channels, output_channels, kernel_size, stride),\n",
        "          nn.Sigmoid()\n",
        "      )\n",
        "    \n",
        "  def unsqueeze_noise(self, noise):\n",
        "    return noise.view(len(noise), self.z_dim, 1, 1)\n",
        "\n",
        "  def forward(self, noise):\n",
        "    x = self.unqueeze_noise(noise)\n",
        "    return self.gen(x)\n",
        "        \n"
      ],
      "metadata": {
        "id": "Kh0xt49zh1VU"
      },
      "execution_count": 3,
      "outputs": []
    },
    {
      "cell_type": "code",
      "source": [
        "def get_noise(n_samples, z_dim, device = 'cpu'):\n",
        "  return torch.randn(n_samples, z_dim, device = device)"
      ],
      "metadata": {
        "id": "REjRQPorv3d2"
      },
      "execution_count": 4,
      "outputs": []
    },
    {
      "cell_type": "code",
      "source": [
        "class Discriminator(nn.Module):\n",
        "  def __init__(self, im_chan = 3, hidden_dim = 8) -> None:\n",
        "      super().__init__()\n",
        "      self.z_dim = z_dim\n",
        "      self.gen = nn.Sequential(\n",
        "          self.make_gen_block(z_dim, hidden_dim * )\n",
        "      )"
      ],
      "metadata": {
        "id": "WO6nPmB4wHlm"
      },
      "execution_count": null,
      "outputs": []
    }
  ]
}